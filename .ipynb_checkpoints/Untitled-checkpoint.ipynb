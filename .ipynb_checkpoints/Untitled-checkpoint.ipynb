{
 "cells": [
  {
   "cell_type": "markdown",
   "metadata": {},
   "source": [
    "1. Assign Working Directory\n",
    "2. Import necessary libraries\n",
    "3. Import dataset\n",
    "3. Split: Train Test Split\n",
    "4. Basic commands\n",
    "5. Impute: Imputing missing values\n",
    "6. Exploratory Data Analysis\n",
    "7. Scaling numerical variables and encoding categorical variables\n",
    "8. Relationship between columns\n",
    "9. Feature Selection\n",
    "10. Principal Component Analysis\n",
    "11. Model: train machine learning algorithms\n",
    "    * Linear regression"
   ]
  },
  {
   "cell_type": "markdown",
   "metadata": {},
   "source": [
    "# Assign Working Directory"
   ]
  },
  {
   "cell_type": "code",
   "execution_count": 2,
   "metadata": {},
   "outputs": [],
   "source": [
    "import os\n",
    "os.chdir('C:/Users/Darshan/Desktop/property_price_prediction_project')"
   ]
  },
  {
   "cell_type": "markdown",
   "metadata": {},
   "source": [
    "# Import necessary libraries"
   ]
  },
  {
   "cell_type": "code",
   "execution_count": 3,
   "metadata": {},
   "outputs": [],
   "source": [
    "import numpy as np\n",
    "import pandas as pd\n",
    "import matplotlib.pyplot as plt\n",
    "import seaborn as sns\n",
    "%matplotlib inline\n",
    "\n",
    "from sklearn.model_selection import train_test_split"
   ]
  },
  {
   "cell_type": "code",
   "execution_count": 4,
   "metadata": {},
   "outputs": [],
   "source": [
    "pd.options.display.max_rows = 90"
   ]
  },
  {
   "cell_type": "markdown",
   "metadata": {},
   "source": [
    "# Import Dataset"
   ]
  },
  {
   "cell_type": "code",
   "execution_count": 5,
   "metadata": {},
   "outputs": [],
   "source": [
    "df = pd.read_csv('C:/Users/Darshan/Desktop/property_price_prediction_project/Dataset/HousePrices.csv')"
   ]
  },
  {
   "cell_type": "code",
   "execution_count": 6,
   "metadata": {
    "scrolled": true
   },
   "outputs": [
    {
     "data": {
      "text/html": [
       "<div>\n",
       "<style scoped>\n",
       "    .dataframe tbody tr th:only-of-type {\n",
       "        vertical-align: middle;\n",
       "    }\n",
       "\n",
       "    .dataframe tbody tr th {\n",
       "        vertical-align: top;\n",
       "    }\n",
       "\n",
       "    .dataframe thead th {\n",
       "        text-align: right;\n",
       "    }\n",
       "</style>\n",
       "<table border=\"1\" class=\"dataframe\">\n",
       "  <thead>\n",
       "    <tr style=\"text-align: right;\">\n",
       "      <th></th>\n",
       "      <th>Id</th>\n",
       "      <th>Dwell_Type</th>\n",
       "      <th>Zone_Class</th>\n",
       "      <th>LotFrontage</th>\n",
       "      <th>LotArea</th>\n",
       "      <th>Road_Type</th>\n",
       "      <th>Alley</th>\n",
       "      <th>Property_Shape</th>\n",
       "      <th>LandContour</th>\n",
       "      <th>Utilities</th>\n",
       "      <th>...</th>\n",
       "      <th>PoolArea</th>\n",
       "      <th>PoolQC</th>\n",
       "      <th>Fence</th>\n",
       "      <th>MiscFeature</th>\n",
       "      <th>MiscVal</th>\n",
       "      <th>MoSold</th>\n",
       "      <th>YrSold</th>\n",
       "      <th>SaleType</th>\n",
       "      <th>SaleCondition</th>\n",
       "      <th>Property_Sale_Price</th>\n",
       "    </tr>\n",
       "  </thead>\n",
       "  <tbody>\n",
       "    <tr>\n",
       "      <th>0</th>\n",
       "      <td>1</td>\n",
       "      <td>60</td>\n",
       "      <td>RL</td>\n",
       "      <td>65.0</td>\n",
       "      <td>8450</td>\n",
       "      <td>Pave</td>\n",
       "      <td>NaN</td>\n",
       "      <td>Reg</td>\n",
       "      <td>Lvl</td>\n",
       "      <td>AllPub</td>\n",
       "      <td>...</td>\n",
       "      <td>0</td>\n",
       "      <td>NaN</td>\n",
       "      <td>NaN</td>\n",
       "      <td>NaN</td>\n",
       "      <td>0</td>\n",
       "      <td>2</td>\n",
       "      <td>2008</td>\n",
       "      <td>WD</td>\n",
       "      <td>Normal</td>\n",
       "      <td>208500</td>\n",
       "    </tr>\n",
       "    <tr>\n",
       "      <th>1</th>\n",
       "      <td>2</td>\n",
       "      <td>20</td>\n",
       "      <td>RL</td>\n",
       "      <td>80.0</td>\n",
       "      <td>9600</td>\n",
       "      <td>Pave</td>\n",
       "      <td>NaN</td>\n",
       "      <td>Reg</td>\n",
       "      <td>Lvl</td>\n",
       "      <td>AllPub</td>\n",
       "      <td>...</td>\n",
       "      <td>0</td>\n",
       "      <td>NaN</td>\n",
       "      <td>NaN</td>\n",
       "      <td>NaN</td>\n",
       "      <td>0</td>\n",
       "      <td>5</td>\n",
       "      <td>2007</td>\n",
       "      <td>WD</td>\n",
       "      <td>Normal</td>\n",
       "      <td>181500</td>\n",
       "    </tr>\n",
       "    <tr>\n",
       "      <th>2</th>\n",
       "      <td>3</td>\n",
       "      <td>60</td>\n",
       "      <td>RL</td>\n",
       "      <td>68.0</td>\n",
       "      <td>11250</td>\n",
       "      <td>Pave</td>\n",
       "      <td>NaN</td>\n",
       "      <td>IR1</td>\n",
       "      <td>Lvl</td>\n",
       "      <td>AllPub</td>\n",
       "      <td>...</td>\n",
       "      <td>0</td>\n",
       "      <td>NaN</td>\n",
       "      <td>NaN</td>\n",
       "      <td>NaN</td>\n",
       "      <td>0</td>\n",
       "      <td>9</td>\n",
       "      <td>2008</td>\n",
       "      <td>WD</td>\n",
       "      <td>Normal</td>\n",
       "      <td>223500</td>\n",
       "    </tr>\n",
       "    <tr>\n",
       "      <th>3</th>\n",
       "      <td>4</td>\n",
       "      <td>70</td>\n",
       "      <td>RL</td>\n",
       "      <td>60.0</td>\n",
       "      <td>9550</td>\n",
       "      <td>Pave</td>\n",
       "      <td>NaN</td>\n",
       "      <td>IR1</td>\n",
       "      <td>Lvl</td>\n",
       "      <td>AllPub</td>\n",
       "      <td>...</td>\n",
       "      <td>0</td>\n",
       "      <td>NaN</td>\n",
       "      <td>NaN</td>\n",
       "      <td>NaN</td>\n",
       "      <td>0</td>\n",
       "      <td>2</td>\n",
       "      <td>2006</td>\n",
       "      <td>WD</td>\n",
       "      <td>Abnorml</td>\n",
       "      <td>140000</td>\n",
       "    </tr>\n",
       "    <tr>\n",
       "      <th>4</th>\n",
       "      <td>5</td>\n",
       "      <td>60</td>\n",
       "      <td>RL</td>\n",
       "      <td>84.0</td>\n",
       "      <td>14260</td>\n",
       "      <td>Pave</td>\n",
       "      <td>NaN</td>\n",
       "      <td>IR1</td>\n",
       "      <td>Lvl</td>\n",
       "      <td>AllPub</td>\n",
       "      <td>...</td>\n",
       "      <td>0</td>\n",
       "      <td>NaN</td>\n",
       "      <td>NaN</td>\n",
       "      <td>NaN</td>\n",
       "      <td>0</td>\n",
       "      <td>12</td>\n",
       "      <td>2008</td>\n",
       "      <td>WD</td>\n",
       "      <td>Normal</td>\n",
       "      <td>250000</td>\n",
       "    </tr>\n",
       "  </tbody>\n",
       "</table>\n",
       "<p>5 rows × 81 columns</p>\n",
       "</div>"
      ],
      "text/plain": [
       "   Id  Dwell_Type Zone_Class  LotFrontage  LotArea Road_Type Alley  \\\n",
       "0   1          60         RL         65.0     8450      Pave   NaN   \n",
       "1   2          20         RL         80.0     9600      Pave   NaN   \n",
       "2   3          60         RL         68.0    11250      Pave   NaN   \n",
       "3   4          70         RL         60.0     9550      Pave   NaN   \n",
       "4   5          60         RL         84.0    14260      Pave   NaN   \n",
       "\n",
       "  Property_Shape LandContour Utilities  ... PoolArea PoolQC Fence MiscFeature  \\\n",
       "0            Reg         Lvl    AllPub  ...        0    NaN   NaN         NaN   \n",
       "1            Reg         Lvl    AllPub  ...        0    NaN   NaN         NaN   \n",
       "2            IR1         Lvl    AllPub  ...        0    NaN   NaN         NaN   \n",
       "3            IR1         Lvl    AllPub  ...        0    NaN   NaN         NaN   \n",
       "4            IR1         Lvl    AllPub  ...        0    NaN   NaN         NaN   \n",
       "\n",
       "  MiscVal MoSold YrSold  SaleType  SaleCondition  Property_Sale_Price  \n",
       "0       0      2   2008        WD         Normal               208500  \n",
       "1       0      5   2007        WD         Normal               181500  \n",
       "2       0      9   2008        WD         Normal               223500  \n",
       "3       0      2   2006        WD        Abnorml               140000  \n",
       "4       0     12   2008        WD         Normal               250000  \n",
       "\n",
       "[5 rows x 81 columns]"
      ]
     },
     "execution_count": 6,
     "metadata": {},
     "output_type": "execute_result"
    }
   ],
   "source": [
    "df.head()"
   ]
  },
  {
   "cell_type": "code",
   "execution_count": 7,
   "metadata": {},
   "outputs": [
    {
     "data": {
      "text/html": [
       "<div>\n",
       "<style scoped>\n",
       "    .dataframe tbody tr th:only-of-type {\n",
       "        vertical-align: middle;\n",
       "    }\n",
       "\n",
       "    .dataframe tbody tr th {\n",
       "        vertical-align: top;\n",
       "    }\n",
       "\n",
       "    .dataframe thead th {\n",
       "        text-align: right;\n",
       "    }\n",
       "</style>\n",
       "<table border=\"1\" class=\"dataframe\">\n",
       "  <thead>\n",
       "    <tr style=\"text-align: right;\">\n",
       "      <th></th>\n",
       "      <th>description</th>\n",
       "    </tr>\n",
       "    <tr>\n",
       "      <th>0</th>\n",
       "      <th></th>\n",
       "    </tr>\n",
       "  </thead>\n",
       "  <tbody>\n",
       "    <tr>\n",
       "      <th>Id</th>\n",
       "      <td>Identification number of the property</td>\n",
       "    </tr>\n",
       "    <tr>\n",
       "      <th>Dwell_Type</th>\n",
       "      <td>Identifies the type of dwelling involved in th...</td>\n",
       "    </tr>\n",
       "    <tr>\n",
       "      <th>Zone_Class</th>\n",
       "      <td>Identifies the general zoning classification o...</td>\n",
       "    </tr>\n",
       "    <tr>\n",
       "      <th>LotFrontage</th>\n",
       "      <td>Linear feet of street-connected to the property</td>\n",
       "    </tr>\n",
       "    <tr>\n",
       "      <th>LotArea</th>\n",
       "      <td>Lot size is the lot or parcel side where it ad...</td>\n",
       "    </tr>\n",
       "  </tbody>\n",
       "</table>\n",
       "</div>"
      ],
      "text/plain": [
       "                                                   description\n",
       "0                                                             \n",
       "Id                       Identification number of the property\n",
       "Dwell_Type   Identifies the type of dwelling involved in th...\n",
       "Zone_Class   Identifies the general zoning classification o...\n",
       "LotFrontage    Linear feet of street-connected to the property\n",
       "LotArea      Lot size is the lot or parcel side where it ad..."
      ]
     },
     "execution_count": 7,
     "metadata": {},
     "output_type": "execute_result"
    }
   ],
   "source": [
    "df_desc = pd.read_csv('C:/Users/Darshan/Desktop/property_price_prediction_project/Dataset/desc1.csv', header=None)\n",
    "df_desc.index = df_desc[0]\n",
    "df_desc.drop(labels=[0], axis=1, inplace=True)\n",
    "df_desc.columns = ['description']\n",
    "df_desc.head()"
   ]
  },
  {
   "cell_type": "code",
   "execution_count": 8,
   "metadata": {},
   "outputs": [
    {
     "data": {
      "text/plain": [
       "(2073, 81)"
      ]
     },
     "execution_count": 8,
     "metadata": {},
     "output_type": "execute_result"
    }
   ],
   "source": [
    "df.shape"
   ]
  },
  {
   "cell_type": "markdown",
   "metadata": {},
   "source": [
    "# Split: train test split"
   ]
  },
  {
   "cell_type": "code",
   "execution_count": 9,
   "metadata": {},
   "outputs": [
    {
     "data": {
      "text/plain": [
       "Index(['Id', 'Dwell_Type', 'Zone_Class', 'LotFrontage', 'LotArea', 'Road_Type',\n",
       "       'Alley', 'Property_Shape', 'LandContour', 'Utilities', 'LotConfig',\n",
       "       'LandSlope', 'Neighborhood', 'Condition1', 'Condition2',\n",
       "       'Dwelling_Type', 'HouseStyle', 'OverallQual', 'OverallCond',\n",
       "       'YearBuilt', 'YearRemodAdd', 'RoofStyle', 'RoofMatl', 'Exterior1st',\n",
       "       'Exterior2nd', 'MasVnrType', 'MasVnrArea', 'ExterQual', 'ExterCond',\n",
       "       'Foundation', 'BsmtQual', 'BsmtCond', 'BsmtExposure', 'BsmtFinType1',\n",
       "       'BsmtFinSF1', 'BsmtFinType2', 'BsmtFinSF2', 'BsmtUnfSF', 'TotalBsmtSF',\n",
       "       'Heating', 'HeatingQC', 'CentralAir', 'Electrical', '1stFlrSF',\n",
       "       '2ndFlrSF', 'LowQualFinSF', 'GrLivArea', 'BsmtFullBath', 'BsmtHalfBath',\n",
       "       'FullBath', 'HalfBath', 'BedroomAbvGr', 'KitchenAbvGr', 'KitchenQual',\n",
       "       'TotRmsAbvGrd', 'Functional', 'Fireplaces', 'FireplaceQu', 'GarageType',\n",
       "       'GarageYrBlt', 'GarageFinish', 'GarageCars', 'GarageArea', 'GarageQual',\n",
       "       'GarageCond', 'PavedDrive', 'WoodDeckSF', 'OpenPorchSF',\n",
       "       'EnclosedPorch', '3SsnPorch', 'ScreenPorch', 'PoolArea', 'PoolQC',\n",
       "       'Fence', 'MiscFeature', 'MiscVal', 'MoSold', 'YrSold', 'SaleType',\n",
       "       'SaleCondition', 'Property_Sale_Price'],\n",
       "      dtype='object')"
      ]
     },
     "execution_count": 9,
     "metadata": {},
     "output_type": "execute_result"
    }
   ],
   "source": [
    "df.columns"
   ]
  },
  {
   "cell_type": "code",
   "execution_count": 10,
   "metadata": {},
   "outputs": [],
   "source": [
    "X = df.iloc[:,:-1]\n",
    "y = df.iloc[:,-1]"
   ]
  },
  {
   "cell_type": "code",
   "execution_count": 11,
   "metadata": {},
   "outputs": [
    {
     "data": {
      "text/plain": [
       "Index(['Id', 'Dwell_Type', 'Zone_Class', 'LotFrontage', 'LotArea', 'Road_Type',\n",
       "       'Alley', 'Property_Shape', 'LandContour', 'Utilities', 'LotConfig',\n",
       "       'LandSlope', 'Neighborhood', 'Condition1', 'Condition2',\n",
       "       'Dwelling_Type', 'HouseStyle', 'OverallQual', 'OverallCond',\n",
       "       'YearBuilt', 'YearRemodAdd', 'RoofStyle', 'RoofMatl', 'Exterior1st',\n",
       "       'Exterior2nd', 'MasVnrType', 'MasVnrArea', 'ExterQual', 'ExterCond',\n",
       "       'Foundation', 'BsmtQual', 'BsmtCond', 'BsmtExposure', 'BsmtFinType1',\n",
       "       'BsmtFinSF1', 'BsmtFinType2', 'BsmtFinSF2', 'BsmtUnfSF', 'TotalBsmtSF',\n",
       "       'Heating', 'HeatingQC', 'CentralAir', 'Electrical', '1stFlrSF',\n",
       "       '2ndFlrSF', 'LowQualFinSF', 'GrLivArea', 'BsmtFullBath', 'BsmtHalfBath',\n",
       "       'FullBath', 'HalfBath', 'BedroomAbvGr', 'KitchenAbvGr', 'KitchenQual',\n",
       "       'TotRmsAbvGrd', 'Functional', 'Fireplaces', 'FireplaceQu', 'GarageType',\n",
       "       'GarageYrBlt', 'GarageFinish', 'GarageCars', 'GarageArea', 'GarageQual',\n",
       "       'GarageCond', 'PavedDrive', 'WoodDeckSF', 'OpenPorchSF',\n",
       "       'EnclosedPorch', '3SsnPorch', 'ScreenPorch', 'PoolArea', 'PoolQC',\n",
       "       'Fence', 'MiscFeature', 'MiscVal', 'MoSold', 'YrSold', 'SaleType',\n",
       "       'SaleCondition'],\n",
       "      dtype='object')"
      ]
     },
     "execution_count": 11,
     "metadata": {},
     "output_type": "execute_result"
    }
   ],
   "source": [
    "X.columns"
   ]
  },
  {
   "cell_type": "code",
   "execution_count": 12,
   "metadata": {},
   "outputs": [
    {
     "data": {
      "text/plain": [
       "0    208500\n",
       "1    181500\n",
       "2    223500\n",
       "3    140000\n",
       "4    250000\n",
       "Name: Property_Sale_Price, dtype: int64"
      ]
     },
     "execution_count": 12,
     "metadata": {},
     "output_type": "execute_result"
    }
   ],
   "source": [
    "y.head()"
   ]
  },
  {
   "cell_type": "code",
   "execution_count": 13,
   "metadata": {},
   "outputs": [],
   "source": [
    "X_train, X_test, y_train, y_test = train_test_split(X, y, test_size=0.2, random_state=42)"
   ]
  },
  {
   "cell_type": "code",
   "execution_count": 14,
   "metadata": {},
   "outputs": [
    {
     "data": {
      "text/plain": [
       "(1658, 80)"
      ]
     },
     "execution_count": 14,
     "metadata": {},
     "output_type": "execute_result"
    }
   ],
   "source": [
    "X_train.shape"
   ]
  },
  {
   "cell_type": "code",
   "execution_count": null,
   "metadata": {},
   "outputs": [],
   "source": []
  },
  {
   "cell_type": "markdown",
   "metadata": {},
   "source": [
    "# Basic Commands"
   ]
  },
  {
   "cell_type": "code",
   "execution_count": 15,
   "metadata": {},
   "outputs": [
    {
     "data": {
      "text/html": [
       "<div>\n",
       "<style scoped>\n",
       "    .dataframe tbody tr th:only-of-type {\n",
       "        vertical-align: middle;\n",
       "    }\n",
       "\n",
       "    .dataframe tbody tr th {\n",
       "        vertical-align: top;\n",
       "    }\n",
       "\n",
       "    .dataframe thead th {\n",
       "        text-align: right;\n",
       "    }\n",
       "</style>\n",
       "<table border=\"1\" class=\"dataframe\">\n",
       "  <thead>\n",
       "    <tr style=\"text-align: right;\">\n",
       "      <th></th>\n",
       "      <th>Id</th>\n",
       "      <th>Dwell_Type</th>\n",
       "      <th>Zone_Class</th>\n",
       "      <th>LotFrontage</th>\n",
       "      <th>LotArea</th>\n",
       "      <th>Road_Type</th>\n",
       "      <th>Alley</th>\n",
       "      <th>Property_Shape</th>\n",
       "      <th>LandContour</th>\n",
       "      <th>Utilities</th>\n",
       "      <th>...</th>\n",
       "      <th>ScreenPorch</th>\n",
       "      <th>PoolArea</th>\n",
       "      <th>PoolQC</th>\n",
       "      <th>Fence</th>\n",
       "      <th>MiscFeature</th>\n",
       "      <th>MiscVal</th>\n",
       "      <th>MoSold</th>\n",
       "      <th>YrSold</th>\n",
       "      <th>SaleType</th>\n",
       "      <th>SaleCondition</th>\n",
       "    </tr>\n",
       "  </thead>\n",
       "  <tbody>\n",
       "    <tr>\n",
       "      <th>1743</th>\n",
       "      <td>1744</td>\n",
       "      <td>80</td>\n",
       "      <td>RL</td>\n",
       "      <td>73.0</td>\n",
       "      <td>9674</td>\n",
       "      <td>Pave</td>\n",
       "      <td>NaN</td>\n",
       "      <td>IR1</td>\n",
       "      <td>Lvl</td>\n",
       "      <td>AllPub</td>\n",
       "      <td>...</td>\n",
       "      <td>0</td>\n",
       "      <td>0</td>\n",
       "      <td>NaN</td>\n",
       "      <td>NaN</td>\n",
       "      <td>NaN</td>\n",
       "      <td>0</td>\n",
       "      <td>5</td>\n",
       "      <td>2007</td>\n",
       "      <td>WD</td>\n",
       "      <td>Normal</td>\n",
       "    </tr>\n",
       "    <tr>\n",
       "      <th>1640</th>\n",
       "      <td>1641</td>\n",
       "      <td>20</td>\n",
       "      <td>RL</td>\n",
       "      <td>98.0</td>\n",
       "      <td>10942</td>\n",
       "      <td>Pave</td>\n",
       "      <td>NaN</td>\n",
       "      <td>Reg</td>\n",
       "      <td>Lvl</td>\n",
       "      <td>AllPub</td>\n",
       "      <td>...</td>\n",
       "      <td>0</td>\n",
       "      <td>0</td>\n",
       "      <td>NaN</td>\n",
       "      <td>GdWo</td>\n",
       "      <td>NaN</td>\n",
       "      <td>0</td>\n",
       "      <td>6</td>\n",
       "      <td>2007</td>\n",
       "      <td>WD</td>\n",
       "      <td>Normal</td>\n",
       "    </tr>\n",
       "    <tr>\n",
       "      <th>2028</th>\n",
       "      <td>902</td>\n",
       "      <td>20</td>\n",
       "      <td>RL</td>\n",
       "      <td>64.0</td>\n",
       "      <td>8712</td>\n",
       "      <td>Pave</td>\n",
       "      <td>NaN</td>\n",
       "      <td>IR1</td>\n",
       "      <td>Lvl</td>\n",
       "      <td>AllPub</td>\n",
       "      <td>...</td>\n",
       "      <td>0</td>\n",
       "      <td>0</td>\n",
       "      <td>NaN</td>\n",
       "      <td>NaN</td>\n",
       "      <td>NaN</td>\n",
       "      <td>0</td>\n",
       "      <td>5</td>\n",
       "      <td>2009</td>\n",
       "      <td>WD</td>\n",
       "      <td>Normal</td>\n",
       "    </tr>\n",
       "    <tr>\n",
       "      <th>1432</th>\n",
       "      <td>1433</td>\n",
       "      <td>30</td>\n",
       "      <td>RL</td>\n",
       "      <td>60.0</td>\n",
       "      <td>10800</td>\n",
       "      <td>Pave</td>\n",
       "      <td>Grvl</td>\n",
       "      <td>Reg</td>\n",
       "      <td>Lvl</td>\n",
       "      <td>AllPub</td>\n",
       "      <td>...</td>\n",
       "      <td>0</td>\n",
       "      <td>0</td>\n",
       "      <td>NaN</td>\n",
       "      <td>NaN</td>\n",
       "      <td>NaN</td>\n",
       "      <td>0</td>\n",
       "      <td>8</td>\n",
       "      <td>2007</td>\n",
       "      <td>WD</td>\n",
       "      <td>Normal</td>\n",
       "    </tr>\n",
       "    <tr>\n",
       "      <th>1586</th>\n",
       "      <td>1587</td>\n",
       "      <td>85</td>\n",
       "      <td>RL</td>\n",
       "      <td>77.0</td>\n",
       "      <td>10786</td>\n",
       "      <td>Pave</td>\n",
       "      <td>NaN</td>\n",
       "      <td>IR1</td>\n",
       "      <td>Lvl</td>\n",
       "      <td>AllPub</td>\n",
       "      <td>...</td>\n",
       "      <td>0</td>\n",
       "      <td>0</td>\n",
       "      <td>NaN</td>\n",
       "      <td>MnPrv</td>\n",
       "      <td>NaN</td>\n",
       "      <td>0</td>\n",
       "      <td>12</td>\n",
       "      <td>2007</td>\n",
       "      <td>WD</td>\n",
       "      <td>Normal</td>\n",
       "    </tr>\n",
       "  </tbody>\n",
       "</table>\n",
       "<p>5 rows × 80 columns</p>\n",
       "</div>"
      ],
      "text/plain": [
       "        Id  Dwell_Type Zone_Class  LotFrontage  LotArea Road_Type Alley  \\\n",
       "1743  1744          80         RL         73.0     9674      Pave   NaN   \n",
       "1640  1641          20         RL         98.0    10942      Pave   NaN   \n",
       "2028   902          20         RL         64.0     8712      Pave   NaN   \n",
       "1432  1433          30         RL         60.0    10800      Pave  Grvl   \n",
       "1586  1587          85         RL         77.0    10786      Pave   NaN   \n",
       "\n",
       "     Property_Shape LandContour Utilities  ... ScreenPorch PoolArea PoolQC  \\\n",
       "1743            IR1         Lvl    AllPub  ...           0        0    NaN   \n",
       "1640            Reg         Lvl    AllPub  ...           0        0    NaN   \n",
       "2028            IR1         Lvl    AllPub  ...           0        0    NaN   \n",
       "1432            Reg         Lvl    AllPub  ...           0        0    NaN   \n",
       "1586            IR1         Lvl    AllPub  ...           0        0    NaN   \n",
       "\n",
       "      Fence MiscFeature MiscVal MoSold  YrSold  SaleType  SaleCondition  \n",
       "1743    NaN         NaN       0      5    2007        WD         Normal  \n",
       "1640   GdWo         NaN       0      6    2007        WD         Normal  \n",
       "2028    NaN         NaN       0      5    2009        WD         Normal  \n",
       "1432    NaN         NaN       0      8    2007        WD         Normal  \n",
       "1586  MnPrv         NaN       0     12    2007        WD         Normal  \n",
       "\n",
       "[5 rows x 80 columns]"
      ]
     },
     "execution_count": 15,
     "metadata": {},
     "output_type": "execute_result"
    }
   ],
   "source": [
    "X_train.head()"
   ]
  },
  {
   "cell_type": "code",
   "execution_count": 16,
   "metadata": {},
   "outputs": [
    {
     "name": "stdout",
     "output_type": "stream",
     "text": [
      "<class 'pandas.core.frame.DataFrame'>\n",
      "Int64Index: 1658 entries, 1743 to 860\n",
      "Data columns (total 80 columns):\n",
      " #   Column          Non-Null Count  Dtype  \n",
      "---  ------          --------------  -----  \n",
      " 0   Id              1658 non-null   int64  \n",
      " 1   Dwell_Type      1658 non-null   int64  \n",
      " 2   Zone_Class      1658 non-null   object \n",
      " 3   LotFrontage     1401 non-null   float64\n",
      " 4   LotArea         1658 non-null   int64  \n",
      " 5   Road_Type       1658 non-null   object \n",
      " 6   Alley           104 non-null    object \n",
      " 7   Property_Shape  1658 non-null   object \n",
      " 8   LandContour     1658 non-null   object \n",
      " 9   Utilities       1658 non-null   object \n",
      " 10  LotConfig       1658 non-null   object \n",
      " 11  LandSlope       1658 non-null   object \n",
      " 12  Neighborhood    1658 non-null   object \n",
      " 13  Condition1      1658 non-null   object \n",
      " 14  Condition2      1658 non-null   object \n",
      " 15  Dwelling_Type   1658 non-null   object \n",
      " 16  HouseStyle      1658 non-null   object \n",
      " 17  OverallQual     1658 non-null   int64  \n",
      " 18  OverallCond     1658 non-null   int64  \n",
      " 19  YearBuilt       1658 non-null   int64  \n",
      " 20  YearRemodAdd    1658 non-null   int64  \n",
      " 21  RoofStyle       1658 non-null   object \n",
      " 22  RoofMatl        1658 non-null   object \n",
      " 23  Exterior1st     1658 non-null   object \n",
      " 24  Exterior2nd     1658 non-null   object \n",
      " 25  MasVnrType      1648 non-null   object \n",
      " 26  MasVnrArea      1648 non-null   float64\n",
      " 27  ExterQual       1658 non-null   object \n",
      " 28  ExterCond       1658 non-null   object \n",
      " 29  Foundation      1658 non-null   object \n",
      " 30  BsmtQual        1610 non-null   object \n",
      " 31  BsmtCond        1610 non-null   object \n",
      " 32  BsmtExposure    1608 non-null   object \n",
      " 33  BsmtFinType1    1610 non-null   object \n",
      " 34  BsmtFinSF1      1658 non-null   int64  \n",
      " 35  BsmtFinType2    1609 non-null   object \n",
      " 36  BsmtFinSF2      1658 non-null   int64  \n",
      " 37  BsmtUnfSF       1658 non-null   int64  \n",
      " 38  TotalBsmtSF     1658 non-null   int64  \n",
      " 39  Heating         1658 non-null   object \n",
      " 40  HeatingQC       1658 non-null   object \n",
      " 41  CentralAir      1658 non-null   object \n",
      " 42  Electrical      1658 non-null   object \n",
      " 43  1stFlrSF        1658 non-null   int64  \n",
      " 44  2ndFlrSF        1658 non-null   int64  \n",
      " 45  LowQualFinSF    1658 non-null   int64  \n",
      " 46  GrLivArea       1658 non-null   int64  \n",
      " 47  BsmtFullBath    1658 non-null   int64  \n",
      " 48  BsmtHalfBath    1658 non-null   int64  \n",
      " 49  FullBath        1658 non-null   int64  \n",
      " 50  HalfBath        1658 non-null   int64  \n",
      " 51  BedroomAbvGr    1658 non-null   int64  \n",
      " 52  KitchenAbvGr    1658 non-null   int64  \n",
      " 53  KitchenQual     1658 non-null   object \n",
      " 54  TotRmsAbvGrd    1658 non-null   int64  \n",
      " 55  Functional      1658 non-null   object \n",
      " 56  Fireplaces      1658 non-null   int64  \n",
      " 57  FireplaceQu     876 non-null    object \n",
      " 58  GarageType      1568 non-null   object \n",
      " 59  GarageYrBlt     1568 non-null   float64\n",
      " 60  GarageFinish    1568 non-null   object \n",
      " 61  GarageCars      1658 non-null   int64  \n",
      " 62  GarageArea      1658 non-null   int64  \n",
      " 63  GarageQual      1568 non-null   object \n",
      " 64  GarageCond      1568 non-null   object \n",
      " 65  PavedDrive      1658 non-null   object \n",
      " 66  WoodDeckSF      1658 non-null   int64  \n",
      " 67  OpenPorchSF     1658 non-null   int64  \n",
      " 68  EnclosedPorch   1658 non-null   int64  \n",
      " 69  3SsnPorch       1658 non-null   int64  \n",
      " 70  ScreenPorch     1658 non-null   int64  \n",
      " 71  PoolArea        1658 non-null   int64  \n",
      " 72  PoolQC          5 non-null      object \n",
      " 73  Fence           307 non-null    object \n",
      " 74  MiscFeature     63 non-null     object \n",
      " 75  MiscVal         1658 non-null   int64  \n",
      " 76  MoSold          1658 non-null   int64  \n",
      " 77  YrSold          1658 non-null   int64  \n",
      " 78  SaleType        1658 non-null   object \n",
      " 79  SaleCondition   1658 non-null   object \n",
      "dtypes: float64(3), int64(34), object(43)\n",
      "memory usage: 1.0+ MB\n"
     ]
    }
   ],
   "source": [
    "X_train.info()"
   ]
  },
  {
   "cell_type": "code",
   "execution_count": 17,
   "metadata": {},
   "outputs": [
    {
     "data": {
      "text/html": [
       "<div>\n",
       "<style scoped>\n",
       "    .dataframe tbody tr th:only-of-type {\n",
       "        vertical-align: middle;\n",
       "    }\n",
       "\n",
       "    .dataframe tbody tr th {\n",
       "        vertical-align: top;\n",
       "    }\n",
       "\n",
       "    .dataframe thead th {\n",
       "        text-align: right;\n",
       "    }\n",
       "</style>\n",
       "<table border=\"1\" class=\"dataframe\">\n",
       "  <thead>\n",
       "    <tr style=\"text-align: right;\">\n",
       "      <th></th>\n",
       "      <th>count</th>\n",
       "      <th>mean</th>\n",
       "      <th>std</th>\n",
       "      <th>min</th>\n",
       "      <th>25%</th>\n",
       "      <th>50%</th>\n",
       "      <th>75%</th>\n",
       "      <th>max</th>\n",
       "    </tr>\n",
       "  </thead>\n",
       "  <tbody>\n",
       "    <tr>\n",
       "      <th>Id</th>\n",
       "      <td>1658.0</td>\n",
       "      <td>912.901689</td>\n",
       "      <td>491.113068</td>\n",
       "      <td>1.0</td>\n",
       "      <td>523.25</td>\n",
       "      <td>931.0</td>\n",
       "      <td>1282.75</td>\n",
       "      <td>1820.0</td>\n",
       "    </tr>\n",
       "    <tr>\n",
       "      <th>Dwell_Type</th>\n",
       "      <td>1658.0</td>\n",
       "      <td>61.592280</td>\n",
       "      <td>177.519192</td>\n",
       "      <td>20.0</td>\n",
       "      <td>20.00</td>\n",
       "      <td>50.0</td>\n",
       "      <td>70.00</td>\n",
       "      <td>7080.0</td>\n",
       "    </tr>\n",
       "    <tr>\n",
       "      <th>LotFrontage</th>\n",
       "      <td>1401.0</td>\n",
       "      <td>72.120628</td>\n",
       "      <td>27.887511</td>\n",
       "      <td>21.0</td>\n",
       "      <td>60.00</td>\n",
       "      <td>70.0</td>\n",
       "      <td>83.00</td>\n",
       "      <td>313.0</td>\n",
       "    </tr>\n",
       "    <tr>\n",
       "      <th>LotArea</th>\n",
       "      <td>1658.0</td>\n",
       "      <td>10887.623040</td>\n",
       "      <td>9944.220252</td>\n",
       "      <td>1300.0</td>\n",
       "      <td>7688.75</td>\n",
       "      <td>9571.5</td>\n",
       "      <td>11766.25</td>\n",
       "      <td>215245.0</td>\n",
       "    </tr>\n",
       "    <tr>\n",
       "      <th>OverallQual</th>\n",
       "      <td>1658.0</td>\n",
       "      <td>6.251508</td>\n",
       "      <td>1.530246</td>\n",
       "      <td>1.0</td>\n",
       "      <td>5.00</td>\n",
       "      <td>6.0</td>\n",
       "      <td>7.00</td>\n",
       "      <td>10.0</td>\n",
       "    </tr>\n",
       "    <tr>\n",
       "      <th>OverallCond</th>\n",
       "      <td>1658.0</td>\n",
       "      <td>5.837756</td>\n",
       "      <td>1.364114</td>\n",
       "      <td>1.0</td>\n",
       "      <td>5.00</td>\n",
       "      <td>5.0</td>\n",
       "      <td>7.00</td>\n",
       "      <td>9.0</td>\n",
       "    </tr>\n",
       "    <tr>\n",
       "      <th>YearBuilt</th>\n",
       "      <td>1658.0</td>\n",
       "      <td>1969.775633</td>\n",
       "      <td>30.304913</td>\n",
       "      <td>1872.0</td>\n",
       "      <td>1950.00</td>\n",
       "      <td>1972.0</td>\n",
       "      <td>1999.00</td>\n",
       "      <td>2010.0</td>\n",
       "    </tr>\n",
       "    <tr>\n",
       "      <th>YearRemodAdd</th>\n",
       "      <td>1658.0</td>\n",
       "      <td>1986.965018</td>\n",
       "      <td>20.403976</td>\n",
       "      <td>1950.0</td>\n",
       "      <td>1970.00</td>\n",
       "      <td>1995.0</td>\n",
       "      <td>2005.00</td>\n",
       "      <td>2023.0</td>\n",
       "    </tr>\n",
       "    <tr>\n",
       "      <th>MasVnrArea</th>\n",
       "      <td>1648.0</td>\n",
       "      <td>103.349515</td>\n",
       "      <td>179.600093</td>\n",
       "      <td>0.0</td>\n",
       "      <td>0.00</td>\n",
       "      <td>0.0</td>\n",
       "      <td>162.00</td>\n",
       "      <td>1378.0</td>\n",
       "    </tr>\n",
       "    <tr>\n",
       "      <th>BsmtFinSF1</th>\n",
       "      <td>1658.0</td>\n",
       "      <td>439.746683</td>\n",
       "      <td>455.426421</td>\n",
       "      <td>0.0</td>\n",
       "      <td>0.00</td>\n",
       "      <td>380.5</td>\n",
       "      <td>706.00</td>\n",
       "      <td>5644.0</td>\n",
       "    </tr>\n",
       "    <tr>\n",
       "      <th>BsmtFinSF2</th>\n",
       "      <td>1658.0</td>\n",
       "      <td>51.043426</td>\n",
       "      <td>170.382379</td>\n",
       "      <td>0.0</td>\n",
       "      <td>0.00</td>\n",
       "      <td>0.0</td>\n",
       "      <td>0.00</td>\n",
       "      <td>1474.0</td>\n",
       "    </tr>\n",
       "    <tr>\n",
       "      <th>BsmtUnfSF</th>\n",
       "      <td>1658.0</td>\n",
       "      <td>563.818456</td>\n",
       "      <td>452.677900</td>\n",
       "      <td>0.0</td>\n",
       "      <td>204.00</td>\n",
       "      <td>460.5</td>\n",
       "      <td>807.50</td>\n",
       "      <td>2336.0</td>\n",
       "    </tr>\n",
       "    <tr>\n",
       "      <th>TotalBsmtSF</th>\n",
       "      <td>1658.0</td>\n",
       "      <td>1054.608565</td>\n",
       "      <td>438.123691</td>\n",
       "      <td>0.0</td>\n",
       "      <td>793.00</td>\n",
       "      <td>990.0</td>\n",
       "      <td>1288.00</td>\n",
       "      <td>6110.0</td>\n",
       "    </tr>\n",
       "    <tr>\n",
       "      <th>1stFlrSF</th>\n",
       "      <td>1658.0</td>\n",
       "      <td>1167.445115</td>\n",
       "      <td>382.014845</td>\n",
       "      <td>334.0</td>\n",
       "      <td>893.25</td>\n",
       "      <td>1095.5</td>\n",
       "      <td>1392.00</td>\n",
       "      <td>4692.0</td>\n",
       "    </tr>\n",
       "    <tr>\n",
       "      <th>2ndFlrSF</th>\n",
       "      <td>1658.0</td>\n",
       "      <td>350.387817</td>\n",
       "      <td>437.579046</td>\n",
       "      <td>0.0</td>\n",
       "      <td>0.00</td>\n",
       "      <td>0.0</td>\n",
       "      <td>739.00</td>\n",
       "      <td>1872.0</td>\n",
       "    </tr>\n",
       "    <tr>\n",
       "      <th>LowQualFinSF</th>\n",
       "      <td>1658.0</td>\n",
       "      <td>6.980700</td>\n",
       "      <td>52.198089</td>\n",
       "      <td>0.0</td>\n",
       "      <td>0.00</td>\n",
       "      <td>0.0</td>\n",
       "      <td>0.00</td>\n",
       "      <td>528.0</td>\n",
       "    </tr>\n",
       "    <tr>\n",
       "      <th>GrLivArea</th>\n",
       "      <td>1658.0</td>\n",
       "      <td>1524.813631</td>\n",
       "      <td>517.415637</td>\n",
       "      <td>334.0</td>\n",
       "      <td>1140.25</td>\n",
       "      <td>1478.0</td>\n",
       "      <td>1792.00</td>\n",
       "      <td>5642.0</td>\n",
       "    </tr>\n",
       "    <tr>\n",
       "      <th>BsmtFullBath</th>\n",
       "      <td>1658.0</td>\n",
       "      <td>0.430036</td>\n",
       "      <td>0.522507</td>\n",
       "      <td>0.0</td>\n",
       "      <td>0.00</td>\n",
       "      <td>0.0</td>\n",
       "      <td>1.00</td>\n",
       "      <td>3.0</td>\n",
       "    </tr>\n",
       "    <tr>\n",
       "      <th>BsmtHalfBath</th>\n",
       "      <td>1658.0</td>\n",
       "      <td>0.055489</td>\n",
       "      <td>0.236775</td>\n",
       "      <td>0.0</td>\n",
       "      <td>0.00</td>\n",
       "      <td>0.0</td>\n",
       "      <td>0.00</td>\n",
       "      <td>2.0</td>\n",
       "    </tr>\n",
       "    <tr>\n",
       "      <th>FullBath</th>\n",
       "      <td>1658.0</td>\n",
       "      <td>1.577805</td>\n",
       "      <td>0.547372</td>\n",
       "      <td>0.0</td>\n",
       "      <td>1.00</td>\n",
       "      <td>2.0</td>\n",
       "      <td>2.00</td>\n",
       "      <td>3.0</td>\n",
       "    </tr>\n",
       "    <tr>\n",
       "      <th>HalfBath</th>\n",
       "      <td>1658.0</td>\n",
       "      <td>0.384198</td>\n",
       "      <td>0.498801</td>\n",
       "      <td>0.0</td>\n",
       "      <td>0.00</td>\n",
       "      <td>0.0</td>\n",
       "      <td>1.00</td>\n",
       "      <td>2.0</td>\n",
       "    </tr>\n",
       "    <tr>\n",
       "      <th>BedroomAbvGr</th>\n",
       "      <td>1658.0</td>\n",
       "      <td>2.879976</td>\n",
       "      <td>0.826943</td>\n",
       "      <td>0.0</td>\n",
       "      <td>2.00</td>\n",
       "      <td>3.0</td>\n",
       "      <td>3.00</td>\n",
       "      <td>8.0</td>\n",
       "    </tr>\n",
       "    <tr>\n",
       "      <th>KitchenAbvGr</th>\n",
       "      <td>1658.0</td>\n",
       "      <td>1.048854</td>\n",
       "      <td>0.231813</td>\n",
       "      <td>0.0</td>\n",
       "      <td>1.00</td>\n",
       "      <td>1.0</td>\n",
       "      <td>1.00</td>\n",
       "      <td>3.0</td>\n",
       "    </tr>\n",
       "    <tr>\n",
       "      <th>TotRmsAbvGrd</th>\n",
       "      <td>1658.0</td>\n",
       "      <td>6.574186</td>\n",
       "      <td>1.629054</td>\n",
       "      <td>2.0</td>\n",
       "      <td>5.00</td>\n",
       "      <td>6.0</td>\n",
       "      <td>7.00</td>\n",
       "      <td>14.0</td>\n",
       "    </tr>\n",
       "    <tr>\n",
       "      <th>Fireplaces</th>\n",
       "      <td>1658.0</td>\n",
       "      <td>0.607358</td>\n",
       "      <td>0.633690</td>\n",
       "      <td>0.0</td>\n",
       "      <td>0.00</td>\n",
       "      <td>1.0</td>\n",
       "      <td>1.00</td>\n",
       "      <td>3.0</td>\n",
       "    </tr>\n",
       "    <tr>\n",
       "      <th>GarageYrBlt</th>\n",
       "      <td>1568.0</td>\n",
       "      <td>1980.478954</td>\n",
       "      <td>24.294504</td>\n",
       "      <td>1906.0</td>\n",
       "      <td>1963.00</td>\n",
       "      <td>1985.0</td>\n",
       "      <td>2003.00</td>\n",
       "      <td>2019.0</td>\n",
       "    </tr>\n",
       "    <tr>\n",
       "      <th>GarageCars</th>\n",
       "      <td>1658.0</td>\n",
       "      <td>1.781665</td>\n",
       "      <td>0.746330</td>\n",
       "      <td>0.0</td>\n",
       "      <td>1.00</td>\n",
       "      <td>2.0</td>\n",
       "      <td>2.00</td>\n",
       "      <td>4.0</td>\n",
       "    </tr>\n",
       "    <tr>\n",
       "      <th>GarageArea</th>\n",
       "      <td>1658.0</td>\n",
       "      <td>476.072376</td>\n",
       "      <td>213.277600</td>\n",
       "      <td>0.0</td>\n",
       "      <td>336.00</td>\n",
       "      <td>480.0</td>\n",
       "      <td>576.00</td>\n",
       "      <td>1418.0</td>\n",
       "    </tr>\n",
       "    <tr>\n",
       "      <th>WoodDeckSF</th>\n",
       "      <td>1658.0</td>\n",
       "      <td>96.391435</td>\n",
       "      <td>129.813433</td>\n",
       "      <td>0.0</td>\n",
       "      <td>0.00</td>\n",
       "      <td>0.0</td>\n",
       "      <td>168.00</td>\n",
       "      <td>857.0</td>\n",
       "    </tr>\n",
       "    <tr>\n",
       "      <th>OpenPorchSF</th>\n",
       "      <td>1658.0</td>\n",
       "      <td>46.140531</td>\n",
       "      <td>63.883004</td>\n",
       "      <td>0.0</td>\n",
       "      <td>0.00</td>\n",
       "      <td>26.0</td>\n",
       "      <td>68.00</td>\n",
       "      <td>547.0</td>\n",
       "    </tr>\n",
       "    <tr>\n",
       "      <th>EnclosedPorch</th>\n",
       "      <td>1658.0</td>\n",
       "      <td>21.095899</td>\n",
       "      <td>60.654506</td>\n",
       "      <td>0.0</td>\n",
       "      <td>0.00</td>\n",
       "      <td>0.0</td>\n",
       "      <td>0.00</td>\n",
       "      <td>552.0</td>\n",
       "    </tr>\n",
       "    <tr>\n",
       "      <th>3SsnPorch</th>\n",
       "      <td>1658.0</td>\n",
       "      <td>3.083233</td>\n",
       "      <td>27.959801</td>\n",
       "      <td>0.0</td>\n",
       "      <td>0.00</td>\n",
       "      <td>0.0</td>\n",
       "      <td>0.00</td>\n",
       "      <td>508.0</td>\n",
       "    </tr>\n",
       "    <tr>\n",
       "      <th>ScreenPorch</th>\n",
       "      <td>1658.0</td>\n",
       "      <td>14.188782</td>\n",
       "      <td>53.209983</td>\n",
       "      <td>0.0</td>\n",
       "      <td>0.00</td>\n",
       "      <td>0.0</td>\n",
       "      <td>0.00</td>\n",
       "      <td>480.0</td>\n",
       "    </tr>\n",
       "    <tr>\n",
       "      <th>PoolArea</th>\n",
       "      <td>1658.0</td>\n",
       "      <td>1.649578</td>\n",
       "      <td>30.178241</td>\n",
       "      <td>0.0</td>\n",
       "      <td>0.00</td>\n",
       "      <td>0.0</td>\n",
       "      <td>0.00</td>\n",
       "      <td>648.0</td>\n",
       "    </tr>\n",
       "    <tr>\n",
       "      <th>MiscVal</th>\n",
       "      <td>1658.0</td>\n",
       "      <td>37.400483</td>\n",
       "      <td>422.875960</td>\n",
       "      <td>0.0</td>\n",
       "      <td>0.00</td>\n",
       "      <td>0.0</td>\n",
       "      <td>0.00</td>\n",
       "      <td>15500.0</td>\n",
       "    </tr>\n",
       "    <tr>\n",
       "      <th>MoSold</th>\n",
       "      <td>1658.0</td>\n",
       "      <td>6.318456</td>\n",
       "      <td>2.681870</td>\n",
       "      <td>1.0</td>\n",
       "      <td>5.00</td>\n",
       "      <td>6.0</td>\n",
       "      <td>8.00</td>\n",
       "      <td>12.0</td>\n",
       "    </tr>\n",
       "    <tr>\n",
       "      <th>YrSold</th>\n",
       "      <td>1658.0</td>\n",
       "      <td>2007.834138</td>\n",
       "      <td>1.322793</td>\n",
       "      <td>2006.0</td>\n",
       "      <td>2007.00</td>\n",
       "      <td>2008.0</td>\n",
       "      <td>2009.00</td>\n",
       "      <td>2010.0</td>\n",
       "    </tr>\n",
       "  </tbody>\n",
       "</table>\n",
       "</div>"
      ],
      "text/plain": [
       "                count          mean          std     min      25%     50%  \\\n",
       "Id             1658.0    912.901689   491.113068     1.0   523.25   931.0   \n",
       "Dwell_Type     1658.0     61.592280   177.519192    20.0    20.00    50.0   \n",
       "LotFrontage    1401.0     72.120628    27.887511    21.0    60.00    70.0   \n",
       "LotArea        1658.0  10887.623040  9944.220252  1300.0  7688.75  9571.5   \n",
       "OverallQual    1658.0      6.251508     1.530246     1.0     5.00     6.0   \n",
       "OverallCond    1658.0      5.837756     1.364114     1.0     5.00     5.0   \n",
       "YearBuilt      1658.0   1969.775633    30.304913  1872.0  1950.00  1972.0   \n",
       "YearRemodAdd   1658.0   1986.965018    20.403976  1950.0  1970.00  1995.0   \n",
       "MasVnrArea     1648.0    103.349515   179.600093     0.0     0.00     0.0   \n",
       "BsmtFinSF1     1658.0    439.746683   455.426421     0.0     0.00   380.5   \n",
       "BsmtFinSF2     1658.0     51.043426   170.382379     0.0     0.00     0.0   \n",
       "BsmtUnfSF      1658.0    563.818456   452.677900     0.0   204.00   460.5   \n",
       "TotalBsmtSF    1658.0   1054.608565   438.123691     0.0   793.00   990.0   \n",
       "1stFlrSF       1658.0   1167.445115   382.014845   334.0   893.25  1095.5   \n",
       "2ndFlrSF       1658.0    350.387817   437.579046     0.0     0.00     0.0   \n",
       "LowQualFinSF   1658.0      6.980700    52.198089     0.0     0.00     0.0   \n",
       "GrLivArea      1658.0   1524.813631   517.415637   334.0  1140.25  1478.0   \n",
       "BsmtFullBath   1658.0      0.430036     0.522507     0.0     0.00     0.0   \n",
       "BsmtHalfBath   1658.0      0.055489     0.236775     0.0     0.00     0.0   \n",
       "FullBath       1658.0      1.577805     0.547372     0.0     1.00     2.0   \n",
       "HalfBath       1658.0      0.384198     0.498801     0.0     0.00     0.0   \n",
       "BedroomAbvGr   1658.0      2.879976     0.826943     0.0     2.00     3.0   \n",
       "KitchenAbvGr   1658.0      1.048854     0.231813     0.0     1.00     1.0   \n",
       "TotRmsAbvGrd   1658.0      6.574186     1.629054     2.0     5.00     6.0   \n",
       "Fireplaces     1658.0      0.607358     0.633690     0.0     0.00     1.0   \n",
       "GarageYrBlt    1568.0   1980.478954    24.294504  1906.0  1963.00  1985.0   \n",
       "GarageCars     1658.0      1.781665     0.746330     0.0     1.00     2.0   \n",
       "GarageArea     1658.0    476.072376   213.277600     0.0   336.00   480.0   \n",
       "WoodDeckSF     1658.0     96.391435   129.813433     0.0     0.00     0.0   \n",
       "OpenPorchSF    1658.0     46.140531    63.883004     0.0     0.00    26.0   \n",
       "EnclosedPorch  1658.0     21.095899    60.654506     0.0     0.00     0.0   \n",
       "3SsnPorch      1658.0      3.083233    27.959801     0.0     0.00     0.0   \n",
       "ScreenPorch    1658.0     14.188782    53.209983     0.0     0.00     0.0   \n",
       "PoolArea       1658.0      1.649578    30.178241     0.0     0.00     0.0   \n",
       "MiscVal        1658.0     37.400483   422.875960     0.0     0.00     0.0   \n",
       "MoSold         1658.0      6.318456     2.681870     1.0     5.00     6.0   \n",
       "YrSold         1658.0   2007.834138     1.322793  2006.0  2007.00  2008.0   \n",
       "\n",
       "                    75%       max  \n",
       "Id              1282.75    1820.0  \n",
       "Dwell_Type        70.00    7080.0  \n",
       "LotFrontage       83.00     313.0  \n",
       "LotArea        11766.25  215245.0  \n",
       "OverallQual        7.00      10.0  \n",
       "OverallCond        7.00       9.0  \n",
       "YearBuilt       1999.00    2010.0  \n",
       "YearRemodAdd    2005.00    2023.0  \n",
       "MasVnrArea       162.00    1378.0  \n",
       "BsmtFinSF1       706.00    5644.0  \n",
       "BsmtFinSF2         0.00    1474.0  \n",
       "BsmtUnfSF        807.50    2336.0  \n",
       "TotalBsmtSF     1288.00    6110.0  \n",
       "1stFlrSF        1392.00    4692.0  \n",
       "2ndFlrSF         739.00    1872.0  \n",
       "LowQualFinSF       0.00     528.0  \n",
       "GrLivArea       1792.00    5642.0  \n",
       "BsmtFullBath       1.00       3.0  \n",
       "BsmtHalfBath       0.00       2.0  \n",
       "FullBath           2.00       3.0  \n",
       "HalfBath           1.00       2.0  \n",
       "BedroomAbvGr       3.00       8.0  \n",
       "KitchenAbvGr       1.00       3.0  \n",
       "TotRmsAbvGrd       7.00      14.0  \n",
       "Fireplaces         1.00       3.0  \n",
       "GarageYrBlt     2003.00    2019.0  \n",
       "GarageCars         2.00       4.0  \n",
       "GarageArea       576.00    1418.0  \n",
       "WoodDeckSF       168.00     857.0  \n",
       "OpenPorchSF       68.00     547.0  \n",
       "EnclosedPorch      0.00     552.0  \n",
       "3SsnPorch          0.00     508.0  \n",
       "ScreenPorch        0.00     480.0  \n",
       "PoolArea           0.00     648.0  \n",
       "MiscVal            0.00   15500.0  \n",
       "MoSold             8.00      12.0  \n",
       "YrSold          2009.00    2010.0  "
      ]
     },
     "execution_count": 17,
     "metadata": {},
     "output_type": "execute_result"
    }
   ],
   "source": [
    "X_train.describe().T"
   ]
  },
  {
   "cell_type": "code",
   "execution_count": 57,
   "metadata": {},
   "outputs": [
    {
     "data": {
      "text/plain": [
       "Id                  0\n",
       "Dwell_Type          0\n",
       "Zone_Class          0\n",
       "LotFrontage       257\n",
       "LotArea             0\n",
       "Road_Type           0\n",
       "Property_Shape      0\n",
       "LandContour         0\n",
       "Utilities           0\n",
       "LotConfig           0\n",
       "LandSlope           0\n",
       "Neighborhood        0\n",
       "Condition1          0\n",
       "Condition2          0\n",
       "Dwelling_Type       0\n",
       "HouseStyle          0\n",
       "OverallQual         0\n",
       "OverallCond         0\n",
       "YearBuilt           0\n",
       "YearRemodAdd        0\n",
       "RoofStyle           0\n",
       "RoofMatl            0\n",
       "Exterior1st         0\n",
       "Exterior2nd         0\n",
       "MasVnrType         10\n",
       "MasVnrArea         10\n",
       "ExterQual           0\n",
       "ExterCond           0\n",
       "Foundation          0\n",
       "BsmtQual           48\n",
       "BsmtCond           48\n",
       "BsmtExposure       50\n",
       "BsmtFinType1       48\n",
       "BsmtFinSF1          0\n",
       "BsmtFinType2       49\n",
       "BsmtFinSF2          0\n",
       "BsmtUnfSF           0\n",
       "TotalBsmtSF         0\n",
       "Heating             0\n",
       "HeatingQC           0\n",
       "CentralAir          0\n",
       "Electrical          0\n",
       "1stFlrSF            0\n",
       "2ndFlrSF            0\n",
       "LowQualFinSF        0\n",
       "GrLivArea           0\n",
       "BsmtFullBath        0\n",
       "BsmtHalfBath        0\n",
       "FullBath            0\n",
       "HalfBath            0\n",
       "BedroomAbvGr        0\n",
       "KitchenAbvGr        0\n",
       "KitchenQual         0\n",
       "TotRmsAbvGrd        0\n",
       "Functional          0\n",
       "Fireplaces          0\n",
       "GarageType         90\n",
       "GarageYrBlt        90\n",
       "GarageFinish       90\n",
       "GarageCars          0\n",
       "GarageArea          0\n",
       "GarageQual         90\n",
       "GarageCond         90\n",
       "PavedDrive          0\n",
       "WoodDeckSF          0\n",
       "OpenPorchSF         0\n",
       "EnclosedPorch       0\n",
       "3SsnPorch           0\n",
       "ScreenPorch         0\n",
       "PoolArea            0\n",
       "MiscVal             0\n",
       "MoSold              0\n",
       "YrSold              0\n",
       "SaleType            0\n",
       "SaleCondition       0\n",
       "dtype: int64"
      ]
     },
     "execution_count": 57,
     "metadata": {},
     "output_type": "execute_result"
    }
   ],
   "source": [
    "X_train.isnull().sum()"
   ]
  },
  {
   "cell_type": "code",
   "execution_count": 56,
   "metadata": {},
   "outputs": [
    {
     "data": {
      "text/plain": [
       "Id                 0.00\n",
       "Dwell_Type         0.00\n",
       "Zone_Class         0.00\n",
       "LotFrontage       12.40\n",
       "LotArea            0.00\n",
       "Road_Type          0.00\n",
       "Property_Shape     0.00\n",
       "LandContour        0.00\n",
       "Utilities          0.00\n",
       "LotConfig          0.00\n",
       "LandSlope          0.00\n",
       "Neighborhood       0.00\n",
       "Condition1         0.00\n",
       "Condition2         0.00\n",
       "Dwelling_Type      0.00\n",
       "HouseStyle         0.00\n",
       "OverallQual        0.00\n",
       "OverallCond        0.00\n",
       "YearBuilt          0.00\n",
       "YearRemodAdd       0.00\n",
       "RoofStyle          0.00\n",
       "RoofMatl           0.00\n",
       "Exterior1st        0.00\n",
       "Exterior2nd        0.00\n",
       "MasVnrType         0.48\n",
       "MasVnrArea         0.48\n",
       "ExterQual          0.00\n",
       "ExterCond          0.00\n",
       "Foundation         0.00\n",
       "BsmtQual           2.32\n",
       "BsmtCond           2.32\n",
       "BsmtExposure       2.41\n",
       "BsmtFinType1       2.32\n",
       "BsmtFinSF1         0.00\n",
       "BsmtFinType2       2.36\n",
       "BsmtFinSF2         0.00\n",
       "BsmtUnfSF          0.00\n",
       "TotalBsmtSF        0.00\n",
       "Heating            0.00\n",
       "HeatingQC          0.00\n",
       "CentralAir         0.00\n",
       "Electrical         0.00\n",
       "1stFlrSF           0.00\n",
       "2ndFlrSF           0.00\n",
       "LowQualFinSF       0.00\n",
       "GrLivArea          0.00\n",
       "BsmtFullBath       0.00\n",
       "BsmtHalfBath       0.00\n",
       "FullBath           0.00\n",
       "HalfBath           0.00\n",
       "BedroomAbvGr       0.00\n",
       "KitchenAbvGr       0.00\n",
       "KitchenQual        0.00\n",
       "TotRmsAbvGrd       0.00\n",
       "Functional         0.00\n",
       "Fireplaces         0.00\n",
       "GarageType         4.34\n",
       "GarageYrBlt        4.34\n",
       "GarageFinish       4.34\n",
       "GarageCars         0.00\n",
       "GarageArea         0.00\n",
       "GarageQual         4.34\n",
       "GarageCond         4.34\n",
       "PavedDrive         0.00\n",
       "WoodDeckSF         0.00\n",
       "OpenPorchSF        0.00\n",
       "EnclosedPorch      0.00\n",
       "3SsnPorch          0.00\n",
       "ScreenPorch        0.00\n",
       "PoolArea           0.00\n",
       "MiscVal            0.00\n",
       "MoSold             0.00\n",
       "YrSold             0.00\n",
       "SaleType           0.00\n",
       "SaleCondition      0.00\n",
       "dtype: float64"
      ]
     },
     "execution_count": 56,
     "metadata": {},
     "output_type": "execute_result"
    }
   ],
   "source": [
    "round((X_train.isnull().sum()/len(df))*100,2)"
   ]
  },
  {
   "cell_type": "markdown",
   "metadata": {},
   "source": [
    "# Imputing Missing Values"
   ]
  },
  {
   "cell_type": "code",
   "execution_count": 61,
   "metadata": {},
   "outputs": [
    {
     "name": "stdout",
     "output_type": "stream",
     "text": [
      "Amount of null values above 40%\n",
      "\n"
     ]
    },
    {
     "data": {
      "text/plain": [
       "Alley          93.78\n",
       "FireplaceQu    47.66\n",
       "PoolQC         99.61\n",
       "Fence          80.51\n",
       "MiscFeature    96.14\n",
       "dtype: float64"
      ]
     },
     "execution_count": 61,
     "metadata": {},
     "output_type": "execute_result"
    }
   ],
   "source": [
    "# Columns having more than 40% missing values\n",
    "\n",
    "missing_percent = round((X_train.isnull().sum()/len(df))*100,2)\n",
    "missing_above_40 = missing_percent[missing_percent>40]\n",
    "print('Amount of null values above 40%\\n')\n",
    "missing_above_40"
   ]
  },
  {
   "cell_type": "code",
   "execution_count": 39,
   "metadata": {},
   "outputs": [
    {
     "name": "stdout",
     "output_type": "stream",
     "text": [
      "<class 'pandas.core.frame.DataFrame'>\n",
      "Int64Index: 1658 entries, 1743 to 860\n",
      "Data columns (total 5 columns):\n",
      " #   Column       Non-Null Count  Dtype \n",
      "---  ------       --------------  ----- \n",
      " 0   Alley        104 non-null    object\n",
      " 1   FireplaceQu  876 non-null    object\n",
      " 2   PoolQC       5 non-null      object\n",
      " 3   Fence        307 non-null    object\n",
      " 4   MiscFeature  63 non-null     object\n",
      "dtypes: object(5)\n",
      "memory usage: 77.7+ KB\n"
     ]
    }
   ],
   "source": [
    "X_train[missing_above_40.index.values].info()"
   ]
  },
  {
   "cell_type": "code",
   "execution_count": 40,
   "metadata": {},
   "outputs": [
    {
     "data": {
      "text/plain": [
       "description    Type of alley access to the property\n",
       "Name: Alley, dtype: object"
      ]
     },
     "execution_count": 40,
     "metadata": {},
     "output_type": "execute_result"
    }
   ],
   "source": [
    "df_desc.loc['Alley']"
   ]
  },
  {
   "cell_type": "code",
   "execution_count": 41,
   "metadata": {},
   "outputs": [
    {
     "data": {
      "text/plain": [
       "description    Fireplace quality\n",
       "Name: FireplaceQu, dtype: object"
      ]
     },
     "execution_count": 41,
     "metadata": {},
     "output_type": "execute_result"
    }
   ],
   "source": [
    "df_desc.loc['FireplaceQu']"
   ]
  },
  {
   "cell_type": "code",
   "execution_count": 42,
   "metadata": {},
   "outputs": [
    {
     "data": {
      "text/plain": [
       "description    Pool quality\n",
       "Name: PoolQC, dtype: object"
      ]
     },
     "execution_count": 42,
     "metadata": {},
     "output_type": "execute_result"
    }
   ],
   "source": [
    "df_desc.loc['PoolQC']"
   ]
  },
  {
   "cell_type": "code",
   "execution_count": 43,
   "metadata": {},
   "outputs": [
    {
     "data": {
      "text/plain": [
       "description    Fence quality\n",
       "Name: Fence, dtype: object"
      ]
     },
     "execution_count": 43,
     "metadata": {},
     "output_type": "execute_result"
    }
   ],
   "source": [
    "df_desc.loc['Fence']"
   ]
  },
  {
   "cell_type": "code",
   "execution_count": 44,
   "metadata": {},
   "outputs": [
    {
     "data": {
      "text/plain": [
       "description    Miscellaneous feature not covered in other cat...\n",
       "Name: MiscFeature, dtype: object"
      ]
     },
     "execution_count": 44,
     "metadata": {},
     "output_type": "execute_result"
    }
   ],
   "source": [
    "df_desc.loc['MiscFeature']"
   ]
  },
  {
   "cell_type": "code",
   "execution_count": 52,
   "metadata": {
    "scrolled": true
   },
   "outputs": [
    {
     "name": "stderr",
     "output_type": "stream",
     "text": [
      "C:\\Users\\Darshan\\Anaconda3\\lib\\site-packages\\pandas\\core\\frame.py:3990: SettingWithCopyWarning: \n",
      "A value is trying to be set on a copy of a slice from a DataFrame\n",
      "\n",
      "See the caveats in the documentation: https://pandas.pydata.org/pandas-docs/stable/user_guide/indexing.html#returning-a-view-versus-a-copy\n",
      "  return super().drop(\n"
     ]
    }
   ],
   "source": [
    "X_train.drop(missing_above_40.index.values, axis=1, inplace=True)"
   ]
  },
  {
   "cell_type": "code",
   "execution_count": 67,
   "metadata": {},
   "outputs": [
    {
     "name": "stderr",
     "output_type": "stream",
     "text": [
      "C:\\Users\\Darshan\\Anaconda3\\lib\\site-packages\\pandas\\core\\frame.py:3990: SettingWithCopyWarning: \n",
      "A value is trying to be set on a copy of a slice from a DataFrame\n",
      "\n",
      "See the caveats in the documentation: https://pandas.pydata.org/pandas-docs/stable/user_guide/indexing.html#returning-a-view-versus-a-copy\n",
      "  return super().drop(\n"
     ]
    }
   ],
   "source": [
    "X_test.drop(missing_above_40.index.values, axis=1, inplace=True)"
   ]
  },
  {
   "cell_type": "code",
   "execution_count": 54,
   "metadata": {},
   "outputs": [
    {
     "data": {
      "text/plain": [
       "(1658, 75)"
      ]
     },
     "execution_count": 54,
     "metadata": {},
     "output_type": "execute_result"
    }
   ],
   "source": [
    "X_train.shape"
   ]
  },
  {
   "cell_type": "code",
   "execution_count": 68,
   "metadata": {},
   "outputs": [
    {
     "data": {
      "text/plain": [
       "(415, 75)"
      ]
     },
     "execution_count": 68,
     "metadata": {},
     "output_type": "execute_result"
    }
   ],
   "source": [
    "X_test.shape"
   ]
  },
  {
   "cell_type": "code",
   "execution_count": 63,
   "metadata": {},
   "outputs": [],
   "source": [
    "cols_with_null = X_train.isnull().sum()[X_train.isnull().sum()!=0].index.values"
   ]
  },
  {
   "cell_type": "code",
   "execution_count": 64,
   "metadata": {},
   "outputs": [
    {
     "name": "stdout",
     "output_type": "stream",
     "text": [
      "<class 'pandas.core.frame.DataFrame'>\n",
      "Int64Index: 1658 entries, 1743 to 860\n",
      "Data columns (total 13 columns):\n",
      " #   Column        Non-Null Count  Dtype  \n",
      "---  ------        --------------  -----  \n",
      " 0   LotFrontage   1401 non-null   float64\n",
      " 1   MasVnrType    1648 non-null   object \n",
      " 2   MasVnrArea    1648 non-null   float64\n",
      " 3   BsmtQual      1610 non-null   object \n",
      " 4   BsmtCond      1610 non-null   object \n",
      " 5   BsmtExposure  1608 non-null   object \n",
      " 6   BsmtFinType1  1610 non-null   object \n",
      " 7   BsmtFinType2  1609 non-null   object \n",
      " 8   GarageType    1568 non-null   object \n",
      " 9   GarageYrBlt   1568 non-null   float64\n",
      " 10  GarageFinish  1568 non-null   object \n",
      " 11  GarageQual    1568 non-null   object \n",
      " 12  GarageCond    1568 non-null   object \n",
      "dtypes: float64(3), object(10)\n",
      "memory usage: 261.3+ KB\n"
     ]
    }
   ],
   "source": [
    "X_train[cols_with_null].info()"
   ]
  },
  {
   "cell_type": "code",
   "execution_count": 69,
   "metadata": {},
   "outputs": [
    {
     "data": {
      "text/plain": [
       "<matplotlib.axes._subplots.AxesSubplot at 0x16abf4ca6a0>"
      ]
     },
     "execution_count": 69,
     "metadata": {},
     "output_type": "execute_result"
    },
    {
     "data": {
      "image/png": "[encoded data removed]",
      "text/plain": [
       "<Figure size 432x288 with 1 Axes>"
      ]
     },
     "metadata": {
      "needs_background": "light"
     },
     "output_type": "display_data"
    }
   ],
   "source": [
    "sns.distplot(X_train['LotFrontage'])"
   ]
  },
  {
   "cell_type": "code",
   "execution_count": 70,
   "metadata": {},
   "outputs": [
    {
     "data": {
      "text/plain": [
       "array(['LotFrontage', 'MasVnrType', 'MasVnrArea', 'BsmtQual', 'BsmtCond',\n",
       "       'BsmtExposure', 'BsmtFinType1', 'BsmtFinType2', 'GarageType',\n",
       "       'GarageYrBlt', 'GarageFinish', 'GarageQual', 'GarageCond'],\n",
       "      dtype=object)"
      ]
     },
     "execution_count": 70,
     "metadata": {},
     "output_type": "execute_result"
    }
   ],
   "source": [
    "cols_with_null"
   ]
  },
  {
   "cell_type": "code",
   "execution_count": null,
   "metadata": {},
   "outputs": [],
   "source": []
  }
 ],
 "metadata": {
  "kernelspec": {
   "display_name": "Python 3",
   "language": "python",
   "name": "python3"
  },
  "language_info": {
   "codemirror_mode": {
    "name": "ipython",
    "version": 3
   },
   "file_extension": ".py",
   "mimetype": "text/x-python",
   "name": "python",
   "nbconvert_exporter": "python",
   "pygments_lexer": "ipython3",
   "version": "3.8.3"
  }
 },
 "nbformat": 4,
 "nbformat_minor": 4
}
