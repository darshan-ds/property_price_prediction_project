{
 "cells": [
  {
   "cell_type": "markdown",
   "metadata": {},
   "source": [
    "# Property Price Prediction"
   ]
  },
  {
   "cell_type": "markdown",
   "metadata": {},
   "source": [
    "## Abstract:\n",
    "A key challenge for property sellers is to determine the sale price of the property. The ability to predict the exact property value is beneficial for property investors as well as for buyers to plan their finances according to the price trend. The property prices depend on the number of features like the property area, basement square footage, year built, number of bedrooms, and so on. \n",
    "## Problem Statement: \n",
    "Use regression analysis to predict the price of a property"
   ]
  },
  {
   "cell_type": "markdown",
   "metadata": {},
   "source": [
    "## Steps\n",
    "1. Assign Working Directory\n",
    "2. Import necessary libraries\n",
    "3. Import dataset\n",
    "3. Split: Train Test Split\n",
    "4. Basic commands\n",
    "5. Impute: Imputing missing values\n",
    "6. Exploratory Data Analysis\n",
    "7. Scaling numerical variables and encoding categorical variables\n",
    "8. Relationship between columns\n",
    "9. Feature Selection\n",
    "10. Principal Component Analysis\n",
    "11. Model: train machine learning algorithms\n",
    "    * Linear regression"
   ]
  },
  {
   "cell_type": "markdown",
   "metadata": {},
   "source": [
    "# Assign Working Directory"
   ]
  },
  {
   "cell_type": "code",
   "execution_count": 49,
   "metadata": {},
   "outputs": [],
   "source": [
    "import os\n",
    "os.chdir('C:/Users/Darshan/Desktop/property_price_prediction_project')"
   ]
  },
  {
   "cell_type": "markdown",
   "metadata": {},
   "source": [
    "# Import necessary libraries"
   ]
  },
  {
   "cell_type": "code",
   "execution_count": 50,
   "metadata": {},
   "outputs": [],
   "source": [
    "\n",
    "import numpy as np\n",
    "import pandas as pd\n",
    "import matplotlib.pyplot as plt\n",
    "import seaborn as sns\n",
    "%matplotlib inline\n",
    "\n",
    "plt.style.use('ggplot')\n",
    "\n",
    "import warnings\n",
    "warnings.filterwarnings('ignore')\n",
    "\n",
    "from scipy import stats\n",
    "from scipy.stats import norm\n",
    "from scipy.stats import shapiro\n",
    "from scipy.stats import pearsonr\n",
    "from scipy.stats import spearmanr\n",
    "from scipy.stats import linregress\n",
    "\n",
    "import statsmodels.api as sm\n",
    "from statsmodels.formula.api import ols\n",
    "\n",
    "from sklearn.model_selection import train_test_split\n",
    "from sklearn.preprocessing import RobustScaler\n",
    "from sklearn.compose import ColumnTransformer\n",
    "from sklearn.preprocessing import OneHotEncoder\n",
    "from sklearn.preprocessing import PowerTransformer\n",
    "from sklearn.preprocessing import QuantileTransformer"
   ]
  },
  {
   "cell_type": "code",
   "execution_count": 51,
   "metadata": {},
   "outputs": [],
   "source": [
    "# Setting pandas options\n",
    "\n",
    "pd.options.display.max_rows = 90\n",
    "pd.options.display.max_columns = 90\n",
    "pd.set_option('display.max_colwidth', -1)"
   ]
  },
  {
   "cell_type": "markdown",
   "metadata": {},
   "source": [
    "# Import Dataset"
   ]
  },
  {
   "cell_type": "code",
   "execution_count": 52,
   "metadata": {},
   "outputs": [],
   "source": [
    "df = pd.read_csv('C:/Users/Darshan/Desktop/property_price_prediction_project/Dataset/HousePrices.csv')"
   ]
  },
  {
   "cell_type": "code",
   "execution_count": 53,
   "metadata": {
    "scrolled": false
   },
   "outputs": [
    {
     "data": {
      "text/html": [
       "<div>\n",
       "<style scoped>\n",
       "    .dataframe tbody tr th:only-of-type {\n",
       "        vertical-align: middle;\n",
       "    }\n",
       "\n",
       "    .dataframe tbody tr th {\n",
       "        vertical-align: top;\n",
       "    }\n",
       "\n",
       "    .dataframe thead th {\n",
       "        text-align: right;\n",
       "    }\n",
       "</style>\n",
       "<table border=\"1\" class=\"dataframe\">\n",
       "  <thead>\n",
       "    <tr style=\"text-align: right;\">\n",
       "      <th></th>\n",
       "      <th>Id</th>\n",
       "      <th>Dwell_Type</th>\n",
       "      <th>Zone_Class</th>\n",
       "      <th>LotFrontage</th>\n",
       "      <th>LotArea</th>\n",
       "      <th>Road_Type</th>\n",
       "      <th>Alley</th>\n",
       "      <th>Property_Shape</th>\n",
       "      <th>LandContour</th>\n",
       "      <th>Utilities</th>\n",
       "      <th>LotConfig</th>\n",
       "      <th>LandSlope</th>\n",
       "      <th>Neighborhood</th>\n",
       "      <th>Condition1</th>\n",
       "      <th>Condition2</th>\n",
       "      <th>Dwelling_Type</th>\n",
       "      <th>HouseStyle</th>\n",
       "      <th>OverallQual</th>\n",
       "      <th>OverallCond</th>\n",
       "      <th>YearBuilt</th>\n",
       "      <th>YearRemodAdd</th>\n",
       "      <th>RoofStyle</th>\n",
       "      <th>RoofMatl</th>\n",
       "      <th>Exterior1st</th>\n",
       "      <th>Exterior2nd</th>\n",
       "      <th>MasVnrType</th>\n",
       "      <th>MasVnrArea</th>\n",
       "      <th>ExterQual</th>\n",
       "      <th>ExterCond</th>\n",
       "      <th>Foundation</th>\n",
       "      <th>BsmtQual</th>\n",
       "      <th>BsmtCond</th>\n",
       "      <th>BsmtExposure</th>\n",
       "      <th>BsmtFinType1</th>\n",
       "      <th>BsmtFinSF1</th>\n",
       "      <th>BsmtFinType2</th>\n",
       "      <th>BsmtFinSF2</th>\n",
       "      <th>BsmtUnfSF</th>\n",
       "      <th>TotalBsmtSF</th>\n",
       "      <th>Heating</th>\n",
       "      <th>HeatingQC</th>\n",
       "      <th>CentralAir</th>\n",
       "      <th>Electrical</th>\n",
       "      <th>1stFlrSF</th>\n",
       "      <th>2ndFlrSF</th>\n",
       "      <th>LowQualFinSF</th>\n",
       "      <th>GrLivArea</th>\n",
       "      <th>BsmtFullBath</th>\n",
       "      <th>BsmtHalfBath</th>\n",
       "      <th>FullBath</th>\n",
       "      <th>HalfBath</th>\n",
       "      <th>BedroomAbvGr</th>\n",
       "      <th>KitchenAbvGr</th>\n",
       "      <th>KitchenQual</th>\n",
       "      <th>TotRmsAbvGrd</th>\n",
       "      <th>Functional</th>\n",
       "      <th>Fireplaces</th>\n",
       "      <th>FireplaceQu</th>\n",
       "      <th>GarageType</th>\n",
       "      <th>GarageYrBlt</th>\n",
       "      <th>GarageFinish</th>\n",
       "      <th>GarageCars</th>\n",
       "      <th>GarageArea</th>\n",
       "      <th>GarageQual</th>\n",
       "      <th>GarageCond</th>\n",
       "      <th>PavedDrive</th>\n",
       "      <th>WoodDeckSF</th>\n",
       "      <th>OpenPorchSF</th>\n",
       "      <th>EnclosedPorch</th>\n",
       "      <th>3SsnPorch</th>\n",
       "      <th>ScreenPorch</th>\n",
       "      <th>PoolArea</th>\n",
       "      <th>PoolQC</th>\n",
       "      <th>Fence</th>\n",
       "      <th>MiscFeature</th>\n",
       "      <th>MiscVal</th>\n",
       "      <th>MoSold</th>\n",
       "      <th>YrSold</th>\n",
       "      <th>SaleType</th>\n",
       "      <th>SaleCondition</th>\n",
       "      <th>Property_Sale_Price</th>\n",
       "    </tr>\n",
       "  </thead>\n",
       "  <tbody>\n",
       "    <tr>\n",
       "      <th>0</th>\n",
       "      <td>1</td>\n",
       "      <td>60</td>\n",
       "      <td>RL</td>\n",
       "      <td>65.0</td>\n",
       "      <td>8450</td>\n",
       "      <td>Pave</td>\n",
       "      <td>NaN</td>\n",
       "      <td>Reg</td>\n",
       "      <td>Lvl</td>\n",
       "      <td>AllPub</td>\n",
       "      <td>Inside</td>\n",
       "      <td>Gtl</td>\n",
       "      <td>CollgCr</td>\n",
       "      <td>Norm</td>\n",
       "      <td>Norm</td>\n",
       "      <td>1Fam</td>\n",
       "      <td>2Story</td>\n",
       "      <td>7</td>\n",
       "      <td>5</td>\n",
       "      <td>2003</td>\n",
       "      <td>2003</td>\n",
       "      <td>Gable</td>\n",
       "      <td>CompShg</td>\n",
       "      <td>VinylSd</td>\n",
       "      <td>VinylSd</td>\n",
       "      <td>BrkFace</td>\n",
       "      <td>196.0</td>\n",
       "      <td>Gd</td>\n",
       "      <td>TA</td>\n",
       "      <td>PConc</td>\n",
       "      <td>Gd</td>\n",
       "      <td>TA</td>\n",
       "      <td>No</td>\n",
       "      <td>GLQ</td>\n",
       "      <td>706</td>\n",
       "      <td>Unf</td>\n",
       "      <td>0</td>\n",
       "      <td>150</td>\n",
       "      <td>856</td>\n",
       "      <td>GasA</td>\n",
       "      <td>Ex</td>\n",
       "      <td>Y</td>\n",
       "      <td>SBrkr</td>\n",
       "      <td>856</td>\n",
       "      <td>854</td>\n",
       "      <td>0</td>\n",
       "      <td>1710</td>\n",
       "      <td>1</td>\n",
       "      <td>0</td>\n",
       "      <td>2</td>\n",
       "      <td>1</td>\n",
       "      <td>3</td>\n",
       "      <td>1</td>\n",
       "      <td>Gd</td>\n",
       "      <td>8</td>\n",
       "      <td>Typ</td>\n",
       "      <td>0</td>\n",
       "      <td>NaN</td>\n",
       "      <td>Attchd</td>\n",
       "      <td>2003.0</td>\n",
       "      <td>RFn</td>\n",
       "      <td>2</td>\n",
       "      <td>548</td>\n",
       "      <td>TA</td>\n",
       "      <td>TA</td>\n",
       "      <td>Y</td>\n",
       "      <td>0</td>\n",
       "      <td>61</td>\n",
       "      <td>0</td>\n",
       "      <td>0</td>\n",
       "      <td>0</td>\n",
       "      <td>0</td>\n",
       "      <td>NaN</td>\n",
       "      <td>NaN</td>\n",
       "      <td>NaN</td>\n",
       "      <td>0</td>\n",
       "      <td>2</td>\n",
       "      <td>2008</td>\n",
       "      <td>WD</td>\n",
       "      <td>Normal</td>\n",
       "      <td>208500</td>\n",
       "    </tr>\n",
       "    <tr>\n",
       "      <th>1</th>\n",
       "      <td>2</td>\n",
       "      <td>20</td>\n",
       "      <td>RL</td>\n",
       "      <td>80.0</td>\n",
       "      <td>9600</td>\n",
       "      <td>Pave</td>\n",
       "      <td>NaN</td>\n",
       "      <td>Reg</td>\n",
       "      <td>Lvl</td>\n",
       "      <td>AllPub</td>\n",
       "      <td>FR2</td>\n",
       "      <td>Gtl</td>\n",
       "      <td>Veenker</td>\n",
       "      <td>Feedr</td>\n",
       "      <td>Norm</td>\n",
       "      <td>1Fam</td>\n",
       "      <td>1Story</td>\n",
       "      <td>6</td>\n",
       "      <td>8</td>\n",
       "      <td>1976</td>\n",
       "      <td>1976</td>\n",
       "      <td>Gable</td>\n",
       "      <td>CompShg</td>\n",
       "      <td>MetalSd</td>\n",
       "      <td>MetalSd</td>\n",
       "      <td>None</td>\n",
       "      <td>0.0</td>\n",
       "      <td>TA</td>\n",
       "      <td>TA</td>\n",
       "      <td>CBlock</td>\n",
       "      <td>Gd</td>\n",
       "      <td>TA</td>\n",
       "      <td>Gd</td>\n",
       "      <td>ALQ</td>\n",
       "      <td>978</td>\n",
       "      <td>Unf</td>\n",
       "      <td>0</td>\n",
       "      <td>284</td>\n",
       "      <td>1262</td>\n",
       "      <td>GasA</td>\n",
       "      <td>Ex</td>\n",
       "      <td>Y</td>\n",
       "      <td>SBrkr</td>\n",
       "      <td>1262</td>\n",
       "      <td>0</td>\n",
       "      <td>0</td>\n",
       "      <td>1262</td>\n",
       "      <td>0</td>\n",
       "      <td>1</td>\n",
       "      <td>2</td>\n",
       "      <td>0</td>\n",
       "      <td>3</td>\n",
       "      <td>1</td>\n",
       "      <td>TA</td>\n",
       "      <td>6</td>\n",
       "      <td>Typ</td>\n",
       "      <td>1</td>\n",
       "      <td>TA</td>\n",
       "      <td>Attchd</td>\n",
       "      <td>1976.0</td>\n",
       "      <td>RFn</td>\n",
       "      <td>2</td>\n",
       "      <td>460</td>\n",
       "      <td>TA</td>\n",
       "      <td>TA</td>\n",
       "      <td>Y</td>\n",
       "      <td>298</td>\n",
       "      <td>0</td>\n",
       "      <td>0</td>\n",
       "      <td>0</td>\n",
       "      <td>0</td>\n",
       "      <td>0</td>\n",
       "      <td>NaN</td>\n",
       "      <td>NaN</td>\n",
       "      <td>NaN</td>\n",
       "      <td>0</td>\n",
       "      <td>5</td>\n",
       "      <td>2007</td>\n",
       "      <td>WD</td>\n",
       "      <td>Normal</td>\n",
       "      <td>181500</td>\n",
       "    </tr>\n",
       "    <tr>\n",
       "      <th>2</th>\n",
       "      <td>3</td>\n",
       "      <td>60</td>\n",
       "      <td>RL</td>\n",
       "      <td>68.0</td>\n",
       "      <td>11250</td>\n",
       "      <td>Pave</td>\n",
       "      <td>NaN</td>\n",
       "      <td>IR1</td>\n",
       "      <td>Lvl</td>\n",
       "      <td>AllPub</td>\n",
       "      <td>Inside</td>\n",
       "      <td>Gtl</td>\n",
       "      <td>CollgCr</td>\n",
       "      <td>Norm</td>\n",
       "      <td>Norm</td>\n",
       "      <td>1Fam</td>\n",
       "      <td>2Story</td>\n",
       "      <td>7</td>\n",
       "      <td>5</td>\n",
       "      <td>2001</td>\n",
       "      <td>2002</td>\n",
       "      <td>Gable</td>\n",
       "      <td>CompShg</td>\n",
       "      <td>VinylSd</td>\n",
       "      <td>VinylSd</td>\n",
       "      <td>BrkFace</td>\n",
       "      <td>162.0</td>\n",
       "      <td>Gd</td>\n",
       "      <td>TA</td>\n",
       "      <td>PConc</td>\n",
       "      <td>Gd</td>\n",
       "      <td>TA</td>\n",
       "      <td>Mn</td>\n",
       "      <td>GLQ</td>\n",
       "      <td>486</td>\n",
       "      <td>Unf</td>\n",
       "      <td>0</td>\n",
       "      <td>434</td>\n",
       "      <td>920</td>\n",
       "      <td>GasA</td>\n",
       "      <td>Ex</td>\n",
       "      <td>Y</td>\n",
       "      <td>SBrkr</td>\n",
       "      <td>920</td>\n",
       "      <td>866</td>\n",
       "      <td>0</td>\n",
       "      <td>1786</td>\n",
       "      <td>1</td>\n",
       "      <td>0</td>\n",
       "      <td>2</td>\n",
       "      <td>1</td>\n",
       "      <td>3</td>\n",
       "      <td>1</td>\n",
       "      <td>Gd</td>\n",
       "      <td>6</td>\n",
       "      <td>Typ</td>\n",
       "      <td>1</td>\n",
       "      <td>TA</td>\n",
       "      <td>Attchd</td>\n",
       "      <td>2001.0</td>\n",
       "      <td>RFn</td>\n",
       "      <td>2</td>\n",
       "      <td>608</td>\n",
       "      <td>TA</td>\n",
       "      <td>TA</td>\n",
       "      <td>Y</td>\n",
       "      <td>0</td>\n",
       "      <td>42</td>\n",
       "      <td>0</td>\n",
       "      <td>0</td>\n",
       "      <td>0</td>\n",
       "      <td>0</td>\n",
       "      <td>NaN</td>\n",
       "      <td>NaN</td>\n",
       "      <td>NaN</td>\n",
       "      <td>0</td>\n",
       "      <td>9</td>\n",
       "      <td>2008</td>\n",
       "      <td>WD</td>\n",
       "      <td>Normal</td>\n",
       "      <td>223500</td>\n",
       "    </tr>\n",
       "    <tr>\n",
       "      <th>3</th>\n",
       "      <td>4</td>\n",
       "      <td>70</td>\n",
       "      <td>RL</td>\n",
       "      <td>60.0</td>\n",
       "      <td>9550</td>\n",
       "      <td>Pave</td>\n",
       "      <td>NaN</td>\n",
       "      <td>IR1</td>\n",
       "      <td>Lvl</td>\n",
       "      <td>AllPub</td>\n",
       "      <td>Corner</td>\n",
       "      <td>Gtl</td>\n",
       "      <td>Crawfor</td>\n",
       "      <td>Norm</td>\n",
       "      <td>Norm</td>\n",
       "      <td>1Fam</td>\n",
       "      <td>2Story</td>\n",
       "      <td>7</td>\n",
       "      <td>5</td>\n",
       "      <td>1915</td>\n",
       "      <td>1970</td>\n",
       "      <td>Gable</td>\n",
       "      <td>CompShg</td>\n",
       "      <td>Wd Sdng</td>\n",
       "      <td>Wd Shng</td>\n",
       "      <td>None</td>\n",
       "      <td>0.0</td>\n",
       "      <td>TA</td>\n",
       "      <td>TA</td>\n",
       "      <td>BrkTil</td>\n",
       "      <td>TA</td>\n",
       "      <td>Gd</td>\n",
       "      <td>No</td>\n",
       "      <td>ALQ</td>\n",
       "      <td>216</td>\n",
       "      <td>Unf</td>\n",
       "      <td>0</td>\n",
       "      <td>540</td>\n",
       "      <td>756</td>\n",
       "      <td>GasA</td>\n",
       "      <td>Gd</td>\n",
       "      <td>Y</td>\n",
       "      <td>SBrkr</td>\n",
       "      <td>961</td>\n",
       "      <td>756</td>\n",
       "      <td>0</td>\n",
       "      <td>1717</td>\n",
       "      <td>1</td>\n",
       "      <td>0</td>\n",
       "      <td>1</td>\n",
       "      <td>0</td>\n",
       "      <td>3</td>\n",
       "      <td>1</td>\n",
       "      <td>Gd</td>\n",
       "      <td>7</td>\n",
       "      <td>Typ</td>\n",
       "      <td>1</td>\n",
       "      <td>Gd</td>\n",
       "      <td>Detchd</td>\n",
       "      <td>1998.0</td>\n",
       "      <td>Unf</td>\n",
       "      <td>3</td>\n",
       "      <td>642</td>\n",
       "      <td>TA</td>\n",
       "      <td>TA</td>\n",
       "      <td>Y</td>\n",
       "      <td>0</td>\n",
       "      <td>35</td>\n",
       "      <td>272</td>\n",
       "      <td>0</td>\n",
       "      <td>0</td>\n",
       "      <td>0</td>\n",
       "      <td>NaN</td>\n",
       "      <td>NaN</td>\n",
       "      <td>NaN</td>\n",
       "      <td>0</td>\n",
       "      <td>2</td>\n",
       "      <td>2006</td>\n",
       "      <td>WD</td>\n",
       "      <td>Abnorml</td>\n",
       "      <td>140000</td>\n",
       "    </tr>\n",
       "    <tr>\n",
       "      <th>4</th>\n",
       "      <td>5</td>\n",
       "      <td>60</td>\n",
       "      <td>RL</td>\n",
       "      <td>84.0</td>\n",
       "      <td>14260</td>\n",
       "      <td>Pave</td>\n",
       "      <td>NaN</td>\n",
       "      <td>IR1</td>\n",
       "      <td>Lvl</td>\n",
       "      <td>AllPub</td>\n",
       "      <td>FR2</td>\n",
       "      <td>Gtl</td>\n",
       "      <td>NoRidge</td>\n",
       "      <td>Norm</td>\n",
       "      <td>Norm</td>\n",
       "      <td>1Fam</td>\n",
       "      <td>2Story</td>\n",
       "      <td>8</td>\n",
       "      <td>5</td>\n",
       "      <td>2000</td>\n",
       "      <td>2000</td>\n",
       "      <td>Gable</td>\n",
       "      <td>CompShg</td>\n",
       "      <td>VinylSd</td>\n",
       "      <td>VinylSd</td>\n",
       "      <td>BrkFace</td>\n",
       "      <td>350.0</td>\n",
       "      <td>Gd</td>\n",
       "      <td>TA</td>\n",
       "      <td>PConc</td>\n",
       "      <td>Gd</td>\n",
       "      <td>TA</td>\n",
       "      <td>Av</td>\n",
       "      <td>GLQ</td>\n",
       "      <td>655</td>\n",
       "      <td>Unf</td>\n",
       "      <td>0</td>\n",
       "      <td>490</td>\n",
       "      <td>1145</td>\n",
       "      <td>GasA</td>\n",
       "      <td>Ex</td>\n",
       "      <td>Y</td>\n",
       "      <td>SBrkr</td>\n",
       "      <td>1145</td>\n",
       "      <td>1053</td>\n",
       "      <td>0</td>\n",
       "      <td>2198</td>\n",
       "      <td>1</td>\n",
       "      <td>0</td>\n",
       "      <td>2</td>\n",
       "      <td>1</td>\n",
       "      <td>4</td>\n",
       "      <td>1</td>\n",
       "      <td>Gd</td>\n",
       "      <td>9</td>\n",
       "      <td>Typ</td>\n",
       "      <td>1</td>\n",
       "      <td>TA</td>\n",
       "      <td>Attchd</td>\n",
       "      <td>2000.0</td>\n",
       "      <td>RFn</td>\n",
       "      <td>3</td>\n",
       "      <td>836</td>\n",
       "      <td>TA</td>\n",
       "      <td>TA</td>\n",
       "      <td>Y</td>\n",
       "      <td>192</td>\n",
       "      <td>84</td>\n",
       "      <td>0</td>\n",
       "      <td>0</td>\n",
       "      <td>0</td>\n",
       "      <td>0</td>\n",
       "      <td>NaN</td>\n",
       "      <td>NaN</td>\n",
       "      <td>NaN</td>\n",
       "      <td>0</td>\n",
       "      <td>12</td>\n",
       "      <td>2008</td>\n",
       "      <td>WD</td>\n",
       "      <td>Normal</td>\n",
       "      <td>250000</td>\n",
       "    </tr>\n",
       "  </tbody>\n",
       "</table>\n",
       "</div>"
      ],
      "text/plain": [
       "   Id  Dwell_Type Zone_Class  LotFrontage  LotArea Road_Type Alley  \\\n",
       "0  1   60          RL         65.0         8450     Pave      NaN    \n",
       "1  2   20          RL         80.0         9600     Pave      NaN    \n",
       "2  3   60          RL         68.0         11250    Pave      NaN    \n",
       "3  4   70          RL         60.0         9550     Pave      NaN    \n",
       "4  5   60          RL         84.0         14260    Pave      NaN    \n",
       "\n",
       "  Property_Shape LandContour Utilities LotConfig LandSlope Neighborhood  \\\n",
       "0  Reg            Lvl         AllPub    Inside    Gtl       CollgCr       \n",
       "1  Reg            Lvl         AllPub    FR2       Gtl       Veenker       \n",
       "2  IR1            Lvl         AllPub    Inside    Gtl       CollgCr       \n",
       "3  IR1            Lvl         AllPub    Corner    Gtl       Crawfor       \n",
       "4  IR1            Lvl         AllPub    FR2       Gtl       NoRidge       \n",
       "\n",
       "  Condition1 Condition2 Dwelling_Type HouseStyle  OverallQual  OverallCond  \\\n",
       "0  Norm       Norm       1Fam          2Story     7            5             \n",
       "1  Feedr      Norm       1Fam          1Story     6            8             \n",
       "2  Norm       Norm       1Fam          2Story     7            5             \n",
       "3  Norm       Norm       1Fam          2Story     7            5             \n",
       "4  Norm       Norm       1Fam          2Story     8            5             \n",
       "\n",
       "   YearBuilt  YearRemodAdd RoofStyle RoofMatl Exterior1st Exterior2nd  \\\n",
       "0  2003       2003          Gable     CompShg  VinylSd     VinylSd      \n",
       "1  1976       1976          Gable     CompShg  MetalSd     MetalSd      \n",
       "2  2001       2002          Gable     CompShg  VinylSd     VinylSd      \n",
       "3  1915       1970          Gable     CompShg  Wd Sdng     Wd Shng      \n",
       "4  2000       2000          Gable     CompShg  VinylSd     VinylSd      \n",
       "\n",
       "  MasVnrType  MasVnrArea ExterQual ExterCond Foundation BsmtQual BsmtCond  \\\n",
       "0  BrkFace    196.0       Gd        TA        PConc      Gd       TA        \n",
       "1  None       0.0         TA        TA        CBlock     Gd       TA        \n",
       "2  BrkFace    162.0       Gd        TA        PConc      Gd       TA        \n",
       "3  None       0.0         TA        TA        BrkTil     TA       Gd        \n",
       "4  BrkFace    350.0       Gd        TA        PConc      Gd       TA        \n",
       "\n",
       "  BsmtExposure BsmtFinType1  BsmtFinSF1 BsmtFinType2  BsmtFinSF2  BsmtUnfSF  \\\n",
       "0  No           GLQ          706         Unf          0           150         \n",
       "1  Gd           ALQ          978         Unf          0           284         \n",
       "2  Mn           GLQ          486         Unf          0           434         \n",
       "3  No           ALQ          216         Unf          0           540         \n",
       "4  Av           GLQ          655         Unf          0           490         \n",
       "\n",
       "   TotalBsmtSF Heating HeatingQC CentralAir Electrical  1stFlrSF  2ndFlrSF  \\\n",
       "0  856          GasA    Ex        Y          SBrkr      856       854        \n",
       "1  1262         GasA    Ex        Y          SBrkr      1262      0          \n",
       "2  920          GasA    Ex        Y          SBrkr      920       866        \n",
       "3  756          GasA    Gd        Y          SBrkr      961       756        \n",
       "4  1145         GasA    Ex        Y          SBrkr      1145      1053       \n",
       "\n",
       "   LowQualFinSF  GrLivArea  BsmtFullBath  BsmtHalfBath  FullBath  HalfBath  \\\n",
       "0  0             1710       1             0             2         1          \n",
       "1  0             1262       0             1             2         0          \n",
       "2  0             1786       1             0             2         1          \n",
       "3  0             1717       1             0             1         0          \n",
       "4  0             2198       1             0             2         1          \n",
       "\n",
       "   BedroomAbvGr  KitchenAbvGr KitchenQual  TotRmsAbvGrd Functional  \\\n",
       "0  3             1             Gd          8             Typ         \n",
       "1  3             1             TA          6             Typ         \n",
       "2  3             1             Gd          6             Typ         \n",
       "3  3             1             Gd          7             Typ         \n",
       "4  4             1             Gd          9             Typ         \n",
       "\n",
       "   Fireplaces FireplaceQu GarageType  GarageYrBlt GarageFinish  GarageCars  \\\n",
       "0  0           NaN         Attchd     2003.0       RFn          2            \n",
       "1  1           TA          Attchd     1976.0       RFn          2            \n",
       "2  1           TA          Attchd     2001.0       RFn          2            \n",
       "3  1           Gd          Detchd     1998.0       Unf          3            \n",
       "4  1           TA          Attchd     2000.0       RFn          3            \n",
       "\n",
       "   GarageArea GarageQual GarageCond PavedDrive  WoodDeckSF  OpenPorchSF  \\\n",
       "0  548         TA         TA         Y          0           61            \n",
       "1  460         TA         TA         Y          298         0             \n",
       "2  608         TA         TA         Y          0           42            \n",
       "3  642         TA         TA         Y          0           35            \n",
       "4  836         TA         TA         Y          192         84            \n",
       "\n",
       "   EnclosedPorch  3SsnPorch  ScreenPorch  PoolArea PoolQC Fence MiscFeature  \\\n",
       "0  0              0          0            0         NaN    NaN   NaN          \n",
       "1  0              0          0            0         NaN    NaN   NaN          \n",
       "2  0              0          0            0         NaN    NaN   NaN          \n",
       "3  272            0          0            0         NaN    NaN   NaN          \n",
       "4  0              0          0            0         NaN    NaN   NaN          \n",
       "\n",
       "   MiscVal  MoSold  YrSold SaleType SaleCondition  Property_Sale_Price  \n",
       "0  0        2       2008    WD       Normal        208500               \n",
       "1  0        5       2007    WD       Normal        181500               \n",
       "2  0        9       2008    WD       Normal        223500               \n",
       "3  0        2       2006    WD       Abnorml       140000               \n",
       "4  0        12      2008    WD       Normal        250000               "
      ]
     },
     "execution_count": 53,
     "metadata": {},
     "output_type": "execute_result"
    }
   ],
   "source": [
    "df.head()"
   ]
  },
  {
   "cell_type": "code",
   "execution_count": 54,
   "metadata": {},
   "outputs": [
    {
     "data": {
      "text/html": [
       "<div>\n",
       "<style scoped>\n",
       "    .dataframe tbody tr th:only-of-type {\n",
       "        vertical-align: middle;\n",
       "    }\n",
       "\n",
       "    .dataframe tbody tr th {\n",
       "        vertical-align: top;\n",
       "    }\n",
       "\n",
       "    .dataframe thead th {\n",
       "        text-align: right;\n",
       "    }\n",
       "</style>\n",
       "<table border=\"1\" class=\"dataframe\">\n",
       "  <thead>\n",
       "    <tr style=\"text-align: right;\">\n",
       "      <th></th>\n",
       "      <th>description</th>\n",
       "    </tr>\n",
       "    <tr>\n",
       "      <th>0</th>\n",
       "      <th></th>\n",
       "    </tr>\n",
       "  </thead>\n",
       "  <tbody>\n",
       "    <tr>\n",
       "      <th>Id</th>\n",
       "      <td>Identification number of the property</td>\n",
       "    </tr>\n",
       "    <tr>\n",
       "      <th>Dwell_Type</th>\n",
       "      <td>Identifies the type of dwelling involved in the sale</td>\n",
       "    </tr>\n",
       "    <tr>\n",
       "      <th>Zone_Class</th>\n",
       "      <td>Identifies the general zoning classification of the sale</td>\n",
       "    </tr>\n",
       "    <tr>\n",
       "      <th>LotFrontage</th>\n",
       "      <td>Linear feet of street-connected to the property</td>\n",
       "    </tr>\n",
       "    <tr>\n",
       "      <th>LotArea</th>\n",
       "      <td>Lot size is the lot or parcel side where it adjoins a street, boulevard or access way</td>\n",
       "    </tr>\n",
       "  </tbody>\n",
       "</table>\n",
       "</div>"
      ],
      "text/plain": [
       "                                                                                       description\n",
       "0                                                                                                 \n",
       "Id           Identification number of the property                                                \n",
       "Dwell_Type   Identifies the type of dwelling involved in the sale                                 \n",
       "Zone_Class   Identifies the general zoning classification of the sale                             \n",
       "LotFrontage  Linear feet of street-connected to the property                                      \n",
       "LotArea      Lot size is the lot or parcel side where it adjoins a street, boulevard or access way"
      ]
     },
     "execution_count": 54,
     "metadata": {},
     "output_type": "execute_result"
    }
   ],
   "source": [
    "# Importing the description datasets for understanding the columns better\n",
    "\n",
    "df_desc = pd.read_csv('C:/Users/Darshan/Desktop/property_price_prediction_project/Dataset/desc.csv', header=None)\n",
    "df_desc.index = df_desc[0]\n",
    "df_desc.drop(labels=[0], axis=1, inplace=True)\n",
    "df_desc.columns = ['description']\n",
    "df_desc.head()"
   ]
  },
  {
   "cell_type": "markdown",
   "metadata": {},
   "source": [
    "# Basic Commands"
   ]
  },
  {
   "cell_type": "code",
   "execution_count": 55,
   "metadata": {},
   "outputs": [
    {
     "data": {
      "text/html": [
       "<div>\n",
       "<style scoped>\n",
       "    .dataframe tbody tr th:only-of-type {\n",
       "        vertical-align: middle;\n",
       "    }\n",
       "\n",
       "    .dataframe tbody tr th {\n",
       "        vertical-align: top;\n",
       "    }\n",
       "\n",
       "    .dataframe thead th {\n",
       "        text-align: right;\n",
       "    }\n",
       "</style>\n",
       "<table border=\"1\" class=\"dataframe\">\n",
       "  <thead>\n",
       "    <tr style=\"text-align: right;\">\n",
       "      <th></th>\n",
       "      <th>Id</th>\n",
       "      <th>Dwell_Type</th>\n",
       "      <th>Zone_Class</th>\n",
       "      <th>LotFrontage</th>\n",
       "      <th>LotArea</th>\n",
       "      <th>Road_Type</th>\n",
       "      <th>Alley</th>\n",
       "      <th>Property_Shape</th>\n",
       "      <th>LandContour</th>\n",
       "      <th>Utilities</th>\n",
       "      <th>LotConfig</th>\n",
       "      <th>LandSlope</th>\n",
       "      <th>Neighborhood</th>\n",
       "      <th>Condition1</th>\n",
       "      <th>Condition2</th>\n",
       "      <th>Dwelling_Type</th>\n",
       "      <th>HouseStyle</th>\n",
       "      <th>OverallQual</th>\n",
       "      <th>OverallCond</th>\n",
       "      <th>YearBuilt</th>\n",
       "      <th>YearRemodAdd</th>\n",
       "      <th>RoofStyle</th>\n",
       "      <th>RoofMatl</th>\n",
       "      <th>Exterior1st</th>\n",
       "      <th>Exterior2nd</th>\n",
       "      <th>MasVnrType</th>\n",
       "      <th>MasVnrArea</th>\n",
       "      <th>ExterQual</th>\n",
       "      <th>ExterCond</th>\n",
       "      <th>Foundation</th>\n",
       "      <th>BsmtQual</th>\n",
       "      <th>BsmtCond</th>\n",
       "      <th>BsmtExposure</th>\n",
       "      <th>BsmtFinType1</th>\n",
       "      <th>BsmtFinSF1</th>\n",
       "      <th>BsmtFinType2</th>\n",
       "      <th>BsmtFinSF2</th>\n",
       "      <th>BsmtUnfSF</th>\n",
       "      <th>TotalBsmtSF</th>\n",
       "      <th>Heating</th>\n",
       "      <th>HeatingQC</th>\n",
       "      <th>CentralAir</th>\n",
       "      <th>Electrical</th>\n",
       "      <th>1stFlrSF</th>\n",
       "      <th>2ndFlrSF</th>\n",
       "      <th>LowQualFinSF</th>\n",
       "      <th>GrLivArea</th>\n",
       "      <th>BsmtFullBath</th>\n",
       "      <th>BsmtHalfBath</th>\n",
       "      <th>FullBath</th>\n",
       "      <th>HalfBath</th>\n",
       "      <th>BedroomAbvGr</th>\n",
       "      <th>KitchenAbvGr</th>\n",
       "      <th>KitchenQual</th>\n",
       "      <th>TotRmsAbvGrd</th>\n",
       "      <th>Functional</th>\n",
       "      <th>Fireplaces</th>\n",
       "      <th>FireplaceQu</th>\n",
       "      <th>GarageType</th>\n",
       "      <th>GarageYrBlt</th>\n",
       "      <th>GarageFinish</th>\n",
       "      <th>GarageCars</th>\n",
       "      <th>GarageArea</th>\n",
       "      <th>GarageQual</th>\n",
       "      <th>GarageCond</th>\n",
       "      <th>PavedDrive</th>\n",
       "      <th>WoodDeckSF</th>\n",
       "      <th>OpenPorchSF</th>\n",
       "      <th>EnclosedPorch</th>\n",
       "      <th>3SsnPorch</th>\n",
       "      <th>ScreenPorch</th>\n",
       "      <th>PoolArea</th>\n",
       "      <th>PoolQC</th>\n",
       "      <th>Fence</th>\n",
       "      <th>MiscFeature</th>\n",
       "      <th>MiscVal</th>\n",
       "      <th>MoSold</th>\n",
       "      <th>YrSold</th>\n",
       "      <th>SaleType</th>\n",
       "      <th>SaleCondition</th>\n",
       "      <th>Property_Sale_Price</th>\n",
       "    </tr>\n",
       "  </thead>\n",
       "  <tbody>\n",
       "    <tr>\n",
       "      <th>0</th>\n",
       "      <td>1</td>\n",
       "      <td>60</td>\n",
       "      <td>RL</td>\n",
       "      <td>65.0</td>\n",
       "      <td>8450</td>\n",
       "      <td>Pave</td>\n",
       "      <td>NaN</td>\n",
       "      <td>Reg</td>\n",
       "      <td>Lvl</td>\n",
       "      <td>AllPub</td>\n",
       "      <td>Inside</td>\n",
       "      <td>Gtl</td>\n",
       "      <td>CollgCr</td>\n",
       "      <td>Norm</td>\n",
       "      <td>Norm</td>\n",
       "      <td>1Fam</td>\n",
       "      <td>2Story</td>\n",
       "      <td>7</td>\n",
       "      <td>5</td>\n",
       "      <td>2003</td>\n",
       "      <td>2003</td>\n",
       "      <td>Gable</td>\n",
       "      <td>CompShg</td>\n",
       "      <td>VinylSd</td>\n",
       "      <td>VinylSd</td>\n",
       "      <td>BrkFace</td>\n",
       "      <td>196.0</td>\n",
       "      <td>Gd</td>\n",
       "      <td>TA</td>\n",
       "      <td>PConc</td>\n",
       "      <td>Gd</td>\n",
       "      <td>TA</td>\n",
       "      <td>No</td>\n",
       "      <td>GLQ</td>\n",
       "      <td>706</td>\n",
       "      <td>Unf</td>\n",
       "      <td>0</td>\n",
       "      <td>150</td>\n",
       "      <td>856</td>\n",
       "      <td>GasA</td>\n",
       "      <td>Ex</td>\n",
       "      <td>Y</td>\n",
       "      <td>SBrkr</td>\n",
       "      <td>856</td>\n",
       "      <td>854</td>\n",
       "      <td>0</td>\n",
       "      <td>1710</td>\n",
       "      <td>1</td>\n",
       "      <td>0</td>\n",
       "      <td>2</td>\n",
       "      <td>1</td>\n",
       "      <td>3</td>\n",
       "      <td>1</td>\n",
       "      <td>Gd</td>\n",
       "      <td>8</td>\n",
       "      <td>Typ</td>\n",
       "      <td>0</td>\n",
       "      <td>NaN</td>\n",
       "      <td>Attchd</td>\n",
       "      <td>2003.0</td>\n",
       "      <td>RFn</td>\n",
       "      <td>2</td>\n",
       "      <td>548</td>\n",
       "      <td>TA</td>\n",
       "      <td>TA</td>\n",
       "      <td>Y</td>\n",
       "      <td>0</td>\n",
       "      <td>61</td>\n",
       "      <td>0</td>\n",
       "      <td>0</td>\n",
       "      <td>0</td>\n",
       "      <td>0</td>\n",
       "      <td>NaN</td>\n",
       "      <td>NaN</td>\n",
       "      <td>NaN</td>\n",
       "      <td>0</td>\n",
       "      <td>2</td>\n",
       "      <td>2008</td>\n",
       "      <td>WD</td>\n",
       "      <td>Normal</td>\n",
       "      <td>208500</td>\n",
       "    </tr>\n",
       "    <tr>\n",
       "      <th>1</th>\n",
       "      <td>2</td>\n",
       "      <td>20</td>\n",
       "      <td>RL</td>\n",
       "      <td>80.0</td>\n",
       "      <td>9600</td>\n",
       "      <td>Pave</td>\n",
       "      <td>NaN</td>\n",
       "      <td>Reg</td>\n",
       "      <td>Lvl</td>\n",
       "      <td>AllPub</td>\n",
       "      <td>FR2</td>\n",
       "      <td>Gtl</td>\n",
       "      <td>Veenker</td>\n",
       "      <td>Feedr</td>\n",
       "      <td>Norm</td>\n",
       "      <td>1Fam</td>\n",
       "      <td>1Story</td>\n",
       "      <td>6</td>\n",
       "      <td>8</td>\n",
       "      <td>1976</td>\n",
       "      <td>1976</td>\n",
       "      <td>Gable</td>\n",
       "      <td>CompShg</td>\n",
       "      <td>MetalSd</td>\n",
       "      <td>MetalSd</td>\n",
       "      <td>None</td>\n",
       "      <td>0.0</td>\n",
       "      <td>TA</td>\n",
       "      <td>TA</td>\n",
       "      <td>CBlock</td>\n",
       "      <td>Gd</td>\n",
       "      <td>TA</td>\n",
       "      <td>Gd</td>\n",
       "      <td>ALQ</td>\n",
       "      <td>978</td>\n",
       "      <td>Unf</td>\n",
       "      <td>0</td>\n",
       "      <td>284</td>\n",
       "      <td>1262</td>\n",
       "      <td>GasA</td>\n",
       "      <td>Ex</td>\n",
       "      <td>Y</td>\n",
       "      <td>SBrkr</td>\n",
       "      <td>1262</td>\n",
       "      <td>0</td>\n",
       "      <td>0</td>\n",
       "      <td>1262</td>\n",
       "      <td>0</td>\n",
       "      <td>1</td>\n",
       "      <td>2</td>\n",
       "      <td>0</td>\n",
       "      <td>3</td>\n",
       "      <td>1</td>\n",
       "      <td>TA</td>\n",
       "      <td>6</td>\n",
       "      <td>Typ</td>\n",
       "      <td>1</td>\n",
       "      <td>TA</td>\n",
       "      <td>Attchd</td>\n",
       "      <td>1976.0</td>\n",
       "      <td>RFn</td>\n",
       "      <td>2</td>\n",
       "      <td>460</td>\n",
       "      <td>TA</td>\n",
       "      <td>TA</td>\n",
       "      <td>Y</td>\n",
       "      <td>298</td>\n",
       "      <td>0</td>\n",
       "      <td>0</td>\n",
       "      <td>0</td>\n",
       "      <td>0</td>\n",
       "      <td>0</td>\n",
       "      <td>NaN</td>\n",
       "      <td>NaN</td>\n",
       "      <td>NaN</td>\n",
       "      <td>0</td>\n",
       "      <td>5</td>\n",
       "      <td>2007</td>\n",
       "      <td>WD</td>\n",
       "      <td>Normal</td>\n",
       "      <td>181500</td>\n",
       "    </tr>\n",
       "    <tr>\n",
       "      <th>2</th>\n",
       "      <td>3</td>\n",
       "      <td>60</td>\n",
       "      <td>RL</td>\n",
       "      <td>68.0</td>\n",
       "      <td>11250</td>\n",
       "      <td>Pave</td>\n",
       "      <td>NaN</td>\n",
       "      <td>IR1</td>\n",
       "      <td>Lvl</td>\n",
       "      <td>AllPub</td>\n",
       "      <td>Inside</td>\n",
       "      <td>Gtl</td>\n",
       "      <td>CollgCr</td>\n",
       "      <td>Norm</td>\n",
       "      <td>Norm</td>\n",
       "      <td>1Fam</td>\n",
       "      <td>2Story</td>\n",
       "      <td>7</td>\n",
       "      <td>5</td>\n",
       "      <td>2001</td>\n",
       "      <td>2002</td>\n",
       "      <td>Gable</td>\n",
       "      <td>CompShg</td>\n",
       "      <td>VinylSd</td>\n",
       "      <td>VinylSd</td>\n",
       "      <td>BrkFace</td>\n",
       "      <td>162.0</td>\n",
       "      <td>Gd</td>\n",
       "      <td>TA</td>\n",
       "      <td>PConc</td>\n",
       "      <td>Gd</td>\n",
       "      <td>TA</td>\n",
       "      <td>Mn</td>\n",
       "      <td>GLQ</td>\n",
       "      <td>486</td>\n",
       "      <td>Unf</td>\n",
       "      <td>0</td>\n",
       "      <td>434</td>\n",
       "      <td>920</td>\n",
       "      <td>GasA</td>\n",
       "      <td>Ex</td>\n",
       "      <td>Y</td>\n",
       "      <td>SBrkr</td>\n",
       "      <td>920</td>\n",
       "      <td>866</td>\n",
       "      <td>0</td>\n",
       "      <td>1786</td>\n",
       "      <td>1</td>\n",
       "      <td>0</td>\n",
       "      <td>2</td>\n",
       "      <td>1</td>\n",
       "      <td>3</td>\n",
       "      <td>1</td>\n",
       "      <td>Gd</td>\n",
       "      <td>6</td>\n",
       "      <td>Typ</td>\n",
       "      <td>1</td>\n",
       "      <td>TA</td>\n",
       "      <td>Attchd</td>\n",
       "      <td>2001.0</td>\n",
       "      <td>RFn</td>\n",
       "      <td>2</td>\n",
       "      <td>608</td>\n",
       "      <td>TA</td>\n",
       "      <td>TA</td>\n",
       "      <td>Y</td>\n",
       "      <td>0</td>\n",
       "      <td>42</td>\n",
       "      <td>0</td>\n",
       "      <td>0</td>\n",
       "      <td>0</td>\n",
       "      <td>0</td>\n",
       "      <td>NaN</td>\n",
       "      <td>NaN</td>\n",
       "      <td>NaN</td>\n",
       "      <td>0</td>\n",
       "      <td>9</td>\n",
       "      <td>2008</td>\n",
       "      <td>WD</td>\n",
       "      <td>Normal</td>\n",
       "      <td>223500</td>\n",
       "    </tr>\n",
       "    <tr>\n",
       "      <th>3</th>\n",
       "      <td>4</td>\n",
       "      <td>70</td>\n",
       "      <td>RL</td>\n",
       "      <td>60.0</td>\n",
       "      <td>9550</td>\n",
       "      <td>Pave</td>\n",
       "      <td>NaN</td>\n",
       "      <td>IR1</td>\n",
       "      <td>Lvl</td>\n",
       "      <td>AllPub</td>\n",
       "      <td>Corner</td>\n",
       "      <td>Gtl</td>\n",
       "      <td>Crawfor</td>\n",
       "      <td>Norm</td>\n",
       "      <td>Norm</td>\n",
       "      <td>1Fam</td>\n",
       "      <td>2Story</td>\n",
       "      <td>7</td>\n",
       "      <td>5</td>\n",
       "      <td>1915</td>\n",
       "      <td>1970</td>\n",
       "      <td>Gable</td>\n",
       "      <td>CompShg</td>\n",
       "      <td>Wd Sdng</td>\n",
       "      <td>Wd Shng</td>\n",
       "      <td>None</td>\n",
       "      <td>0.0</td>\n",
       "      <td>TA</td>\n",
       "      <td>TA</td>\n",
       "      <td>BrkTil</td>\n",
       "      <td>TA</td>\n",
       "      <td>Gd</td>\n",
       "      <td>No</td>\n",
       "      <td>ALQ</td>\n",
       "      <td>216</td>\n",
       "      <td>Unf</td>\n",
       "      <td>0</td>\n",
       "      <td>540</td>\n",
       "      <td>756</td>\n",
       "      <td>GasA</td>\n",
       "      <td>Gd</td>\n",
       "      <td>Y</td>\n",
       "      <td>SBrkr</td>\n",
       "      <td>961</td>\n",
       "      <td>756</td>\n",
       "      <td>0</td>\n",
       "      <td>1717</td>\n",
       "      <td>1</td>\n",
       "      <td>0</td>\n",
       "      <td>1</td>\n",
       "      <td>0</td>\n",
       "      <td>3</td>\n",
       "      <td>1</td>\n",
       "      <td>Gd</td>\n",
       "      <td>7</td>\n",
       "      <td>Typ</td>\n",
       "      <td>1</td>\n",
       "      <td>Gd</td>\n",
       "      <td>Detchd</td>\n",
       "      <td>1998.0</td>\n",
       "      <td>Unf</td>\n",
       "      <td>3</td>\n",
       "      <td>642</td>\n",
       "      <td>TA</td>\n",
       "      <td>TA</td>\n",
       "      <td>Y</td>\n",
       "      <td>0</td>\n",
       "      <td>35</td>\n",
       "      <td>272</td>\n",
       "      <td>0</td>\n",
       "      <td>0</td>\n",
       "      <td>0</td>\n",
       "      <td>NaN</td>\n",
       "      <td>NaN</td>\n",
       "      <td>NaN</td>\n",
       "      <td>0</td>\n",
       "      <td>2</td>\n",
       "      <td>2006</td>\n",
       "      <td>WD</td>\n",
       "      <td>Abnorml</td>\n",
       "      <td>140000</td>\n",
       "    </tr>\n",
       "    <tr>\n",
       "      <th>4</th>\n",
       "      <td>5</td>\n",
       "      <td>60</td>\n",
       "      <td>RL</td>\n",
       "      <td>84.0</td>\n",
       "      <td>14260</td>\n",
       "      <td>Pave</td>\n",
       "      <td>NaN</td>\n",
       "      <td>IR1</td>\n",
       "      <td>Lvl</td>\n",
       "      <td>AllPub</td>\n",
       "      <td>FR2</td>\n",
       "      <td>Gtl</td>\n",
       "      <td>NoRidge</td>\n",
       "      <td>Norm</td>\n",
       "      <td>Norm</td>\n",
       "      <td>1Fam</td>\n",
       "      <td>2Story</td>\n",
       "      <td>8</td>\n",
       "      <td>5</td>\n",
       "      <td>2000</td>\n",
       "      <td>2000</td>\n",
       "      <td>Gable</td>\n",
       "      <td>CompShg</td>\n",
       "      <td>VinylSd</td>\n",
       "      <td>VinylSd</td>\n",
       "      <td>BrkFace</td>\n",
       "      <td>350.0</td>\n",
       "      <td>Gd</td>\n",
       "      <td>TA</td>\n",
       "      <td>PConc</td>\n",
       "      <td>Gd</td>\n",
       "      <td>TA</td>\n",
       "      <td>Av</td>\n",
       "      <td>GLQ</td>\n",
       "      <td>655</td>\n",
       "      <td>Unf</td>\n",
       "      <td>0</td>\n",
       "      <td>490</td>\n",
       "      <td>1145</td>\n",
       "      <td>GasA</td>\n",
       "      <td>Ex</td>\n",
       "      <td>Y</td>\n",
       "      <td>SBrkr</td>\n",
       "      <td>1145</td>\n",
       "      <td>1053</td>\n",
       "      <td>0</td>\n",
       "      <td>2198</td>\n",
       "      <td>1</td>\n",
       "      <td>0</td>\n",
       "      <td>2</td>\n",
       "      <td>1</td>\n",
       "      <td>4</td>\n",
       "      <td>1</td>\n",
       "      <td>Gd</td>\n",
       "      <td>9</td>\n",
       "      <td>Typ</td>\n",
       "      <td>1</td>\n",
       "      <td>TA</td>\n",
       "      <td>Attchd</td>\n",
       "      <td>2000.0</td>\n",
       "      <td>RFn</td>\n",
       "      <td>3</td>\n",
       "      <td>836</td>\n",
       "      <td>TA</td>\n",
       "      <td>TA</td>\n",
       "      <td>Y</td>\n",
       "      <td>192</td>\n",
       "      <td>84</td>\n",
       "      <td>0</td>\n",
       "      <td>0</td>\n",
       "      <td>0</td>\n",
       "      <td>0</td>\n",
       "      <td>NaN</td>\n",
       "      <td>NaN</td>\n",
       "      <td>NaN</td>\n",
       "      <td>0</td>\n",
       "      <td>12</td>\n",
       "      <td>2008</td>\n",
       "      <td>WD</td>\n",
       "      <td>Normal</td>\n",
       "      <td>250000</td>\n",
       "    </tr>\n",
       "  </tbody>\n",
       "</table>\n",
       "</div>"
      ],
      "text/plain": [
       "   Id  Dwell_Type Zone_Class  LotFrontage  LotArea Road_Type Alley  \\\n",
       "0  1   60          RL         65.0         8450     Pave      NaN    \n",
       "1  2   20          RL         80.0         9600     Pave      NaN    \n",
       "2  3   60          RL         68.0         11250    Pave      NaN    \n",
       "3  4   70          RL         60.0         9550     Pave      NaN    \n",
       "4  5   60          RL         84.0         14260    Pave      NaN    \n",
       "\n",
       "  Property_Shape LandContour Utilities LotConfig LandSlope Neighborhood  \\\n",
       "0  Reg            Lvl         AllPub    Inside    Gtl       CollgCr       \n",
       "1  Reg            Lvl         AllPub    FR2       Gtl       Veenker       \n",
       "2  IR1            Lvl         AllPub    Inside    Gtl       CollgCr       \n",
       "3  IR1            Lvl         AllPub    Corner    Gtl       Crawfor       \n",
       "4  IR1            Lvl         AllPub    FR2       Gtl       NoRidge       \n",
       "\n",
       "  Condition1 Condition2 Dwelling_Type HouseStyle  OverallQual  OverallCond  \\\n",
       "0  Norm       Norm       1Fam          2Story     7            5             \n",
       "1  Feedr      Norm       1Fam          1Story     6            8             \n",
       "2  Norm       Norm       1Fam          2Story     7            5             \n",
       "3  Norm       Norm       1Fam          2Story     7            5             \n",
       "4  Norm       Norm       1Fam          2Story     8            5             \n",
       "\n",
       "   YearBuilt  YearRemodAdd RoofStyle RoofMatl Exterior1st Exterior2nd  \\\n",
       "0  2003       2003          Gable     CompShg  VinylSd     VinylSd      \n",
       "1  1976       1976          Gable     CompShg  MetalSd     MetalSd      \n",
       "2  2001       2002          Gable     CompShg  VinylSd     VinylSd      \n",
       "3  1915       1970          Gable     CompShg  Wd Sdng     Wd Shng      \n",
       "4  2000       2000          Gable     CompShg  VinylSd     VinylSd      \n",
       "\n",
       "  MasVnrType  MasVnrArea ExterQual ExterCond Foundation BsmtQual BsmtCond  \\\n",
       "0  BrkFace    196.0       Gd        TA        PConc      Gd       TA        \n",
       "1  None       0.0         TA        TA        CBlock     Gd       TA        \n",
       "2  BrkFace    162.0       Gd        TA        PConc      Gd       TA        \n",
       "3  None       0.0         TA        TA        BrkTil     TA       Gd        \n",
       "4  BrkFace    350.0       Gd        TA        PConc      Gd       TA        \n",
       "\n",
       "  BsmtExposure BsmtFinType1  BsmtFinSF1 BsmtFinType2  BsmtFinSF2  BsmtUnfSF  \\\n",
       "0  No           GLQ          706         Unf          0           150         \n",
       "1  Gd           ALQ          978         Unf          0           284         \n",
       "2  Mn           GLQ          486         Unf          0           434         \n",
       "3  No           ALQ          216         Unf          0           540         \n",
       "4  Av           GLQ          655         Unf          0           490         \n",
       "\n",
       "   TotalBsmtSF Heating HeatingQC CentralAir Electrical  1stFlrSF  2ndFlrSF  \\\n",
       "0  856          GasA    Ex        Y          SBrkr      856       854        \n",
       "1  1262         GasA    Ex        Y          SBrkr      1262      0          \n",
       "2  920          GasA    Ex        Y          SBrkr      920       866        \n",
       "3  756          GasA    Gd        Y          SBrkr      961       756        \n",
       "4  1145         GasA    Ex        Y          SBrkr      1145      1053       \n",
       "\n",
       "   LowQualFinSF  GrLivArea  BsmtFullBath  BsmtHalfBath  FullBath  HalfBath  \\\n",
       "0  0             1710       1             0             2         1          \n",
       "1  0             1262       0             1             2         0          \n",
       "2  0             1786       1             0             2         1          \n",
       "3  0             1717       1             0             1         0          \n",
       "4  0             2198       1             0             2         1          \n",
       "\n",
       "   BedroomAbvGr  KitchenAbvGr KitchenQual  TotRmsAbvGrd Functional  \\\n",
       "0  3             1             Gd          8             Typ         \n",
       "1  3             1             TA          6             Typ         \n",
       "2  3             1             Gd          6             Typ         \n",
       "3  3             1             Gd          7             Typ         \n",
       "4  4             1             Gd          9             Typ         \n",
       "\n",
       "   Fireplaces FireplaceQu GarageType  GarageYrBlt GarageFinish  GarageCars  \\\n",
       "0  0           NaN         Attchd     2003.0       RFn          2            \n",
       "1  1           TA          Attchd     1976.0       RFn          2            \n",
       "2  1           TA          Attchd     2001.0       RFn          2            \n",
       "3  1           Gd          Detchd     1998.0       Unf          3            \n",
       "4  1           TA          Attchd     2000.0       RFn          3            \n",
       "\n",
       "   GarageArea GarageQual GarageCond PavedDrive  WoodDeckSF  OpenPorchSF  \\\n",
       "0  548         TA         TA         Y          0           61            \n",
       "1  460         TA         TA         Y          298         0             \n",
       "2  608         TA         TA         Y          0           42            \n",
       "3  642         TA         TA         Y          0           35            \n",
       "4  836         TA         TA         Y          192         84            \n",
       "\n",
       "   EnclosedPorch  3SsnPorch  ScreenPorch  PoolArea PoolQC Fence MiscFeature  \\\n",
       "0  0              0          0            0         NaN    NaN   NaN          \n",
       "1  0              0          0            0         NaN    NaN   NaN          \n",
       "2  0              0          0            0         NaN    NaN   NaN          \n",
       "3  272            0          0            0         NaN    NaN   NaN          \n",
       "4  0              0          0            0         NaN    NaN   NaN          \n",
       "\n",
       "   MiscVal  MoSold  YrSold SaleType SaleCondition  Property_Sale_Price  \n",
       "0  0        2       2008    WD       Normal        208500               \n",
       "1  0        5       2007    WD       Normal        181500               \n",
       "2  0        9       2008    WD       Normal        223500               \n",
       "3  0        2       2006    WD       Abnorml       140000               \n",
       "4  0        12      2008    WD       Normal        250000               "
      ]
     },
     "execution_count": 55,
     "metadata": {},
     "output_type": "execute_result"
    }
   ],
   "source": [
    "df.head()"
   ]
  },
  {
   "cell_type": "code",
   "execution_count": 56,
   "metadata": {},
   "outputs": [
    {
     "name": "stdout",
     "output_type": "stream",
     "text": [
      "<class 'pandas.core.frame.DataFrame'>\n",
      "RangeIndex: 2073 entries, 0 to 2072\n",
      "Data columns (total 81 columns):\n",
      " #   Column               Non-Null Count  Dtype  \n",
      "---  ------               --------------  -----  \n",
      " 0   Id                   2073 non-null   int64  \n",
      " 1   Dwell_Type           2073 non-null   int64  \n",
      " 2   Zone_Class           2073 non-null   object \n",
      " 3   LotFrontage          1753 non-null   float64\n",
      " 4   LotArea              2073 non-null   int64  \n",
      " 5   Road_Type            2073 non-null   object \n",
      " 6   Alley                129 non-null    object \n",
      " 7   Property_Shape       2073 non-null   object \n",
      " 8   LandContour          2073 non-null   object \n",
      " 9   Utilities            2073 non-null   object \n",
      " 10  LotConfig            2073 non-null   object \n",
      " 11  LandSlope            2073 non-null   object \n",
      " 12  Neighborhood         2073 non-null   object \n",
      " 13  Condition1           2073 non-null   object \n",
      " 14  Condition2           2073 non-null   object \n",
      " 15  Dwelling_Type        2073 non-null   object \n",
      " 16  HouseStyle           2073 non-null   object \n",
      " 17  OverallQual          2073 non-null   int64  \n",
      " 18  OverallCond          2073 non-null   int64  \n",
      " 19  YearBuilt            2073 non-null   int64  \n",
      " 20  YearRemodAdd         2073 non-null   int64  \n",
      " 21  RoofStyle            2073 non-null   object \n",
      " 22  RoofMatl             2073 non-null   object \n",
      " 23  Exterior1st          2073 non-null   object \n",
      " 24  Exterior2nd          2073 non-null   object \n",
      " 25  MasVnrType           2059 non-null   object \n",
      " 26  MasVnrArea           2059 non-null   float64\n",
      " 27  ExterQual            2073 non-null   object \n",
      " 28  ExterCond            2073 non-null   object \n",
      " 29  Foundation           2073 non-null   object \n",
      " 30  BsmtQual             2014 non-null   object \n",
      " 31  BsmtCond             2014 non-null   object \n",
      " 32  BsmtExposure         2012 non-null   object \n",
      " 33  BsmtFinType1         2014 non-null   object \n",
      " 34  BsmtFinSF1           2073 non-null   int64  \n",
      " 35  BsmtFinType2         2013 non-null   object \n",
      " 36  BsmtFinSF2           2073 non-null   int64  \n",
      " 37  BsmtUnfSF            2073 non-null   int64  \n",
      " 38  TotalBsmtSF          2073 non-null   int64  \n",
      " 39  Heating              2073 non-null   object \n",
      " 40  HeatingQC            2073 non-null   object \n",
      " 41  CentralAir           2073 non-null   object \n",
      " 42  Electrical           2072 non-null   object \n",
      " 43  1stFlrSF             2073 non-null   int64  \n",
      " 44  2ndFlrSF             2073 non-null   int64  \n",
      " 45  LowQualFinSF         2073 non-null   int64  \n",
      " 46  GrLivArea            2073 non-null   int64  \n",
      " 47  BsmtFullBath         2073 non-null   int64  \n",
      " 48  BsmtHalfBath         2073 non-null   int64  \n",
      " 49  FullBath             2073 non-null   int64  \n",
      " 50  HalfBath             2073 non-null   int64  \n",
      " 51  BedroomAbvGr         2073 non-null   int64  \n",
      " 52  KitchenAbvGr         2073 non-null   int64  \n",
      " 53  KitchenQual          2073 non-null   object \n",
      " 54  TotRmsAbvGrd         2073 non-null   int64  \n",
      " 55  Functional           2073 non-null   object \n",
      " 56  Fireplaces           2073 non-null   int64  \n",
      " 57  FireplaceQu          1085 non-null   object \n",
      " 58  GarageType           1960 non-null   object \n",
      " 59  GarageYrBlt          1960 non-null   float64\n",
      " 60  GarageFinish         1960 non-null   object \n",
      " 61  GarageCars           2073 non-null   int64  \n",
      " 62  GarageArea           2073 non-null   int64  \n",
      " 63  GarageQual           1960 non-null   object \n",
      " 64  GarageCond           1960 non-null   object \n",
      " 65  PavedDrive           2073 non-null   object \n",
      " 66  WoodDeckSF           2073 non-null   int64  \n",
      " 67  OpenPorchSF          2073 non-null   int64  \n",
      " 68  EnclosedPorch        2073 non-null   int64  \n",
      " 69  3SsnPorch            2073 non-null   int64  \n",
      " 70  ScreenPorch          2073 non-null   int64  \n",
      " 71  PoolArea             2073 non-null   int64  \n",
      " 72  PoolQC               8 non-null      object \n",
      " 73  Fence                404 non-null    object \n",
      " 74  MiscFeature          80 non-null     object \n",
      " 75  MiscVal              2073 non-null   int64  \n",
      " 76  MoSold               2073 non-null   int64  \n",
      " 77  YrSold               2073 non-null   int64  \n",
      " 78  SaleType             2073 non-null   object \n",
      " 79  SaleCondition        2073 non-null   object \n",
      " 80  Property_Sale_Price  2073 non-null   int64  \n",
      "dtypes: float64(3), int64(35), object(43)\n",
      "memory usage: 1.3+ MB\n"
     ]
    }
   ],
   "source": [
    "df.info()"
   ]
  },
  {
   "cell_type": "code",
   "execution_count": 57,
   "metadata": {},
   "outputs": [
    {
     "data": {
      "text/html": [
       "<div>\n",
       "<style scoped>\n",
       "    .dataframe tbody tr th:only-of-type {\n",
       "        vertical-align: middle;\n",
       "    }\n",
       "\n",
       "    .dataframe tbody tr th {\n",
       "        vertical-align: top;\n",
       "    }\n",
       "\n",
       "    .dataframe thead th {\n",
       "        text-align: right;\n",
       "    }\n",
       "</style>\n",
       "<table border=\"1\" class=\"dataframe\">\n",
       "  <thead>\n",
       "    <tr style=\"text-align: right;\">\n",
       "      <th></th>\n",
       "      <th>count</th>\n",
       "      <th>mean</th>\n",
       "      <th>std</th>\n",
       "      <th>min</th>\n",
       "      <th>25%</th>\n",
       "      <th>50%</th>\n",
       "      <th>75%</th>\n",
       "      <th>max</th>\n",
       "    </tr>\n",
       "  </thead>\n",
       "  <tbody>\n",
       "    <tr>\n",
       "      <th>Id</th>\n",
       "      <td>2073.0</td>\n",
       "      <td>916.132176</td>\n",
       "      <td>493.014670</td>\n",
       "      <td>1.0</td>\n",
       "      <td>519.0</td>\n",
       "      <td>932.0</td>\n",
       "      <td>1302.0</td>\n",
       "      <td>1820.0</td>\n",
       "    </tr>\n",
       "    <tr>\n",
       "      <th>Dwell_Type</th>\n",
       "      <td>2073.0</td>\n",
       "      <td>60.556199</td>\n",
       "      <td>159.924810</td>\n",
       "      <td>20.0</td>\n",
       "      <td>20.0</td>\n",
       "      <td>50.0</td>\n",
       "      <td>70.0</td>\n",
       "      <td>7080.0</td>\n",
       "    </tr>\n",
       "    <tr>\n",
       "      <th>LotFrontage</th>\n",
       "      <td>1753.0</td>\n",
       "      <td>72.056475</td>\n",
       "      <td>27.987475</td>\n",
       "      <td>21.0</td>\n",
       "      <td>60.0</td>\n",
       "      <td>70.0</td>\n",
       "      <td>83.0</td>\n",
       "      <td>313.0</td>\n",
       "    </tr>\n",
       "    <tr>\n",
       "      <th>LotArea</th>\n",
       "      <td>2073.0</td>\n",
       "      <td>10717.853353</td>\n",
       "      <td>9215.982306</td>\n",
       "      <td>1300.0</td>\n",
       "      <td>7620.0</td>\n",
       "      <td>9492.0</td>\n",
       "      <td>11601.0</td>\n",
       "      <td>215245.0</td>\n",
       "    </tr>\n",
       "    <tr>\n",
       "      <th>OverallQual</th>\n",
       "      <td>2073.0</td>\n",
       "      <td>6.233478</td>\n",
       "      <td>1.517115</td>\n",
       "      <td>1.0</td>\n",
       "      <td>5.0</td>\n",
       "      <td>6.0</td>\n",
       "      <td>7.0</td>\n",
       "      <td>10.0</td>\n",
       "    </tr>\n",
       "    <tr>\n",
       "      <th>OverallCond</th>\n",
       "      <td>2073.0</td>\n",
       "      <td>5.835022</td>\n",
       "      <td>1.360214</td>\n",
       "      <td>1.0</td>\n",
       "      <td>5.0</td>\n",
       "      <td>5.0</td>\n",
       "      <td>7.0</td>\n",
       "      <td>9.0</td>\n",
       "    </tr>\n",
       "    <tr>\n",
       "      <th>YearBuilt</th>\n",
       "      <td>2073.0</td>\n",
       "      <td>1969.445731</td>\n",
       "      <td>30.222647</td>\n",
       "      <td>1872.0</td>\n",
       "      <td>1950.0</td>\n",
       "      <td>1971.0</td>\n",
       "      <td>1999.0</td>\n",
       "      <td>2010.0</td>\n",
       "    </tr>\n",
       "    <tr>\n",
       "      <th>YearRemodAdd</th>\n",
       "      <td>2073.0</td>\n",
       "      <td>1986.617463</td>\n",
       "      <td>20.432694</td>\n",
       "      <td>1950.0</td>\n",
       "      <td>1970.0</td>\n",
       "      <td>1995.0</td>\n",
       "      <td>2004.0</td>\n",
       "      <td>2023.0</td>\n",
       "    </tr>\n",
       "    <tr>\n",
       "      <th>MasVnrArea</th>\n",
       "      <td>2059.0</td>\n",
       "      <td>101.875668</td>\n",
       "      <td>179.169217</td>\n",
       "      <td>0.0</td>\n",
       "      <td>0.0</td>\n",
       "      <td>0.0</td>\n",
       "      <td>161.5</td>\n",
       "      <td>1600.0</td>\n",
       "    </tr>\n",
       "    <tr>\n",
       "      <th>BsmtFinSF1</th>\n",
       "      <td>2073.0</td>\n",
       "      <td>437.949349</td>\n",
       "      <td>448.051119</td>\n",
       "      <td>0.0</td>\n",
       "      <td>0.0</td>\n",
       "      <td>381.0</td>\n",
       "      <td>708.0</td>\n",
       "      <td>5644.0</td>\n",
       "    </tr>\n",
       "    <tr>\n",
       "      <th>BsmtFinSF2</th>\n",
       "      <td>2073.0</td>\n",
       "      <td>49.219489</td>\n",
       "      <td>165.621465</td>\n",
       "      <td>0.0</td>\n",
       "      <td>0.0</td>\n",
       "      <td>0.0</td>\n",
       "      <td>0.0</td>\n",
       "      <td>1474.0</td>\n",
       "    </tr>\n",
       "    <tr>\n",
       "      <th>BsmtUnfSF</th>\n",
       "      <td>2073.0</td>\n",
       "      <td>565.101302</td>\n",
       "      <td>449.730940</td>\n",
       "      <td>0.0</td>\n",
       "      <td>208.0</td>\n",
       "      <td>466.0</td>\n",
       "      <td>804.0</td>\n",
       "      <td>2336.0</td>\n",
       "    </tr>\n",
       "    <tr>\n",
       "      <th>TotalBsmtSF</th>\n",
       "      <td>2073.0</td>\n",
       "      <td>1052.270140</td>\n",
       "      <td>431.026436</td>\n",
       "      <td>0.0</td>\n",
       "      <td>794.0</td>\n",
       "      <td>990.0</td>\n",
       "      <td>1291.0</td>\n",
       "      <td>6110.0</td>\n",
       "    </tr>\n",
       "    <tr>\n",
       "      <th>1stFlrSF</th>\n",
       "      <td>2073.0</td>\n",
       "      <td>1166.096961</td>\n",
       "      <td>376.975119</td>\n",
       "      <td>334.0</td>\n",
       "      <td>894.0</td>\n",
       "      <td>1095.0</td>\n",
       "      <td>1391.0</td>\n",
       "      <td>4692.0</td>\n",
       "    </tr>\n",
       "    <tr>\n",
       "      <th>2ndFlrSF</th>\n",
       "      <td>2073.0</td>\n",
       "      <td>344.745779</td>\n",
       "      <td>438.844748</td>\n",
       "      <td>0.0</td>\n",
       "      <td>0.0</td>\n",
       "      <td>0.0</td>\n",
       "      <td>730.0</td>\n",
       "      <td>2065.0</td>\n",
       "    </tr>\n",
       "    <tr>\n",
       "      <th>LowQualFinSF</th>\n",
       "      <td>2073.0</td>\n",
       "      <td>6.168355</td>\n",
       "      <td>49.553967</td>\n",
       "      <td>0.0</td>\n",
       "      <td>0.0</td>\n",
       "      <td>0.0</td>\n",
       "      <td>0.0</td>\n",
       "      <td>572.0</td>\n",
       "    </tr>\n",
       "    <tr>\n",
       "      <th>GrLivArea</th>\n",
       "      <td>2073.0</td>\n",
       "      <td>1517.011095</td>\n",
       "      <td>517.236428</td>\n",
       "      <td>334.0</td>\n",
       "      <td>1126.0</td>\n",
       "      <td>1470.0</td>\n",
       "      <td>1792.0</td>\n",
       "      <td>5642.0</td>\n",
       "    </tr>\n",
       "    <tr>\n",
       "      <th>BsmtFullBath</th>\n",
       "      <td>2073.0</td>\n",
       "      <td>0.429329</td>\n",
       "      <td>0.522605</td>\n",
       "      <td>0.0</td>\n",
       "      <td>0.0</td>\n",
       "      <td>0.0</td>\n",
       "      <td>1.0</td>\n",
       "      <td>3.0</td>\n",
       "    </tr>\n",
       "    <tr>\n",
       "      <th>BsmtHalfBath</th>\n",
       "      <td>2073.0</td>\n",
       "      <td>0.056440</td>\n",
       "      <td>0.237015</td>\n",
       "      <td>0.0</td>\n",
       "      <td>0.0</td>\n",
       "      <td>0.0</td>\n",
       "      <td>0.0</td>\n",
       "      <td>2.0</td>\n",
       "    </tr>\n",
       "    <tr>\n",
       "      <th>FullBath</th>\n",
       "      <td>2073.0</td>\n",
       "      <td>1.571635</td>\n",
       "      <td>0.545963</td>\n",
       "      <td>0.0</td>\n",
       "      <td>1.0</td>\n",
       "      <td>2.0</td>\n",
       "      <td>2.0</td>\n",
       "      <td>3.0</td>\n",
       "    </tr>\n",
       "    <tr>\n",
       "      <th>HalfBath</th>\n",
       "      <td>2073.0</td>\n",
       "      <td>0.378678</td>\n",
       "      <td>0.499873</td>\n",
       "      <td>0.0</td>\n",
       "      <td>0.0</td>\n",
       "      <td>0.0</td>\n",
       "      <td>1.0</td>\n",
       "      <td>2.0</td>\n",
       "    </tr>\n",
       "    <tr>\n",
       "      <th>BedroomAbvGr</th>\n",
       "      <td>2073.0</td>\n",
       "      <td>2.874096</td>\n",
       "      <td>0.816144</td>\n",
       "      <td>0.0</td>\n",
       "      <td>2.0</td>\n",
       "      <td>3.0</td>\n",
       "      <td>3.0</td>\n",
       "      <td>8.0</td>\n",
       "    </tr>\n",
       "    <tr>\n",
       "      <th>KitchenAbvGr</th>\n",
       "      <td>2073.0</td>\n",
       "      <td>1.052581</td>\n",
       "      <td>0.237901</td>\n",
       "      <td>0.0</td>\n",
       "      <td>1.0</td>\n",
       "      <td>1.0</td>\n",
       "      <td>1.0</td>\n",
       "      <td>3.0</td>\n",
       "    </tr>\n",
       "    <tr>\n",
       "      <th>TotRmsAbvGrd</th>\n",
       "      <td>2073.0</td>\n",
       "      <td>6.540280</td>\n",
       "      <td>1.629673</td>\n",
       "      <td>2.0</td>\n",
       "      <td>5.0</td>\n",
       "      <td>6.0</td>\n",
       "      <td>7.0</td>\n",
       "      <td>14.0</td>\n",
       "    </tr>\n",
       "    <tr>\n",
       "      <th>Fireplaces</th>\n",
       "      <td>2073.0</td>\n",
       "      <td>0.602026</td>\n",
       "      <td>0.633931</td>\n",
       "      <td>0.0</td>\n",
       "      <td>0.0</td>\n",
       "      <td>1.0</td>\n",
       "      <td>1.0</td>\n",
       "      <td>3.0</td>\n",
       "    </tr>\n",
       "    <tr>\n",
       "      <th>GarageYrBlt</th>\n",
       "      <td>1960.0</td>\n",
       "      <td>1980.418367</td>\n",
       "      <td>24.158327</td>\n",
       "      <td>1906.0</td>\n",
       "      <td>1963.0</td>\n",
       "      <td>1984.0</td>\n",
       "      <td>2003.0</td>\n",
       "      <td>2019.0</td>\n",
       "    </tr>\n",
       "    <tr>\n",
       "      <th>GarageCars</th>\n",
       "      <td>2073.0</td>\n",
       "      <td>1.775687</td>\n",
       "      <td>0.741976</td>\n",
       "      <td>0.0</td>\n",
       "      <td>1.0</td>\n",
       "      <td>2.0</td>\n",
       "      <td>2.0</td>\n",
       "      <td>4.0</td>\n",
       "    </tr>\n",
       "    <tr>\n",
       "      <th>GarageArea</th>\n",
       "      <td>2073.0</td>\n",
       "      <td>474.683068</td>\n",
       "      <td>212.284955</td>\n",
       "      <td>0.0</td>\n",
       "      <td>336.0</td>\n",
       "      <td>480.0</td>\n",
       "      <td>576.0</td>\n",
       "      <td>1418.0</td>\n",
       "    </tr>\n",
       "    <tr>\n",
       "      <th>WoodDeckSF</th>\n",
       "      <td>2073.0</td>\n",
       "      <td>94.168837</td>\n",
       "      <td>129.072113</td>\n",
       "      <td>0.0</td>\n",
       "      <td>0.0</td>\n",
       "      <td>0.0</td>\n",
       "      <td>168.0</td>\n",
       "      <td>857.0</td>\n",
       "    </tr>\n",
       "    <tr>\n",
       "      <th>OpenPorchSF</th>\n",
       "      <td>2073.0</td>\n",
       "      <td>46.035697</td>\n",
       "      <td>64.768713</td>\n",
       "      <td>0.0</td>\n",
       "      <td>0.0</td>\n",
       "      <td>24.0</td>\n",
       "      <td>67.0</td>\n",
       "      <td>547.0</td>\n",
       "    </tr>\n",
       "    <tr>\n",
       "      <th>EnclosedPorch</th>\n",
       "      <td>2073.0</td>\n",
       "      <td>21.029908</td>\n",
       "      <td>59.569928</td>\n",
       "      <td>0.0</td>\n",
       "      <td>0.0</td>\n",
       "      <td>0.0</td>\n",
       "      <td>0.0</td>\n",
       "      <td>552.0</td>\n",
       "    </tr>\n",
       "    <tr>\n",
       "      <th>3SsnPorch</th>\n",
       "      <td>2073.0</td>\n",
       "      <td>2.979257</td>\n",
       "      <td>26.817218</td>\n",
       "      <td>0.0</td>\n",
       "      <td>0.0</td>\n",
       "      <td>0.0</td>\n",
       "      <td>0.0</td>\n",
       "      <td>508.0</td>\n",
       "    </tr>\n",
       "    <tr>\n",
       "      <th>ScreenPorch</th>\n",
       "      <td>2073.0</td>\n",
       "      <td>14.552340</td>\n",
       "      <td>54.099626</td>\n",
       "      <td>0.0</td>\n",
       "      <td>0.0</td>\n",
       "      <td>0.0</td>\n",
       "      <td>0.0</td>\n",
       "      <td>480.0</td>\n",
       "    </tr>\n",
       "    <tr>\n",
       "      <th>PoolArea</th>\n",
       "      <td>2073.0</td>\n",
       "      <td>2.299083</td>\n",
       "      <td>37.411031</td>\n",
       "      <td>0.0</td>\n",
       "      <td>0.0</td>\n",
       "      <td>0.0</td>\n",
       "      <td>0.0</td>\n",
       "      <td>738.0</td>\n",
       "    </tr>\n",
       "    <tr>\n",
       "      <th>MiscVal</th>\n",
       "      <td>2073.0</td>\n",
       "      <td>39.736614</td>\n",
       "      <td>429.819512</td>\n",
       "      <td>0.0</td>\n",
       "      <td>0.0</td>\n",
       "      <td>0.0</td>\n",
       "      <td>0.0</td>\n",
       "      <td>15500.0</td>\n",
       "    </tr>\n",
       "    <tr>\n",
       "      <th>MoSold</th>\n",
       "      <td>2073.0</td>\n",
       "      <td>6.287506</td>\n",
       "      <td>2.690130</td>\n",
       "      <td>1.0</td>\n",
       "      <td>5.0</td>\n",
       "      <td>6.0</td>\n",
       "      <td>8.0</td>\n",
       "      <td>12.0</td>\n",
       "    </tr>\n",
       "    <tr>\n",
       "      <th>YrSold</th>\n",
       "      <td>2073.0</td>\n",
       "      <td>2007.851905</td>\n",
       "      <td>1.329705</td>\n",
       "      <td>2006.0</td>\n",
       "      <td>2007.0</td>\n",
       "      <td>2008.0</td>\n",
       "      <td>2009.0</td>\n",
       "      <td>2010.0</td>\n",
       "    </tr>\n",
       "    <tr>\n",
       "      <th>Property_Sale_Price</th>\n",
       "      <td>2073.0</td>\n",
       "      <td>180967.284129</td>\n",
       "      <td>78666.411112</td>\n",
       "      <td>34900.0</td>\n",
       "      <td>130000.0</td>\n",
       "      <td>163990.0</td>\n",
       "      <td>214000.0</td>\n",
       "      <td>755000.0</td>\n",
       "    </tr>\n",
       "  </tbody>\n",
       "</table>\n",
       "</div>"
      ],
      "text/plain": [
       "                      count           mean           std      min       25%  \\\n",
       "Id                   2073.0  916.132176     493.014670    1.0      519.0      \n",
       "Dwell_Type           2073.0  60.556199      159.924810    20.0     20.0       \n",
       "LotFrontage          1753.0  72.056475      27.987475     21.0     60.0       \n",
       "LotArea              2073.0  10717.853353   9215.982306   1300.0   7620.0     \n",
       "OverallQual          2073.0  6.233478       1.517115      1.0      5.0        \n",
       "OverallCond          2073.0  5.835022       1.360214      1.0      5.0        \n",
       "YearBuilt            2073.0  1969.445731    30.222647     1872.0   1950.0     \n",
       "YearRemodAdd         2073.0  1986.617463    20.432694     1950.0   1970.0     \n",
       "MasVnrArea           2059.0  101.875668     179.169217    0.0      0.0        \n",
       "BsmtFinSF1           2073.0  437.949349     448.051119    0.0      0.0        \n",
       "BsmtFinSF2           2073.0  49.219489      165.621465    0.0      0.0        \n",
       "BsmtUnfSF            2073.0  565.101302     449.730940    0.0      208.0      \n",
       "TotalBsmtSF          2073.0  1052.270140    431.026436    0.0      794.0      \n",
       "1stFlrSF             2073.0  1166.096961    376.975119    334.0    894.0      \n",
       "2ndFlrSF             2073.0  344.745779     438.844748    0.0      0.0        \n",
       "LowQualFinSF         2073.0  6.168355       49.553967     0.0      0.0        \n",
       "GrLivArea            2073.0  1517.011095    517.236428    334.0    1126.0     \n",
       "BsmtFullBath         2073.0  0.429329       0.522605      0.0      0.0        \n",
       "BsmtHalfBath         2073.0  0.056440       0.237015      0.0      0.0        \n",
       "FullBath             2073.0  1.571635       0.545963      0.0      1.0        \n",
       "HalfBath             2073.0  0.378678       0.499873      0.0      0.0        \n",
       "BedroomAbvGr         2073.0  2.874096       0.816144      0.0      2.0        \n",
       "KitchenAbvGr         2073.0  1.052581       0.237901      0.0      1.0        \n",
       "TotRmsAbvGrd         2073.0  6.540280       1.629673      2.0      5.0        \n",
       "Fireplaces           2073.0  0.602026       0.633931      0.0      0.0        \n",
       "GarageYrBlt          1960.0  1980.418367    24.158327     1906.0   1963.0     \n",
       "GarageCars           2073.0  1.775687       0.741976      0.0      1.0        \n",
       "GarageArea           2073.0  474.683068     212.284955    0.0      336.0      \n",
       "WoodDeckSF           2073.0  94.168837      129.072113    0.0      0.0        \n",
       "OpenPorchSF          2073.0  46.035697      64.768713     0.0      0.0        \n",
       "EnclosedPorch        2073.0  21.029908      59.569928     0.0      0.0        \n",
       "3SsnPorch            2073.0  2.979257       26.817218     0.0      0.0        \n",
       "ScreenPorch          2073.0  14.552340      54.099626     0.0      0.0        \n",
       "PoolArea             2073.0  2.299083       37.411031     0.0      0.0        \n",
       "MiscVal              2073.0  39.736614      429.819512    0.0      0.0        \n",
       "MoSold               2073.0  6.287506       2.690130      1.0      5.0        \n",
       "YrSold               2073.0  2007.851905    1.329705      2006.0   2007.0     \n",
       "Property_Sale_Price  2073.0  180967.284129  78666.411112  34900.0  130000.0   \n",
       "\n",
       "                          50%       75%       max  \n",
       "Id                   932.0     1302.0    1820.0    \n",
       "Dwell_Type           50.0      70.0      7080.0    \n",
       "LotFrontage          70.0      83.0      313.0     \n",
       "LotArea              9492.0    11601.0   215245.0  \n",
       "OverallQual          6.0       7.0       10.0      \n",
       "OverallCond          5.0       7.0       9.0       \n",
       "YearBuilt            1971.0    1999.0    2010.0    \n",
       "YearRemodAdd         1995.0    2004.0    2023.0    \n",
       "MasVnrArea           0.0       161.5     1600.0    \n",
       "BsmtFinSF1           381.0     708.0     5644.0    \n",
       "BsmtFinSF2           0.0       0.0       1474.0    \n",
       "BsmtUnfSF            466.0     804.0     2336.0    \n",
       "TotalBsmtSF          990.0     1291.0    6110.0    \n",
       "1stFlrSF             1095.0    1391.0    4692.0    \n",
       "2ndFlrSF             0.0       730.0     2065.0    \n",
       "LowQualFinSF         0.0       0.0       572.0     \n",
       "GrLivArea            1470.0    1792.0    5642.0    \n",
       "BsmtFullBath         0.0       1.0       3.0       \n",
       "BsmtHalfBath         0.0       0.0       2.0       \n",
       "FullBath             2.0       2.0       3.0       \n",
       "HalfBath             0.0       1.0       2.0       \n",
       "BedroomAbvGr         3.0       3.0       8.0       \n",
       "KitchenAbvGr         1.0       1.0       3.0       \n",
       "TotRmsAbvGrd         6.0       7.0       14.0      \n",
       "Fireplaces           1.0       1.0       3.0       \n",
       "GarageYrBlt          1984.0    2003.0    2019.0    \n",
       "GarageCars           2.0       2.0       4.0       \n",
       "GarageArea           480.0     576.0     1418.0    \n",
       "WoodDeckSF           0.0       168.0     857.0     \n",
       "OpenPorchSF          24.0      67.0      547.0     \n",
       "EnclosedPorch        0.0       0.0       552.0     \n",
       "3SsnPorch            0.0       0.0       508.0     \n",
       "ScreenPorch          0.0       0.0       480.0     \n",
       "PoolArea             0.0       0.0       738.0     \n",
       "MiscVal              0.0       0.0       15500.0   \n",
       "MoSold               6.0       8.0       12.0      \n",
       "YrSold               2008.0    2009.0    2010.0    \n",
       "Property_Sale_Price  163990.0  214000.0  755000.0  "
      ]
     },
     "execution_count": 57,
     "metadata": {},
     "output_type": "execute_result"
    }
   ],
   "source": [
    "df.describe().T"
   ]
  },
  {
   "cell_type": "code",
   "execution_count": 58,
   "metadata": {},
   "outputs": [
    {
     "data": {
      "text/plain": [
       "Id                     0   \n",
       "Dwell_Type             0   \n",
       "Zone_Class             0   \n",
       "LotFrontage            320 \n",
       "LotArea                0   \n",
       "Road_Type              0   \n",
       "Alley                  1944\n",
       "Property_Shape         0   \n",
       "LandContour            0   \n",
       "Utilities              0   \n",
       "LotConfig              0   \n",
       "LandSlope              0   \n",
       "Neighborhood           0   \n",
       "Condition1             0   \n",
       "Condition2             0   \n",
       "Dwelling_Type          0   \n",
       "HouseStyle             0   \n",
       "OverallQual            0   \n",
       "OverallCond            0   \n",
       "YearBuilt              0   \n",
       "YearRemodAdd           0   \n",
       "RoofStyle              0   \n",
       "RoofMatl               0   \n",
       "Exterior1st            0   \n",
       "Exterior2nd            0   \n",
       "MasVnrType             14  \n",
       "MasVnrArea             14  \n",
       "ExterQual              0   \n",
       "ExterCond              0   \n",
       "Foundation             0   \n",
       "BsmtQual               59  \n",
       "BsmtCond               59  \n",
       "BsmtExposure           61  \n",
       "BsmtFinType1           59  \n",
       "BsmtFinSF1             0   \n",
       "BsmtFinType2           60  \n",
       "BsmtFinSF2             0   \n",
       "BsmtUnfSF              0   \n",
       "TotalBsmtSF            0   \n",
       "Heating                0   \n",
       "HeatingQC              0   \n",
       "CentralAir             0   \n",
       "Electrical             1   \n",
       "1stFlrSF               0   \n",
       "2ndFlrSF               0   \n",
       "LowQualFinSF           0   \n",
       "GrLivArea              0   \n",
       "BsmtFullBath           0   \n",
       "BsmtHalfBath           0   \n",
       "FullBath               0   \n",
       "HalfBath               0   \n",
       "BedroomAbvGr           0   \n",
       "KitchenAbvGr           0   \n",
       "KitchenQual            0   \n",
       "TotRmsAbvGrd           0   \n",
       "Functional             0   \n",
       "Fireplaces             0   \n",
       "FireplaceQu            988 \n",
       "GarageType             113 \n",
       "GarageYrBlt            113 \n",
       "GarageFinish           113 \n",
       "GarageCars             0   \n",
       "GarageArea             0   \n",
       "GarageQual             113 \n",
       "GarageCond             113 \n",
       "PavedDrive             0   \n",
       "WoodDeckSF             0   \n",
       "OpenPorchSF            0   \n",
       "EnclosedPorch          0   \n",
       "3SsnPorch              0   \n",
       "ScreenPorch            0   \n",
       "PoolArea               0   \n",
       "PoolQC                 2065\n",
       "Fence                  1669\n",
       "MiscFeature            1993\n",
       "MiscVal                0   \n",
       "MoSold                 0   \n",
       "YrSold                 0   \n",
       "SaleType               0   \n",
       "SaleCondition          0   \n",
       "Property_Sale_Price    0   \n",
       "dtype: int64"
      ]
     },
     "execution_count": 58,
     "metadata": {},
     "output_type": "execute_result"
    }
   ],
   "source": [
    "df.isnull().sum()\n",
    "\n",
    "# There are some null values in some columns"
   ]
  },
  {
   "cell_type": "code",
   "execution_count": 59,
   "metadata": {},
   "outputs": [
    {
     "data": {
      "text/plain": [
       "Id                     0.00 \n",
       "Dwell_Type             0.00 \n",
       "Zone_Class             0.00 \n",
       "LotFrontage            15.44\n",
       "LotArea                0.00 \n",
       "Road_Type              0.00 \n",
       "Alley                  93.78\n",
       "Property_Shape         0.00 \n",
       "LandContour            0.00 \n",
       "Utilities              0.00 \n",
       "LotConfig              0.00 \n",
       "LandSlope              0.00 \n",
       "Neighborhood           0.00 \n",
       "Condition1             0.00 \n",
       "Condition2             0.00 \n",
       "Dwelling_Type          0.00 \n",
       "HouseStyle             0.00 \n",
       "OverallQual            0.00 \n",
       "OverallCond            0.00 \n",
       "YearBuilt              0.00 \n",
       "YearRemodAdd           0.00 \n",
       "RoofStyle              0.00 \n",
       "RoofMatl               0.00 \n",
       "Exterior1st            0.00 \n",
       "Exterior2nd            0.00 \n",
       "MasVnrType             0.68 \n",
       "MasVnrArea             0.68 \n",
       "ExterQual              0.00 \n",
       "ExterCond              0.00 \n",
       "Foundation             0.00 \n",
       "BsmtQual               2.85 \n",
       "BsmtCond               2.85 \n",
       "BsmtExposure           2.94 \n",
       "BsmtFinType1           2.85 \n",
       "BsmtFinSF1             0.00 \n",
       "BsmtFinType2           2.89 \n",
       "BsmtFinSF2             0.00 \n",
       "BsmtUnfSF              0.00 \n",
       "TotalBsmtSF            0.00 \n",
       "Heating                0.00 \n",
       "HeatingQC              0.00 \n",
       "CentralAir             0.00 \n",
       "Electrical             0.05 \n",
       "1stFlrSF               0.00 \n",
       "2ndFlrSF               0.00 \n",
       "LowQualFinSF           0.00 \n",
       "GrLivArea              0.00 \n",
       "BsmtFullBath           0.00 \n",
       "BsmtHalfBath           0.00 \n",
       "FullBath               0.00 \n",
       "HalfBath               0.00 \n",
       "BedroomAbvGr           0.00 \n",
       "KitchenAbvGr           0.00 \n",
       "KitchenQual            0.00 \n",
       "TotRmsAbvGrd           0.00 \n",
       "Functional             0.00 \n",
       "Fireplaces             0.00 \n",
       "FireplaceQu            47.66\n",
       "GarageType             5.45 \n",
       "GarageYrBlt            5.45 \n",
       "GarageFinish           5.45 \n",
       "GarageCars             0.00 \n",
       "GarageArea             0.00 \n",
       "GarageQual             5.45 \n",
       "GarageCond             5.45 \n",
       "PavedDrive             0.00 \n",
       "WoodDeckSF             0.00 \n",
       "OpenPorchSF            0.00 \n",
       "EnclosedPorch          0.00 \n",
       "3SsnPorch              0.00 \n",
       "ScreenPorch            0.00 \n",
       "PoolArea               0.00 \n",
       "PoolQC                 99.61\n",
       "Fence                  80.51\n",
       "MiscFeature            96.14\n",
       "MiscVal                0.00 \n",
       "MoSold                 0.00 \n",
       "YrSold                 0.00 \n",
       "SaleType               0.00 \n",
       "SaleCondition          0.00 \n",
       "Property_Sale_Price    0.00 \n",
       "dtype: float64"
      ]
     },
     "execution_count": 59,
     "metadata": {},
     "output_type": "execute_result"
    }
   ],
   "source": [
    "# Lets see the percent of null values in each columns.\n",
    "\n",
    "round((df.isnull().sum()/len(df))*100,2)"
   ]
  },
  {
   "cell_type": "markdown",
   "metadata": {},
   "source": [
    "# Imputing Missing Values"
   ]
  },
  {
   "cell_type": "markdown",
   "metadata": {},
   "source": [
    "### Droping columns above 40 percent of missing data"
   ]
  },
  {
   "cell_type": "code",
   "execution_count": 60,
   "metadata": {},
   "outputs": [
    {
     "name": "stdout",
     "output_type": "stream",
     "text": [
      "Amount of null values above 40%\n"
     ]
    },
    {
     "data": {
      "text/plain": [
       "Alley          93.78\n",
       "FireplaceQu    47.66\n",
       "PoolQC         99.61\n",
       "Fence          80.51\n",
       "MiscFeature    96.14\n",
       "dtype: float64"
      ]
     },
     "execution_count": 60,
     "metadata": {},
     "output_type": "execute_result"
    }
   ],
   "source": [
    "# Columns having more than 40% missing values\n",
    "\n",
    "# selecting all the columns from the command from the above command\n",
    "missing_percent = round((df.isnull().sum()/len(df))*100,2)\n",
    "\n",
    "# selecting all the columns with missing values above 40 percent \n",
    "missing_above_40 = missing_percent[missing_percent>40]\n",
    "print('Amount of null values above 40%')\n",
    "missing_above_40"
   ]
  },
  {
   "cell_type": "code",
   "execution_count": 61,
   "metadata": {},
   "outputs": [
    {
     "name": "stdout",
     "output_type": "stream",
     "text": [
      "<class 'pandas.core.frame.DataFrame'>\n",
      "RangeIndex: 2073 entries, 0 to 2072\n",
      "Data columns (total 5 columns):\n",
      " #   Column       Non-Null Count  Dtype \n",
      "---  ------       --------------  ----- \n",
      " 0   Alley        129 non-null    object\n",
      " 1   FireplaceQu  1085 non-null   object\n",
      " 2   PoolQC       8 non-null      object\n",
      " 3   Fence        404 non-null    object\n",
      " 4   MiscFeature  80 non-null     object\n",
      "dtypes: object(5)\n",
      "memory usage: 81.1+ KB\n"
     ]
    }
   ],
   "source": [
    "df[missing_above_40.index.values].info()"
   ]
  },
  {
   "cell_type": "code",
   "execution_count": 62,
   "metadata": {},
   "outputs": [
    {
     "data": {
      "text/plain": [
       "description    Type of alley access to the property\n",
       "Name: Alley, dtype: object"
      ]
     },
     "execution_count": 62,
     "metadata": {},
     "output_type": "execute_result"
    }
   ],
   "source": [
    "df_desc.loc['Alley']"
   ]
  },
  {
   "cell_type": "code",
   "execution_count": 63,
   "metadata": {},
   "outputs": [
    {
     "data": {
      "text/plain": [
       "description    Fireplace quality\n",
       "Name: FireplaceQu, dtype: object"
      ]
     },
     "execution_count": 63,
     "metadata": {},
     "output_type": "execute_result"
    }
   ],
   "source": [
    "df_desc.loc['FireplaceQu']"
   ]
  },
  {
   "cell_type": "code",
   "execution_count": 64,
   "metadata": {},
   "outputs": [
    {
     "data": {
      "text/plain": [
       "description    Pool quality\n",
       "Name: PoolQC, dtype: object"
      ]
     },
     "execution_count": 64,
     "metadata": {},
     "output_type": "execute_result"
    }
   ],
   "source": [
    "df_desc.loc['PoolQC']"
   ]
  },
  {
   "cell_type": "code",
   "execution_count": 65,
   "metadata": {},
   "outputs": [
    {
     "data": {
      "text/plain": [
       "description    Fence quality\n",
       "Name: Fence, dtype: object"
      ]
     },
     "execution_count": 65,
     "metadata": {},
     "output_type": "execute_result"
    }
   ],
   "source": [
    "df_desc.loc['Fence']"
   ]
  },
  {
   "cell_type": "code",
   "execution_count": 66,
   "metadata": {},
   "outputs": [
    {
     "data": {
      "text/plain": [
       "description    Miscellaneous feature not covered in other categories\n",
       "Name: MiscFeature, dtype: object"
      ]
     },
     "execution_count": 66,
     "metadata": {},
     "output_type": "execute_result"
    }
   ],
   "source": [
    "df_desc.loc['MiscFeature']"
   ]
  },
  {
   "cell_type": "code",
   "execution_count": 67,
   "metadata": {
    "scrolled": true
   },
   "outputs": [],
   "source": [
    "# Droping the columns with missing values above 40 percent in the training set\n",
    "\n",
    "df.drop(missing_above_40.index.values, axis=1, inplace=True)"
   ]
  },
  {
   "cell_type": "markdown",
   "metadata": {},
   "source": [
    "### Understanding columns which have NA values"
   ]
  },
  {
   "cell_type": "code",
   "execution_count": 68,
   "metadata": {},
   "outputs": [],
   "source": [
    "# We removed all the null values above 40 percent. Now we can inspect other columns with null values.\n",
    "\n",
    "\n",
    "# Selecting only the columns with null values\n",
    "\n",
    "cols_with_null = df.isnull().sum()[df.isnull().sum()!=0].index.values"
   ]
  },
  {
   "cell_type": "code",
   "execution_count": 69,
   "metadata": {},
   "outputs": [
    {
     "data": {
      "text/plain": [
       "array(['LotFrontage', 'MasVnrType', 'MasVnrArea', 'BsmtQual', 'BsmtCond',\n",
       "       'BsmtExposure', 'BsmtFinType1', 'BsmtFinType2', 'Electrical',\n",
       "       'GarageType', 'GarageYrBlt', 'GarageFinish', 'GarageQual',\n",
       "       'GarageCond'], dtype=object)"
      ]
     },
     "execution_count": 69,
     "metadata": {},
     "output_type": "execute_result"
    }
   ],
   "source": [
    "cols_with_null\n",
    "\n",
    "# These are the columns with null values."
   ]
  },
  {
   "cell_type": "code",
   "execution_count": 70,
   "metadata": {
    "scrolled": false
   },
   "outputs": [
    {
     "name": "stdout",
     "output_type": "stream",
     "text": [
      "<class 'pandas.core.frame.DataFrame'>\n",
      "RangeIndex: 2073 entries, 0 to 2072\n",
      "Data columns (total 14 columns):\n",
      " #   Column        Non-Null Count  Dtype  \n",
      "---  ------        --------------  -----  \n",
      " 0   LotFrontage   1753 non-null   float64\n",
      " 1   MasVnrType    2059 non-null   object \n",
      " 2   MasVnrArea    2059 non-null   float64\n",
      " 3   BsmtQual      2014 non-null   object \n",
      " 4   BsmtCond      2014 non-null   object \n",
      " 5   BsmtExposure  2012 non-null   object \n",
      " 6   BsmtFinType1  2014 non-null   object \n",
      " 7   BsmtFinType2  2013 non-null   object \n",
      " 8   Electrical    2072 non-null   object \n",
      " 9   GarageType    1960 non-null   object \n",
      " 10  GarageYrBlt   1960 non-null   float64\n",
      " 11  GarageFinish  1960 non-null   object \n",
      " 12  GarageQual    1960 non-null   object \n",
      " 13  GarageCond    1960 non-null   object \n",
      "dtypes: float64(3), object(11)\n",
      "memory usage: 226.9+ KB\n"
     ]
    }
   ],
   "source": [
    "df[cols_with_null].info()"
   ]
  },
  {
   "cell_type": "code",
   "execution_count": 71,
   "metadata": {},
   "outputs": [],
   "source": [
    "# Before starting to inspect the columns with null values to make the process easy we can define a function\n",
    "# to make plots and print out some details of the column.\n",
    "\n",
    "def understand_na_cols(col_name):\n",
    "    '''\n",
    "    Accepts a column name and prints out the \n",
    "    detals about that column'''\n",
    "    \n",
    "    # prints the description of the column\n",
    "    print(df_desc.loc[col_name],'\\n')\n",
    "    \n",
    "    # prints the number of null values in the column\n",
    "    print('Number of null values: ', df[col_name].isnull().sum())\n",
    "    \n",
    "    # prints the percent of null values in the column\n",
    "    print('Percent of null values: ', round((df[col_name].isnull().sum()/len(df))*100,2), '%\\n')\n",
    "    \n",
    "    # Checking if the column is numerical or categorical\n",
    "    if df[col_name].dtypes != 'O':\n",
    "        # This line will run only if the datatype of the column is numerical\n",
    "        \n",
    "        # print the descrptive statistics of the column\n",
    "        print(f'Descriptive Statistics of {col_name} \\n', df[col_name].describe())\n",
    "        \n",
    "        # plots the histogram of the column\n",
    "        sns.distplot(df[col_name])\n",
    "        plt.title(f'Histogram of {col_name}')\n",
    "    else:\n",
    "        # This line will run only if the datatype of the column is categorical\n",
    "        \n",
    "        # prints out the number of levels in column\n",
    "        print('Levels: \\n',df[col_name].value_counts(),'\\n')\n",
    "        \n",
    "        # plots the countplot of the column\n",
    "        sns.countplot(df[col_name])\n",
    "        plt.title(f'Countplot of {col_name}')"
   ]
  },
  {
   "cell_type": "code",
   "execution_count": 72,
   "metadata": {},
   "outputs": [],
   "source": [
    "# We have to fill the missing values based on mean, median and mode\n",
    "# So while inspecting the column we can find out which of the strategy(mean, median or mode) should be used to \n",
    "# fill the null values.\n",
    "\n",
    "# After finding out which strategy to use, we will note that inside a dictionary for using at the time of filling \n",
    "# missing values.\n",
    "\n",
    "# So lets create an empty dictionary called strategy.\n",
    "\n",
    "strategy = {}"
   ]
  },
  {
   "cell_type": "markdown",
   "metadata": {},
   "source": [
    "#### LotFrontage"
   ]
  },
  {
   "cell_type": "code",
   "execution_count": 73,
   "metadata": {
    "scrolled": false
   },
   "outputs": [
    {
     "name": "stdout",
     "output_type": "stream",
     "text": [
      "description    Linear feet of street-connected to the property\n",
      "Name: LotFrontage, dtype: object \n",
      "\n",
      "Number of null values:  320\n",
      "Percent of null values:  15.44 %\n",
      "\n",
      "Descriptive Statistics of LotFrontage \n",
      " count    1753.000000\n",
      "mean     72.056475  \n",
      "std      27.987475  \n",
      "min      21.000000  \n",
      "25%      60.000000  \n",
      "50%      70.000000  \n",
      "75%      83.000000  \n",
      "max      313.000000 \n",
      "Name: LotFrontage, dtype: float64\n"
     ]
    },
    {
     "data": {
      "image/png": "[encoded data removed]",
      "text/plain": [
       "<Figure size 432x288 with 1 Axes>"
      ]
     },
     "metadata": {},
     "output_type": "display_data"
    }
   ],
   "source": [
    "# Understanding all the columns with missing values\n",
    "\n",
    "understand_na_cols('LotFrontage')"
   ]
  },
  {
   "cell_type": "markdown",
   "metadata": {},
   "source": [
    "**Insight : Use median to fill NA values of LotFrontage column"
   ]
  },
  {
   "cell_type": "code",
   "execution_count": 74,
   "metadata": {},
   "outputs": [],
   "source": [
    "# Based on the details and histogram of 'LotFrontage' column, we can use median to fill its missing values.\n",
    "\n",
    "# So lets take a note of that and pass in into our 'stategy' dictionary.\n",
    "\n",
    "strategy['median'] = ['LotFrontage']"
   ]
  },
  {
   "cell_type": "markdown",
   "metadata": {},
   "source": [
    "#### MasVnrType"
   ]
  },
  {
   "cell_type": "code",
   "execution_count": 75,
   "metadata": {},
   "outputs": [
    {
     "name": "stdout",
     "output_type": "stream",
     "text": [
      "description    Masonry veneer type\n",
      "Name: MasVnrType, dtype: object \n",
      "\n",
      "Number of null values:  14\n",
      "Percent of null values:  0.68 %\n",
      "\n",
      "Levels: \n",
      " None       1233\n",
      "BrkFace    620 \n",
      "Stone      186 \n",
      "BrkCmn     20  \n",
      "Name: MasVnrType, dtype: int64 \n",
      "\n"
     ]
    },
    {
     "data": {
      "image/png": "[encoded data removed]",
      "text/plain": [
       "<Figure size 432x288 with 1 Axes>"
      ]
     },
     "metadata": {},
     "output_type": "display_data"
    }
   ],
   "source": [
    "understand_na_cols('MasVnrType')"
   ]
  },
  {
   "cell_type": "markdown",
   "metadata": {},
   "source": [
    "* BrkCmn - Brick Common \n",
    "* BrkFace - Brick Face \n",
    "* CBlock - Cinder Block \n",
    "* None - None \n",
    "* Stone - Stone"
   ]
  },
  {
   "cell_type": "markdown",
   "metadata": {},
   "source": [
    "**Insight : Use mode to fill missing values of 'MasVnrType' column"
   ]
  },
  {
   "cell_type": "code",
   "execution_count": 76,
   "metadata": {},
   "outputs": [],
   "source": [
    "strategy['mode'] = ['MasVnrType']"
   ]
  },
  {
   "cell_type": "markdown",
   "metadata": {},
   "source": [
    "#### MasVnrArea"
   ]
  },
  {
   "cell_type": "code",
   "execution_count": 77,
   "metadata": {
    "scrolled": false
   },
   "outputs": [
    {
     "name": "stdout",
     "output_type": "stream",
     "text": [
      "description    Masonry veneer area in square feet\n",
      "Name: MasVnrArea, dtype: object \n",
      "\n",
      "Number of null values:  14\n",
      "Percent of null values:  0.68 %\n",
      "\n",
      "Descriptive Statistics of MasVnrArea \n",
      " count    2059.000000\n",
      "mean     101.875668 \n",
      "std      179.169217 \n",
      "min      0.000000   \n",
      "25%      0.000000   \n",
      "50%      0.000000   \n",
      "75%      161.500000 \n",
      "max      1600.000000\n",
      "Name: MasVnrArea, dtype: float64\n"
     ]
    },
    {
     "data": {
      "image/png": "[encoded data removed]",
      "text/plain": [
       "<Figure size 432x288 with 1 Axes>"
      ]
     },
     "metadata": {},
     "output_type": "display_data"
    }
   ],
   "source": [
    "understand_na_cols('MasVnrArea')"
   ]
  },
  {
   "cell_type": "code",
   "execution_count": 78,
   "metadata": {
    "scrolled": true
   },
   "outputs": [
    {
     "data": {
      "text/plain": [
       "MasVnrType\n",
       "BrkCmn     228.450000\n",
       "BrkFace    257.074194\n",
       "None       0.768045  \n",
       "Stone      241.182796\n",
       "Name: MasVnrArea, dtype: float64"
      ]
     },
     "execution_count": 78,
     "metadata": {},
     "output_type": "execute_result"
    }
   ],
   "source": [
    "df.groupby('MasVnrType').mean()['MasVnrArea']"
   ]
  },
  {
   "cell_type": "markdown",
   "metadata": {},
   "source": [
    "**Insight : Use mode to fill Na values of MasVnrArea column"
   ]
  },
  {
   "cell_type": "code",
   "execution_count": 79,
   "metadata": {},
   "outputs": [],
   "source": [
    "strategy['mode'].append('MasVnrArea')"
   ]
  },
  {
   "cell_type": "markdown",
   "metadata": {},
   "source": [
    "#### BsmtQual"
   ]
  },
  {
   "cell_type": "code",
   "execution_count": 80,
   "metadata": {},
   "outputs": [
    {
     "name": "stdout",
     "output_type": "stream",
     "text": [
      "description    Evaluates the height of the basement\n",
      "Name: BsmtQual, dtype: object \n",
      "\n",
      "Number of null values:  59\n",
      "Percent of null values:  2.85 %\n",
      "\n",
      "Levels: \n",
      " Gd    904\n",
      "TA    891\n",
      "Ex    169\n",
      "Fa    50 \n",
      "Name: BsmtQual, dtype: int64 \n",
      "\n"
     ]
    },
    {
     "data": {
      "image/png": "[encoded data removed]",
      "text/plain": [
       "<Figure size 432x288 with 1 Axes>"
      ]
     },
     "metadata": {},
     "output_type": "display_data"
    }
   ],
   "source": [
    "understand_na_cols('BsmtQual')"
   ]
  },
  {
   "cell_type": "markdown",
   "metadata": {},
   "source": [
    "* Ex Excellent (100+ inches) \n",
    "* Gd Good (90-99 inches) \n",
    "* TA Typical (80-89 inches) \n",
    "* Fa Fair (70-79 inches) \n",
    "* Po Poor (<70 inches NA No Basement"
   ]
  },
  {
   "cell_type": "markdown",
   "metadata": {},
   "source": [
    "**Insight : Use mode to fill missing values"
   ]
  },
  {
   "cell_type": "code",
   "execution_count": 81,
   "metadata": {},
   "outputs": [],
   "source": [
    "strategy['mode'].append('BsmtQual')"
   ]
  },
  {
   "cell_type": "markdown",
   "metadata": {},
   "source": [
    "#### BsmtCond"
   ]
  },
  {
   "cell_type": "code",
   "execution_count": 82,
   "metadata": {},
   "outputs": [
    {
     "name": "stdout",
     "output_type": "stream",
     "text": [
      "description    Evaluates the general condition of the basement\n",
      "Name: BsmtCond, dtype: object \n",
      "\n",
      "Number of null values:  59\n",
      "Percent of null values:  2.85 %\n",
      "\n",
      "Levels: \n",
      " TA    1851\n",
      "Gd    100 \n",
      "Fa    61  \n",
      "Po    2   \n",
      "Name: BsmtCond, dtype: int64 \n",
      "\n"
     ]
    },
    {
     "data": {
      "image/png": "[encoded data removed]",
      "text/plain": [
       "<Figure size 432x288 with 1 Axes>"
      ]
     },
     "metadata": {},
     "output_type": "display_data"
    }
   ],
   "source": [
    "understand_na_cols('BsmtCond')"
   ]
  },
  {
   "cell_type": "markdown",
   "metadata": {},
   "source": [
    "* Ex Excellent \n",
    "* Gd Good \n",
    "* TA Typical - slight dampness allowed \n",
    "* Fa Fair - dampness or some cracking or settling\n",
    "* Po Poor - Severe cracking, settling, or wetness \n",
    "* NA No Basement"
   ]
  },
  {
   "cell_type": "markdown",
   "metadata": {},
   "source": [
    "**Insight : Use mode to fill missing values in BsmtCond columns"
   ]
  },
  {
   "cell_type": "code",
   "execution_count": 83,
   "metadata": {},
   "outputs": [],
   "source": [
    "strategy['mode'].append('BsmtCond')"
   ]
  },
  {
   "cell_type": "markdown",
   "metadata": {},
   "source": [
    "#### BsmtExposure"
   ]
  },
  {
   "cell_type": "code",
   "execution_count": 84,
   "metadata": {},
   "outputs": [
    {
     "name": "stdout",
     "output_type": "stream",
     "text": [
      "description    Refers to walkout or garden level walls\n",
      "Name: BsmtExposure, dtype: object \n",
      "\n",
      "Number of null values:  61\n",
      "Percent of null values:  2.94 %\n",
      "\n",
      "Levels: \n",
      " No    1349\n",
      "Av    322 \n",
      "Gd    181 \n",
      "Mn    160 \n",
      "Name: BsmtExposure, dtype: int64 \n",
      "\n"
     ]
    },
    {
     "data": {
      "image/png": "[encoded data removed]",
      "text/plain": [
       "<Figure size 432x288 with 1 Axes>"
      ]
     },
     "metadata": {},
     "output_type": "display_data"
    }
   ],
   "source": [
    "understand_na_cols('BsmtExposure')"
   ]
  },
  {
   "cell_type": "markdown",
   "metadata": {},
   "source": [
    "* Gd Good Exposure \n",
    "* Av Average Exposure (split levels or foyers typically score average or above) \n",
    "* Mn Minimum Exposure \n",
    "* No No Exposure \n",
    "* NA No Basement"
   ]
  },
  {
   "cell_type": "markdown",
   "metadata": {},
   "source": [
    "**Insight : Use mode to fill missing data in BsmtExposure colulmn"
   ]
  },
  {
   "cell_type": "code",
   "execution_count": 85,
   "metadata": {},
   "outputs": [],
   "source": [
    "strategy['mode'].append('BsmtExposure')"
   ]
  },
  {
   "cell_type": "markdown",
   "metadata": {},
   "source": [
    "#### BsmtFinType1"
   ]
  },
  {
   "cell_type": "code",
   "execution_count": 86,
   "metadata": {},
   "outputs": [
    {
     "name": "stdout",
     "output_type": "stream",
     "text": [
      "description    Rating of basement finished area\n",
      "Name: BsmtFinType1, dtype: object \n",
      "\n",
      "Number of null values:  59\n",
      "Percent of null values:  2.85 %\n",
      "\n",
      "Levels: \n",
      " Unf    604\n",
      "GLQ    599\n",
      "ALQ    319\n",
      "BLQ    210\n",
      "Rec    173\n",
      "LwQ    109\n",
      "Name: BsmtFinType1, dtype: int64 \n",
      "\n"
     ]
    },
    {
     "data": {
      "image/png": "[encoded data removed]",
      "text/plain": [
       "<Figure size 432x288 with 1 Axes>"
      ]
     },
     "metadata": {},
     "output_type": "display_data"
    }
   ],
   "source": [
    "understand_na_cols('BsmtFinType1')"
   ]
  },
  {
   "cell_type": "markdown",
   "metadata": {},
   "source": [
    "* GLQ Good Living Quarters \n",
    "* ALQ Average Living Quarters \n",
    "* BLQ Below Average Living Quarters \n",
    "* Rec Average Rec Room \n",
    "* LwQ Low Quality \n",
    "* Unf Unfinished\n",
    "* NA No Basement"
   ]
  },
  {
   "cell_type": "markdown",
   "metadata": {},
   "source": [
    "**Insight : Use mode to fill the missing values in BsmtFinType1"
   ]
  },
  {
   "cell_type": "code",
   "execution_count": 87,
   "metadata": {},
   "outputs": [],
   "source": [
    "strategy['mode'].append('BsmtFinType1')"
   ]
  },
  {
   "cell_type": "markdown",
   "metadata": {},
   "source": [
    "#### BsmtFinType2 "
   ]
  },
  {
   "cell_type": "code",
   "execution_count": 88,
   "metadata": {},
   "outputs": [
    {
     "name": "stdout",
     "output_type": "stream",
     "text": [
      "description    Rating of basement finished area (if multiple types)\n",
      "Name: BsmtFinType2, dtype: object \n",
      "\n",
      "Number of null values:  60\n",
      "Percent of null values:  2.89 %\n",
      "\n",
      "Levels: \n",
      " Unf    1770\n",
      "Rec    79  \n",
      "LwQ    68  \n",
      "BLQ    50  \n",
      "ALQ    24  \n",
      "GLQ    22  \n",
      "Name: BsmtFinType2, dtype: int64 \n",
      "\n"
     ]
    },
    {
     "data": {
      "image/png": "[encoded data removed]",
      "text/plain": [
       "<Figure size 432x288 with 1 Axes>"
      ]
     },
     "metadata": {},
     "output_type": "display_data"
    }
   ],
   "source": [
    "understand_na_cols('BsmtFinType2')"
   ]
  },
  {
   "cell_type": "markdown",
   "metadata": {},
   "source": [
    "* GLQ Good Living Quarters \n",
    "* ALQ Average Living Quarters \n",
    "* BLQ Below Average Living Quarters \n",
    "* Rec Average Rec Room \n",
    "* LwQ Low Quality \n",
    "* Unf Unfinished \n",
    "* NA No Basement"
   ]
  },
  {
   "cell_type": "markdown",
   "metadata": {},
   "source": [
    "**Insight : Use mode to fill missing values in BsmtFinType2"
   ]
  },
  {
   "cell_type": "code",
   "execution_count": 89,
   "metadata": {},
   "outputs": [],
   "source": [
    "strategy['mode'].append('BsmtFinType2')"
   ]
  },
  {
   "cell_type": "markdown",
   "metadata": {},
   "source": [
    "#### FireplaceQu"
   ]
  },
  {
   "cell_type": "markdown",
   "metadata": {},
   "source": [
    "#### GarageType"
   ]
  },
  {
   "cell_type": "code",
   "execution_count": 90,
   "metadata": {},
   "outputs": [
    {
     "name": "stdout",
     "output_type": "stream",
     "text": [
      "description    Garage location\n",
      "Name: GarageType, dtype: object \n",
      "\n",
      "Number of null values:  113\n",
      "Percent of null values:  5.45 %\n",
      "\n",
      "Levels: \n",
      " Attchd     1252\n",
      "Detchd     537 \n",
      "BuiltIn    124 \n",
      "Basment    27  \n",
      "CarPort    12  \n",
      "2Types     8   \n",
      "Name: GarageType, dtype: int64 \n",
      "\n"
     ]
    },
    {
     "data": {
      "image/png": "[encoded data removed]",
      "text/plain": [
       "<Figure size 432x288 with 1 Axes>"
      ]
     },
     "metadata": {},
     "output_type": "display_data"
    }
   ],
   "source": [
    "understand_na_cols('GarageType')"
   ]
  },
  {
   "cell_type": "markdown",
   "metadata": {},
   "source": [
    "**Insight : Use mode to fill missing values of GarageType column"
   ]
  },
  {
   "cell_type": "code",
   "execution_count": 91,
   "metadata": {},
   "outputs": [],
   "source": [
    "strategy['mode'].append('GarageType')"
   ]
  },
  {
   "cell_type": "markdown",
   "metadata": {},
   "source": [
    "#### GarageYrBlt"
   ]
  },
  {
   "cell_type": "code",
   "execution_count": 92,
   "metadata": {},
   "outputs": [
    {
     "name": "stdout",
     "output_type": "stream",
     "text": [
      "description    Year garage was built\n",
      "Name: GarageYrBlt, dtype: object \n",
      "\n",
      "Number of null values:  113\n",
      "Percent of null values:  5.45 %\n",
      "\n",
      "Descriptive Statistics of GarageYrBlt \n",
      " count    1960.000000\n",
      "mean     1980.418367\n",
      "std      24.158327  \n",
      "min      1906.000000\n",
      "25%      1963.000000\n",
      "50%      1984.000000\n",
      "75%      2003.000000\n",
      "max      2019.000000\n",
      "Name: GarageYrBlt, dtype: float64\n"
     ]
    },
    {
     "data": {
      "image/png": "[encoded data removed]",
      "text/plain": [
       "<Figure size 432x288 with 1 Axes>"
      ]
     },
     "metadata": {},
     "output_type": "display_data"
    }
   ],
   "source": [
    "understand_na_cols('GarageYrBlt')"
   ]
  },
  {
   "cell_type": "markdown",
   "metadata": {},
   "source": [
    "**Insight Use mode to fill missing values of GarageYrBlt column"
   ]
  },
  {
   "cell_type": "code",
   "execution_count": 93,
   "metadata": {},
   "outputs": [],
   "source": [
    "strategy['mode'].append('GarageYrBlt')"
   ]
  },
  {
   "cell_type": "markdown",
   "metadata": {},
   "source": [
    "#### GarageFinish"
   ]
  },
  {
   "cell_type": "code",
   "execution_count": 94,
   "metadata": {
    "scrolled": false
   },
   "outputs": [
    {
     "name": "stdout",
     "output_type": "stream",
     "text": [
      "description    Interior finish of the garage\n",
      "Name: GarageFinish, dtype: object \n",
      "\n",
      "Number of null values:  113\n",
      "Percent of null values:  5.45 %\n",
      "\n",
      "Levels: \n",
      " Unf    857\n",
      "RFn    605\n",
      "Fin    498\n",
      "Name: GarageFinish, dtype: int64 \n",
      "\n"
     ]
    },
    {
     "data": {
      "image/png": "[encoded data removed]",
      "text/plain": [
       "<Figure size 432x288 with 1 Axes>"
      ]
     },
     "metadata": {},
     "output_type": "display_data"
    }
   ],
   "source": [
    "understand_na_cols('GarageFinish')"
   ]
  },
  {
   "cell_type": "markdown",
   "metadata": {},
   "source": [
    "**Insight : Use mode to fill missing values of GarageFinish columns"
   ]
  },
  {
   "cell_type": "code",
   "execution_count": 95,
   "metadata": {},
   "outputs": [],
   "source": [
    "strategy['mode'].append('GarageFinish')"
   ]
  },
  {
   "cell_type": "markdown",
   "metadata": {},
   "source": [
    "#### GarageQual"
   ]
  },
  {
   "cell_type": "code",
   "execution_count": 96,
   "metadata": {},
   "outputs": [
    {
     "name": "stdout",
     "output_type": "stream",
     "text": [
      "description    Garage quality\n",
      "Name: GarageQual, dtype: object \n",
      "\n",
      "Number of null values:  113\n",
      "Percent of null values:  5.45 %\n",
      "\n",
      "Levels: \n",
      " TA    1870\n",
      "Fa    65  \n",
      "Gd    18  \n",
      "Ex    4   \n",
      "Po    3   \n",
      "Name: GarageQual, dtype: int64 \n",
      "\n"
     ]
    },
    {
     "data": {
      "image/png": "[encoded data removed]",
      "text/plain": [
       "<Figure size 432x288 with 1 Axes>"
      ]
     },
     "metadata": {},
     "output_type": "display_data"
    }
   ],
   "source": [
    "understand_na_cols('GarageQual')"
   ]
  },
  {
   "cell_type": "markdown",
   "metadata": {},
   "source": [
    "**Insight : Use mode to fill the missing values of GarageQual column"
   ]
  },
  {
   "cell_type": "code",
   "execution_count": 97,
   "metadata": {},
   "outputs": [],
   "source": [
    "strategy['mode'].append('GarageQual')"
   ]
  },
  {
   "cell_type": "markdown",
   "metadata": {},
   "source": [
    "#### GarageCond"
   ]
  },
  {
   "cell_type": "code",
   "execution_count": 98,
   "metadata": {},
   "outputs": [
    {
     "name": "stdout",
     "output_type": "stream",
     "text": [
      "description    Garage condition\n",
      "Name: GarageCond, dtype: object \n",
      "\n",
      "Number of null values:  113\n",
      "Percent of null values:  5.45 %\n",
      "\n",
      "Levels: \n",
      " TA    1885\n",
      "Fa    47  \n",
      "Gd    17  \n",
      "Po    8   \n",
      "Ex    3   \n",
      "Name: GarageCond, dtype: int64 \n",
      "\n"
     ]
    },
    {
     "data": {
      "image/png": "[encoded data removed]",
      "text/plain": [
       "<Figure size 432x288 with 1 Axes>"
      ]
     },
     "metadata": {},
     "output_type": "display_data"
    }
   ],
   "source": [
    "understand_na_cols('GarageCond')"
   ]
  },
  {
   "cell_type": "markdown",
   "metadata": {},
   "source": [
    "**Insight : Use mode to fill missing values of GarageCond column"
   ]
  },
  {
   "cell_type": "code",
   "execution_count": 99,
   "metadata": {},
   "outputs": [],
   "source": [
    "strategy['mode'].append('GarageCond')"
   ]
  },
  {
   "cell_type": "markdown",
   "metadata": {},
   "source": [
    "### Imputing missing values"
   ]
  },
  {
   "cell_type": "code",
   "execution_count": 100,
   "metadata": {},
   "outputs": [
    {
     "data": {
      "text/html": [
       "<div>\n",
       "<style scoped>\n",
       "    .dataframe tbody tr th:only-of-type {\n",
       "        vertical-align: middle;\n",
       "    }\n",
       "\n",
       "    .dataframe tbody tr th {\n",
       "        vertical-align: top;\n",
       "    }\n",
       "\n",
       "    .dataframe thead th {\n",
       "        text-align: right;\n",
       "    }\n",
       "</style>\n",
       "<table border=\"1\" class=\"dataframe\">\n",
       "  <thead>\n",
       "    <tr style=\"text-align: right;\">\n",
       "      <th></th>\n",
       "      <th>Id</th>\n",
       "      <th>Dwell_Type</th>\n",
       "      <th>Zone_Class</th>\n",
       "      <th>LotFrontage</th>\n",
       "      <th>LotArea</th>\n",
       "      <th>Road_Type</th>\n",
       "      <th>Property_Shape</th>\n",
       "      <th>LandContour</th>\n",
       "      <th>Utilities</th>\n",
       "      <th>LotConfig</th>\n",
       "      <th>LandSlope</th>\n",
       "      <th>Neighborhood</th>\n",
       "      <th>Condition1</th>\n",
       "      <th>Condition2</th>\n",
       "      <th>Dwelling_Type</th>\n",
       "      <th>HouseStyle</th>\n",
       "      <th>OverallQual</th>\n",
       "      <th>OverallCond</th>\n",
       "      <th>YearBuilt</th>\n",
       "      <th>YearRemodAdd</th>\n",
       "      <th>RoofStyle</th>\n",
       "      <th>RoofMatl</th>\n",
       "      <th>Exterior1st</th>\n",
       "      <th>Exterior2nd</th>\n",
       "      <th>MasVnrType</th>\n",
       "      <th>MasVnrArea</th>\n",
       "      <th>ExterQual</th>\n",
       "      <th>ExterCond</th>\n",
       "      <th>Foundation</th>\n",
       "      <th>BsmtQual</th>\n",
       "      <th>BsmtCond</th>\n",
       "      <th>BsmtExposure</th>\n",
       "      <th>BsmtFinType1</th>\n",
       "      <th>BsmtFinSF1</th>\n",
       "      <th>BsmtFinType2</th>\n",
       "      <th>BsmtFinSF2</th>\n",
       "      <th>BsmtUnfSF</th>\n",
       "      <th>TotalBsmtSF</th>\n",
       "      <th>Heating</th>\n",
       "      <th>HeatingQC</th>\n",
       "      <th>CentralAir</th>\n",
       "      <th>Electrical</th>\n",
       "      <th>1stFlrSF</th>\n",
       "      <th>2ndFlrSF</th>\n",
       "      <th>LowQualFinSF</th>\n",
       "      <th>GrLivArea</th>\n",
       "      <th>BsmtFullBath</th>\n",
       "      <th>BsmtHalfBath</th>\n",
       "      <th>FullBath</th>\n",
       "      <th>HalfBath</th>\n",
       "      <th>BedroomAbvGr</th>\n",
       "      <th>KitchenAbvGr</th>\n",
       "      <th>KitchenQual</th>\n",
       "      <th>TotRmsAbvGrd</th>\n",
       "      <th>Functional</th>\n",
       "      <th>Fireplaces</th>\n",
       "      <th>GarageType</th>\n",
       "      <th>GarageYrBlt</th>\n",
       "      <th>GarageFinish</th>\n",
       "      <th>GarageCars</th>\n",
       "      <th>GarageArea</th>\n",
       "      <th>GarageQual</th>\n",
       "      <th>GarageCond</th>\n",
       "      <th>PavedDrive</th>\n",
       "      <th>WoodDeckSF</th>\n",
       "      <th>OpenPorchSF</th>\n",
       "      <th>EnclosedPorch</th>\n",
       "      <th>3SsnPorch</th>\n",
       "      <th>ScreenPorch</th>\n",
       "      <th>PoolArea</th>\n",
       "      <th>MiscVal</th>\n",
       "      <th>MoSold</th>\n",
       "      <th>YrSold</th>\n",
       "      <th>SaleType</th>\n",
       "      <th>SaleCondition</th>\n",
       "      <th>Property_Sale_Price</th>\n",
       "    </tr>\n",
       "  </thead>\n",
       "  <tbody>\n",
       "    <tr>\n",
       "      <th>0</th>\n",
       "      <td>1</td>\n",
       "      <td>60</td>\n",
       "      <td>RL</td>\n",
       "      <td>65.0</td>\n",
       "      <td>8450</td>\n",
       "      <td>Pave</td>\n",
       "      <td>Reg</td>\n",
       "      <td>Lvl</td>\n",
       "      <td>AllPub</td>\n",
       "      <td>Inside</td>\n",
       "      <td>Gtl</td>\n",
       "      <td>CollgCr</td>\n",
       "      <td>Norm</td>\n",
       "      <td>Norm</td>\n",
       "      <td>1Fam</td>\n",
       "      <td>2Story</td>\n",
       "      <td>7</td>\n",
       "      <td>5</td>\n",
       "      <td>2003</td>\n",
       "      <td>2003</td>\n",
       "      <td>Gable</td>\n",
       "      <td>CompShg</td>\n",
       "      <td>VinylSd</td>\n",
       "      <td>VinylSd</td>\n",
       "      <td>BrkFace</td>\n",
       "      <td>196.0</td>\n",
       "      <td>Gd</td>\n",
       "      <td>TA</td>\n",
       "      <td>PConc</td>\n",
       "      <td>Gd</td>\n",
       "      <td>TA</td>\n",
       "      <td>No</td>\n",
       "      <td>GLQ</td>\n",
       "      <td>706</td>\n",
       "      <td>Unf</td>\n",
       "      <td>0</td>\n",
       "      <td>150</td>\n",
       "      <td>856</td>\n",
       "      <td>GasA</td>\n",
       "      <td>Ex</td>\n",
       "      <td>Y</td>\n",
       "      <td>SBrkr</td>\n",
       "      <td>856</td>\n",
       "      <td>854</td>\n",
       "      <td>0</td>\n",
       "      <td>1710</td>\n",
       "      <td>1</td>\n",
       "      <td>0</td>\n",
       "      <td>2</td>\n",
       "      <td>1</td>\n",
       "      <td>3</td>\n",
       "      <td>1</td>\n",
       "      <td>Gd</td>\n",
       "      <td>8</td>\n",
       "      <td>Typ</td>\n",
       "      <td>0</td>\n",
       "      <td>Attchd</td>\n",
       "      <td>2003.0</td>\n",
       "      <td>RFn</td>\n",
       "      <td>2</td>\n",
       "      <td>548</td>\n",
       "      <td>TA</td>\n",
       "      <td>TA</td>\n",
       "      <td>Y</td>\n",
       "      <td>0</td>\n",
       "      <td>61</td>\n",
       "      <td>0</td>\n",
       "      <td>0</td>\n",
       "      <td>0</td>\n",
       "      <td>0</td>\n",
       "      <td>0</td>\n",
       "      <td>2</td>\n",
       "      <td>2008</td>\n",
       "      <td>WD</td>\n",
       "      <td>Normal</td>\n",
       "      <td>208500</td>\n",
       "    </tr>\n",
       "    <tr>\n",
       "      <th>1</th>\n",
       "      <td>2</td>\n",
       "      <td>20</td>\n",
       "      <td>RL</td>\n",
       "      <td>80.0</td>\n",
       "      <td>9600</td>\n",
       "      <td>Pave</td>\n",
       "      <td>Reg</td>\n",
       "      <td>Lvl</td>\n",
       "      <td>AllPub</td>\n",
       "      <td>FR2</td>\n",
       "      <td>Gtl</td>\n",
       "      <td>Veenker</td>\n",
       "      <td>Feedr</td>\n",
       "      <td>Norm</td>\n",
       "      <td>1Fam</td>\n",
       "      <td>1Story</td>\n",
       "      <td>6</td>\n",
       "      <td>8</td>\n",
       "      <td>1976</td>\n",
       "      <td>1976</td>\n",
       "      <td>Gable</td>\n",
       "      <td>CompShg</td>\n",
       "      <td>MetalSd</td>\n",
       "      <td>MetalSd</td>\n",
       "      <td>None</td>\n",
       "      <td>0.0</td>\n",
       "      <td>TA</td>\n",
       "      <td>TA</td>\n",
       "      <td>CBlock</td>\n",
       "      <td>Gd</td>\n",
       "      <td>TA</td>\n",
       "      <td>Gd</td>\n",
       "      <td>ALQ</td>\n",
       "      <td>978</td>\n",
       "      <td>Unf</td>\n",
       "      <td>0</td>\n",
       "      <td>284</td>\n",
       "      <td>1262</td>\n",
       "      <td>GasA</td>\n",
       "      <td>Ex</td>\n",
       "      <td>Y</td>\n",
       "      <td>SBrkr</td>\n",
       "      <td>1262</td>\n",
       "      <td>0</td>\n",
       "      <td>0</td>\n",
       "      <td>1262</td>\n",
       "      <td>0</td>\n",
       "      <td>1</td>\n",
       "      <td>2</td>\n",
       "      <td>0</td>\n",
       "      <td>3</td>\n",
       "      <td>1</td>\n",
       "      <td>TA</td>\n",
       "      <td>6</td>\n",
       "      <td>Typ</td>\n",
       "      <td>1</td>\n",
       "      <td>Attchd</td>\n",
       "      <td>1976.0</td>\n",
       "      <td>RFn</td>\n",
       "      <td>2</td>\n",
       "      <td>460</td>\n",
       "      <td>TA</td>\n",
       "      <td>TA</td>\n",
       "      <td>Y</td>\n",
       "      <td>298</td>\n",
       "      <td>0</td>\n",
       "      <td>0</td>\n",
       "      <td>0</td>\n",
       "      <td>0</td>\n",
       "      <td>0</td>\n",
       "      <td>0</td>\n",
       "      <td>5</td>\n",
       "      <td>2007</td>\n",
       "      <td>WD</td>\n",
       "      <td>Normal</td>\n",
       "      <td>181500</td>\n",
       "    </tr>\n",
       "    <tr>\n",
       "      <th>2</th>\n",
       "      <td>3</td>\n",
       "      <td>60</td>\n",
       "      <td>RL</td>\n",
       "      <td>68.0</td>\n",
       "      <td>11250</td>\n",
       "      <td>Pave</td>\n",
       "      <td>IR1</td>\n",
       "      <td>Lvl</td>\n",
       "      <td>AllPub</td>\n",
       "      <td>Inside</td>\n",
       "      <td>Gtl</td>\n",
       "      <td>CollgCr</td>\n",
       "      <td>Norm</td>\n",
       "      <td>Norm</td>\n",
       "      <td>1Fam</td>\n",
       "      <td>2Story</td>\n",
       "      <td>7</td>\n",
       "      <td>5</td>\n",
       "      <td>2001</td>\n",
       "      <td>2002</td>\n",
       "      <td>Gable</td>\n",
       "      <td>CompShg</td>\n",
       "      <td>VinylSd</td>\n",
       "      <td>VinylSd</td>\n",
       "      <td>BrkFace</td>\n",
       "      <td>162.0</td>\n",
       "      <td>Gd</td>\n",
       "      <td>TA</td>\n",
       "      <td>PConc</td>\n",
       "      <td>Gd</td>\n",
       "      <td>TA</td>\n",
       "      <td>Mn</td>\n",
       "      <td>GLQ</td>\n",
       "      <td>486</td>\n",
       "      <td>Unf</td>\n",
       "      <td>0</td>\n",
       "      <td>434</td>\n",
       "      <td>920</td>\n",
       "      <td>GasA</td>\n",
       "      <td>Ex</td>\n",
       "      <td>Y</td>\n",
       "      <td>SBrkr</td>\n",
       "      <td>920</td>\n",
       "      <td>866</td>\n",
       "      <td>0</td>\n",
       "      <td>1786</td>\n",
       "      <td>1</td>\n",
       "      <td>0</td>\n",
       "      <td>2</td>\n",
       "      <td>1</td>\n",
       "      <td>3</td>\n",
       "      <td>1</td>\n",
       "      <td>Gd</td>\n",
       "      <td>6</td>\n",
       "      <td>Typ</td>\n",
       "      <td>1</td>\n",
       "      <td>Attchd</td>\n",
       "      <td>2001.0</td>\n",
       "      <td>RFn</td>\n",
       "      <td>2</td>\n",
       "      <td>608</td>\n",
       "      <td>TA</td>\n",
       "      <td>TA</td>\n",
       "      <td>Y</td>\n",
       "      <td>0</td>\n",
       "      <td>42</td>\n",
       "      <td>0</td>\n",
       "      <td>0</td>\n",
       "      <td>0</td>\n",
       "      <td>0</td>\n",
       "      <td>0</td>\n",
       "      <td>9</td>\n",
       "      <td>2008</td>\n",
       "      <td>WD</td>\n",
       "      <td>Normal</td>\n",
       "      <td>223500</td>\n",
       "    </tr>\n",
       "    <tr>\n",
       "      <th>3</th>\n",
       "      <td>4</td>\n",
       "      <td>70</td>\n",
       "      <td>RL</td>\n",
       "      <td>60.0</td>\n",
       "      <td>9550</td>\n",
       "      <td>Pave</td>\n",
       "      <td>IR1</td>\n",
       "      <td>Lvl</td>\n",
       "      <td>AllPub</td>\n",
       "      <td>Corner</td>\n",
       "      <td>Gtl</td>\n",
       "      <td>Crawfor</td>\n",
       "      <td>Norm</td>\n",
       "      <td>Norm</td>\n",
       "      <td>1Fam</td>\n",
       "      <td>2Story</td>\n",
       "      <td>7</td>\n",
       "      <td>5</td>\n",
       "      <td>1915</td>\n",
       "      <td>1970</td>\n",
       "      <td>Gable</td>\n",
       "      <td>CompShg</td>\n",
       "      <td>Wd Sdng</td>\n",
       "      <td>Wd Shng</td>\n",
       "      <td>None</td>\n",
       "      <td>0.0</td>\n",
       "      <td>TA</td>\n",
       "      <td>TA</td>\n",
       "      <td>BrkTil</td>\n",
       "      <td>TA</td>\n",
       "      <td>Gd</td>\n",
       "      <td>No</td>\n",
       "      <td>ALQ</td>\n",
       "      <td>216</td>\n",
       "      <td>Unf</td>\n",
       "      <td>0</td>\n",
       "      <td>540</td>\n",
       "      <td>756</td>\n",
       "      <td>GasA</td>\n",
       "      <td>Gd</td>\n",
       "      <td>Y</td>\n",
       "      <td>SBrkr</td>\n",
       "      <td>961</td>\n",
       "      <td>756</td>\n",
       "      <td>0</td>\n",
       "      <td>1717</td>\n",
       "      <td>1</td>\n",
       "      <td>0</td>\n",
       "      <td>1</td>\n",
       "      <td>0</td>\n",
       "      <td>3</td>\n",
       "      <td>1</td>\n",
       "      <td>Gd</td>\n",
       "      <td>7</td>\n",
       "      <td>Typ</td>\n",
       "      <td>1</td>\n",
       "      <td>Detchd</td>\n",
       "      <td>1998.0</td>\n",
       "      <td>Unf</td>\n",
       "      <td>3</td>\n",
       "      <td>642</td>\n",
       "      <td>TA</td>\n",
       "      <td>TA</td>\n",
       "      <td>Y</td>\n",
       "      <td>0</td>\n",
       "      <td>35</td>\n",
       "      <td>272</td>\n",
       "      <td>0</td>\n",
       "      <td>0</td>\n",
       "      <td>0</td>\n",
       "      <td>0</td>\n",
       "      <td>2</td>\n",
       "      <td>2006</td>\n",
       "      <td>WD</td>\n",
       "      <td>Abnorml</td>\n",
       "      <td>140000</td>\n",
       "    </tr>\n",
       "    <tr>\n",
       "      <th>4</th>\n",
       "      <td>5</td>\n",
       "      <td>60</td>\n",
       "      <td>RL</td>\n",
       "      <td>84.0</td>\n",
       "      <td>14260</td>\n",
       "      <td>Pave</td>\n",
       "      <td>IR1</td>\n",
       "      <td>Lvl</td>\n",
       "      <td>AllPub</td>\n",
       "      <td>FR2</td>\n",
       "      <td>Gtl</td>\n",
       "      <td>NoRidge</td>\n",
       "      <td>Norm</td>\n",
       "      <td>Norm</td>\n",
       "      <td>1Fam</td>\n",
       "      <td>2Story</td>\n",
       "      <td>8</td>\n",
       "      <td>5</td>\n",
       "      <td>2000</td>\n",
       "      <td>2000</td>\n",
       "      <td>Gable</td>\n",
       "      <td>CompShg</td>\n",
       "      <td>VinylSd</td>\n",
       "      <td>VinylSd</td>\n",
       "      <td>BrkFace</td>\n",
       "      <td>350.0</td>\n",
       "      <td>Gd</td>\n",
       "      <td>TA</td>\n",
       "      <td>PConc</td>\n",
       "      <td>Gd</td>\n",
       "      <td>TA</td>\n",
       "      <td>Av</td>\n",
       "      <td>GLQ</td>\n",
       "      <td>655</td>\n",
       "      <td>Unf</td>\n",
       "      <td>0</td>\n",
       "      <td>490</td>\n",
       "      <td>1145</td>\n",
       "      <td>GasA</td>\n",
       "      <td>Ex</td>\n",
       "      <td>Y</td>\n",
       "      <td>SBrkr</td>\n",
       "      <td>1145</td>\n",
       "      <td>1053</td>\n",
       "      <td>0</td>\n",
       "      <td>2198</td>\n",
       "      <td>1</td>\n",
       "      <td>0</td>\n",
       "      <td>2</td>\n",
       "      <td>1</td>\n",
       "      <td>4</td>\n",
       "      <td>1</td>\n",
       "      <td>Gd</td>\n",
       "      <td>9</td>\n",
       "      <td>Typ</td>\n",
       "      <td>1</td>\n",
       "      <td>Attchd</td>\n",
       "      <td>2000.0</td>\n",
       "      <td>RFn</td>\n",
       "      <td>3</td>\n",
       "      <td>836</td>\n",
       "      <td>TA</td>\n",
       "      <td>TA</td>\n",
       "      <td>Y</td>\n",
       "      <td>192</td>\n",
       "      <td>84</td>\n",
       "      <td>0</td>\n",
       "      <td>0</td>\n",
       "      <td>0</td>\n",
       "      <td>0</td>\n",
       "      <td>0</td>\n",
       "      <td>12</td>\n",
       "      <td>2008</td>\n",
       "      <td>WD</td>\n",
       "      <td>Normal</td>\n",
       "      <td>250000</td>\n",
       "    </tr>\n",
       "  </tbody>\n",
       "</table>\n",
       "</div>"
      ],
      "text/plain": [
       "   Id  Dwell_Type Zone_Class  LotFrontage  LotArea Road_Type Property_Shape  \\\n",
       "0  1   60          RL         65.0         8450     Pave      Reg             \n",
       "1  2   20          RL         80.0         9600     Pave      Reg             \n",
       "2  3   60          RL         68.0         11250    Pave      IR1             \n",
       "3  4   70          RL         60.0         9550     Pave      IR1             \n",
       "4  5   60          RL         84.0         14260    Pave      IR1             \n",
       "\n",
       "  LandContour Utilities LotConfig LandSlope Neighborhood Condition1  \\\n",
       "0  Lvl         AllPub    Inside    Gtl       CollgCr      Norm        \n",
       "1  Lvl         AllPub    FR2       Gtl       Veenker      Feedr       \n",
       "2  Lvl         AllPub    Inside    Gtl       CollgCr      Norm        \n",
       "3  Lvl         AllPub    Corner    Gtl       Crawfor      Norm        \n",
       "4  Lvl         AllPub    FR2       Gtl       NoRidge      Norm        \n",
       "\n",
       "  Condition2 Dwelling_Type HouseStyle  OverallQual  OverallCond  YearBuilt  \\\n",
       "0  Norm       1Fam          2Story     7            5            2003        \n",
       "1  Norm       1Fam          1Story     6            8            1976        \n",
       "2  Norm       1Fam          2Story     7            5            2001        \n",
       "3  Norm       1Fam          2Story     7            5            1915        \n",
       "4  Norm       1Fam          2Story     8            5            2000        \n",
       "\n",
       "   YearRemodAdd RoofStyle RoofMatl Exterior1st Exterior2nd MasVnrType  \\\n",
       "0  2003          Gable     CompShg  VinylSd     VinylSd     BrkFace     \n",
       "1  1976          Gable     CompShg  MetalSd     MetalSd     None        \n",
       "2  2002          Gable     CompShg  VinylSd     VinylSd     BrkFace     \n",
       "3  1970          Gable     CompShg  Wd Sdng     Wd Shng     None        \n",
       "4  2000          Gable     CompShg  VinylSd     VinylSd     BrkFace     \n",
       "\n",
       "   MasVnrArea ExterQual ExterCond Foundation BsmtQual BsmtCond BsmtExposure  \\\n",
       "0  196.0       Gd        TA        PConc      Gd       TA       No            \n",
       "1  0.0         TA        TA        CBlock     Gd       TA       Gd            \n",
       "2  162.0       Gd        TA        PConc      Gd       TA       Mn            \n",
       "3  0.0         TA        TA        BrkTil     TA       Gd       No            \n",
       "4  350.0       Gd        TA        PConc      Gd       TA       Av            \n",
       "\n",
       "  BsmtFinType1  BsmtFinSF1 BsmtFinType2  BsmtFinSF2  BsmtUnfSF  TotalBsmtSF  \\\n",
       "0  GLQ          706         Unf          0           150        856           \n",
       "1  ALQ          978         Unf          0           284        1262          \n",
       "2  GLQ          486         Unf          0           434        920           \n",
       "3  ALQ          216         Unf          0           540        756           \n",
       "4  GLQ          655         Unf          0           490        1145          \n",
       "\n",
       "  Heating HeatingQC CentralAir Electrical  1stFlrSF  2ndFlrSF  LowQualFinSF  \\\n",
       "0  GasA    Ex        Y          SBrkr      856       854       0              \n",
       "1  GasA    Ex        Y          SBrkr      1262      0         0              \n",
       "2  GasA    Ex        Y          SBrkr      920       866       0              \n",
       "3  GasA    Gd        Y          SBrkr      961       756       0              \n",
       "4  GasA    Ex        Y          SBrkr      1145      1053      0              \n",
       "\n",
       "   GrLivArea  BsmtFullBath  BsmtHalfBath  FullBath  HalfBath  BedroomAbvGr  \\\n",
       "0  1710       1             0             2         1         3              \n",
       "1  1262       0             1             2         0         3              \n",
       "2  1786       1             0             2         1         3              \n",
       "3  1717       1             0             1         0         3              \n",
       "4  2198       1             0             2         1         4              \n",
       "\n",
       "   KitchenAbvGr KitchenQual  TotRmsAbvGrd Functional  Fireplaces GarageType  \\\n",
       "0  1             Gd          8             Typ        0           Attchd      \n",
       "1  1             TA          6             Typ        1           Attchd      \n",
       "2  1             Gd          6             Typ        1           Attchd      \n",
       "3  1             Gd          7             Typ        1           Detchd      \n",
       "4  1             Gd          9             Typ        1           Attchd      \n",
       "\n",
       "   GarageYrBlt GarageFinish  GarageCars  GarageArea GarageQual GarageCond  \\\n",
       "0  2003.0       RFn          2           548         TA         TA          \n",
       "1  1976.0       RFn          2           460         TA         TA          \n",
       "2  2001.0       RFn          2           608         TA         TA          \n",
       "3  1998.0       Unf          3           642         TA         TA          \n",
       "4  2000.0       RFn          3           836         TA         TA          \n",
       "\n",
       "  PavedDrive  WoodDeckSF  OpenPorchSF  EnclosedPorch  3SsnPorch  ScreenPorch  \\\n",
       "0  Y          0           61           0              0          0             \n",
       "1  Y          298         0            0              0          0             \n",
       "2  Y          0           42           0              0          0             \n",
       "3  Y          0           35           272            0          0             \n",
       "4  Y          192         84           0              0          0             \n",
       "\n",
       "   PoolArea  MiscVal  MoSold  YrSold SaleType SaleCondition  \\\n",
       "0  0         0        2       2008    WD       Normal         \n",
       "1  0         0        5       2007    WD       Normal         \n",
       "2  0         0        9       2008    WD       Normal         \n",
       "3  0         0        2       2006    WD       Abnorml        \n",
       "4  0         0        12      2008    WD       Normal         \n",
       "\n",
       "   Property_Sale_Price  \n",
       "0  208500               \n",
       "1  181500               \n",
       "2  223500               \n",
       "3  140000               \n",
       "4  250000               "
      ]
     },
     "execution_count": 100,
     "metadata": {},
     "output_type": "execute_result"
    }
   ],
   "source": [
    "df.head()"
   ]
  },
  {
   "cell_type": "code",
   "execution_count": 101,
   "metadata": {},
   "outputs": [
    {
     "data": {
      "text/plain": [
       "(2073, 76)"
      ]
     },
     "execution_count": 101,
     "metadata": {},
     "output_type": "execute_result"
    }
   ],
   "source": [
    "df.shape"
   ]
  },
  {
   "cell_type": "code",
   "execution_count": 102,
   "metadata": {},
   "outputs": [
    {
     "data": {
      "text/plain": [
       "{'median': ['LotFrontage'],\n",
       " 'mode': ['MasVnrType',\n",
       "  'MasVnrArea',\n",
       "  'BsmtQual',\n",
       "  'BsmtCond',\n",
       "  'BsmtExposure',\n",
       "  'BsmtFinType1',\n",
       "  'BsmtFinType2',\n",
       "  'GarageType',\n",
       "  'GarageYrBlt',\n",
       "  'GarageFinish',\n",
       "  'GarageQual',\n",
       "  'GarageCond']}"
      ]
     },
     "execution_count": 102,
     "metadata": {},
     "output_type": "execute_result"
    }
   ],
   "source": [
    "# Now lets check which strategy to use for imputation of missing values in respective columns\n",
    "\n",
    "strategy"
   ]
  },
  {
   "cell_type": "code",
   "execution_count": 103,
   "metadata": {
    "scrolled": false
   },
   "outputs": [
    {
     "data": {
      "text/plain": [
       "Id                     0  \n",
       "Dwell_Type             0  \n",
       "Zone_Class             0  \n",
       "LotFrontage            320\n",
       "LotArea                0  \n",
       "Road_Type              0  \n",
       "Property_Shape         0  \n",
       "LandContour            0  \n",
       "Utilities              0  \n",
       "LotConfig              0  \n",
       "LandSlope              0  \n",
       "Neighborhood           0  \n",
       "Condition1             0  \n",
       "Condition2             0  \n",
       "Dwelling_Type          0  \n",
       "HouseStyle             0  \n",
       "OverallQual            0  \n",
       "OverallCond            0  \n",
       "YearBuilt              0  \n",
       "YearRemodAdd           0  \n",
       "RoofStyle              0  \n",
       "RoofMatl               0  \n",
       "Exterior1st            0  \n",
       "Exterior2nd            0  \n",
       "MasVnrType             14 \n",
       "MasVnrArea             14 \n",
       "ExterQual              0  \n",
       "ExterCond              0  \n",
       "Foundation             0  \n",
       "BsmtQual               59 \n",
       "BsmtCond               59 \n",
       "BsmtExposure           61 \n",
       "BsmtFinType1           59 \n",
       "BsmtFinSF1             0  \n",
       "BsmtFinType2           60 \n",
       "BsmtFinSF2             0  \n",
       "BsmtUnfSF              0  \n",
       "TotalBsmtSF            0  \n",
       "Heating                0  \n",
       "HeatingQC              0  \n",
       "CentralAir             0  \n",
       "Electrical             1  \n",
       "1stFlrSF               0  \n",
       "2ndFlrSF               0  \n",
       "LowQualFinSF           0  \n",
       "GrLivArea              0  \n",
       "BsmtFullBath           0  \n",
       "BsmtHalfBath           0  \n",
       "FullBath               0  \n",
       "HalfBath               0  \n",
       "BedroomAbvGr           0  \n",
       "KitchenAbvGr           0  \n",
       "KitchenQual            0  \n",
       "TotRmsAbvGrd           0  \n",
       "Functional             0  \n",
       "Fireplaces             0  \n",
       "GarageType             113\n",
       "GarageYrBlt            113\n",
       "GarageFinish           113\n",
       "GarageCars             0  \n",
       "GarageArea             0  \n",
       "GarageQual             113\n",
       "GarageCond             113\n",
       "PavedDrive             0  \n",
       "WoodDeckSF             0  \n",
       "OpenPorchSF            0  \n",
       "EnclosedPorch          0  \n",
       "3SsnPorch              0  \n",
       "ScreenPorch            0  \n",
       "PoolArea               0  \n",
       "MiscVal                0  \n",
       "MoSold                 0  \n",
       "YrSold                 0  \n",
       "SaleType               0  \n",
       "SaleCondition          0  \n",
       "Property_Sale_Price    0  \n",
       "dtype: int64"
      ]
     },
     "execution_count": 103,
     "metadata": {},
     "output_type": "execute_result"
    }
   ],
   "source": [
    "df.isnull().sum()"
   ]
  },
  {
   "cell_type": "code",
   "execution_count": 104,
   "metadata": {},
   "outputs": [],
   "source": [
    "def fill_na_values(df):\n",
    "    '''\n",
    "    Accepts the dataframe and fills all the null values inplace.'''\n",
    "    for key in strategy.keys():\n",
    "        for col in strategy[key]:\n",
    "            if key == 'median':\n",
    "                median = df[col].median()\n",
    "                df[col].fillna(value=median, inplace=True)\n",
    "            elif key == 'mode':\n",
    "                mode = df[col].mode()[0]\n",
    "                df[col].fillna(value=mode, inplace=True)\n",
    "    \n",
    "    df.dropna(axis=0,inplace=True)"
   ]
  },
  {
   "cell_type": "code",
   "execution_count": 105,
   "metadata": {},
   "outputs": [],
   "source": [
    "fill_na_values(df)"
   ]
  },
  {
   "cell_type": "code",
   "execution_count": 106,
   "metadata": {},
   "outputs": [
    {
     "data": {
      "text/plain": [
       "0"
      ]
     },
     "execution_count": 106,
     "metadata": {},
     "output_type": "execute_result"
    }
   ],
   "source": [
    "df.isnull().sum().sum()"
   ]
  },
  {
   "cell_type": "code",
   "execution_count": 107,
   "metadata": {},
   "outputs": [],
   "source": [
    "# Here we are dividing the whole dataset into independent variables(X) and dependent variable(y)\n",
    "\n",
    "# Here we are selecting all the columns except the last column('Property_Sales_Price')\n",
    "X = df.iloc[:,:-1]\n",
    "\n",
    "# Only selecting the last column('Property_Sales_Price')\n",
    "y = df.iloc[:,-1]"
   ]
  },
  {
   "cell_type": "code",
   "execution_count": 108,
   "metadata": {},
   "outputs": [
    {
     "data": {
      "text/plain": [
       "Index(['Id', 'Dwell_Type', 'Zone_Class', 'LotFrontage', 'LotArea', 'Road_Type',\n",
       "       'Property_Shape', 'LandContour', 'Utilities', 'LotConfig', 'LandSlope',\n",
       "       'Neighborhood', 'Condition1', 'Condition2', 'Dwelling_Type',\n",
       "       'HouseStyle', 'OverallQual', 'OverallCond', 'YearBuilt', 'YearRemodAdd',\n",
       "       'RoofStyle', 'RoofMatl', 'Exterior1st', 'Exterior2nd', 'MasVnrType',\n",
       "       'MasVnrArea', 'ExterQual', 'ExterCond', 'Foundation', 'BsmtQual',\n",
       "       'BsmtCond', 'BsmtExposure', 'BsmtFinType1', 'BsmtFinSF1',\n",
       "       'BsmtFinType2', 'BsmtFinSF2', 'BsmtUnfSF', 'TotalBsmtSF', 'Heating',\n",
       "       'HeatingQC', 'CentralAir', 'Electrical', '1stFlrSF', '2ndFlrSF',\n",
       "       'LowQualFinSF', 'GrLivArea', 'BsmtFullBath', 'BsmtHalfBath', 'FullBath',\n",
       "       'HalfBath', 'BedroomAbvGr', 'KitchenAbvGr', 'KitchenQual',\n",
       "       'TotRmsAbvGrd', 'Functional', 'Fireplaces', 'GarageType', 'GarageYrBlt',\n",
       "       'GarageFinish', 'GarageCars', 'GarageArea', 'GarageQual', 'GarageCond',\n",
       "       'PavedDrive', 'WoodDeckSF', 'OpenPorchSF', 'EnclosedPorch', '3SsnPorch',\n",
       "       'ScreenPorch', 'PoolArea', 'MiscVal', 'MoSold', 'YrSold', 'SaleType',\n",
       "       'SaleCondition'],\n",
       "      dtype='object')"
      ]
     },
     "execution_count": 108,
     "metadata": {},
     "output_type": "execute_result"
    }
   ],
   "source": [
    "X.columns"
   ]
  },
  {
   "cell_type": "code",
   "execution_count": 109,
   "metadata": {
    "scrolled": false
   },
   "outputs": [
    {
     "data": {
      "text/plain": [
       "0    208500\n",
       "1    181500\n",
       "2    223500\n",
       "3    140000\n",
       "4    250000\n",
       "Name: Property_Sale_Price, dtype: int64"
      ]
     },
     "execution_count": 109,
     "metadata": {},
     "output_type": "execute_result"
    }
   ],
   "source": [
    "y.head()"
   ]
  },
  {
   "cell_type": "code",
   "execution_count": 110,
   "metadata": {},
   "outputs": [],
   "source": [
    "# The train-test split procedure is used to estimate the performance of machine learning algorithms when \n",
    "# they are used to make predictions on data not used to train the model."
   ]
  },
  {
   "cell_type": "code",
   "execution_count": 111,
   "metadata": {},
   "outputs": [],
   "source": [
    "# The procedure involves taking a dataset and dividing it into two subsets. The first subset is used to fit the model\n",
    "# and is referred to as the training dataset. The second subset is not used to train the model; instead, \n",
    "# the input element of the dataset is provided to the model, then predictions are made and compared to the \n",
    "# expected values. This second dataset is referred to as the test dataset.\n",
    "\n",
    "X_train, X_test, y_train, y_test = train_test_split(X, y, test_size=0.2, random_state=42)"
   ]
  },
  {
   "cell_type": "code",
   "execution_count": 112,
   "metadata": {
    "scrolled": true
   },
   "outputs": [
    {
     "data": {
      "text/plain": [
       "(1657, 75)"
      ]
     },
     "execution_count": 112,
     "metadata": {},
     "output_type": "execute_result"
    }
   ],
   "source": [
    "X_train.shape"
   ]
  },
  {
   "cell_type": "code",
   "execution_count": 113,
   "metadata": {
    "scrolled": false
   },
   "outputs": [
    {
     "data": {
      "text/plain": [
       "(415, 75)"
      ]
     },
     "execution_count": 113,
     "metadata": {},
     "output_type": "execute_result"
    }
   ],
   "source": [
    "X_test.shape"
   ]
  },
  {
   "cell_type": "markdown",
   "metadata": {},
   "source": [
    "# Exploratory Data Analysis(EDA)"
   ]
  },
  {
   "cell_type": "markdown",
   "metadata": {},
   "source": [
    "### Basic EDA"
   ]
  },
  {
   "cell_type": "code",
   "execution_count": 118,
   "metadata": {},
   "outputs": [],
   "source": [
    "X_eda = pd.concat([X_train, y_train], axis=1)"
   ]
  },
  {
   "cell_type": "code",
   "execution_count": null,
   "metadata": {},
   "outputs": [],
   "source": [
    "X_eda.info()"
   ]
  },
  {
   "cell_type": "code",
   "execution_count": null,
   "metadata": {
    "scrolled": false
   },
   "outputs": [],
   "source": [
    "X_eda.describe().T"
   ]
  },
  {
   "cell_type": "markdown",
   "metadata": {},
   "source": [
    "### Some Useful Functions"
   ]
  },
  {
   "cell_type": "code",
   "execution_count": 119,
   "metadata": {},
   "outputs": [],
   "source": [
    "# Lets create a variable called action which is similar to strategy variable. Here we will record which columns to drop and\n",
    "# which columns to use scalers and transformers.\n",
    "\n",
    "# We can create set objects inside the dictionary to fill with column names. because we dont want our column names to be\n",
    "# repeated for the same process.\n",
    "\n",
    "# Set items are unordered, unchangeable, and do not allow duplicate values.\n",
    "\n",
    "act_drop = set()\n",
    "act_power = set()\n",
    "act_quant = set()\n",
    "act_rob = set()\n",
    "act_std = set()\n",
    "act_ohe = set()\n",
    "\n",
    "action = {\n",
    "    'drop' : act_drop,\n",
    "    'power_t' : act_power,\n",
    "    'quantile_t' : act_quant,\n",
    "    'robust_s' : act_rob,\n",
    "    'standard_s' : act_std,\n",
    "    'one_hot' : act_ohe\n",
    "}"
   ]
  },
  {
   "cell_type": "code",
   "execution_count": 120,
   "metadata": {},
   "outputs": [],
   "source": [
    "# Same process to record the numerical columns with different correlations\n",
    "\n",
    "# I divided the correlation values into three groups\n",
    "\n",
    "h_set=set()\n",
    "m_set=set()\n",
    "l_set=set()\n",
    "\n",
    "correlation = {\n",
    "    'high(6-10)' : h_set,\n",
    "    'medium(3-6)' : m_set,\n",
    "    'low(0-3)' : l_set\n",
    "}"
   ]
  },
  {
   "cell_type": "code",
   "execution_count": 121,
   "metadata": {},
   "outputs": [],
   "source": [
    "def uni_var_analysis(col_name):\n",
    "    print(f'Basic EDA of {col_name}\\n')\n",
    "    print(df_desc.loc[col_name])\n",
    "    print('\\n')\n",
    "    \n",
    "    if X_eda[col_name].dtypes != 'O':\n",
    "        \n",
    "        fig, axes = plt.subplots(1,2, figsize=(17,7))\n",
    "        fig.suptitle(f'Histogram and Probability plot for {col_name}')\n",
    "        sns.distplot(ax=axes[0], a=X_eda[col_name], fit=norm)\n",
    "        axes[1] = stats.probplot(X_eda[col_name], plot=plt)\n",
    "        plt.savefig(f'plots/uni_var_plot_of_{col_name}.png')\n",
    "        print('\\n')\n",
    "        \n",
    "        Q1 = X_eda[col_name].quantile(0.25)\n",
    "        Q3 = X_eda[col_name].quantile(0.75)\n",
    "        IQR = Q3 - Q1\n",
    "        no_of_out = sum((X_eda[col_name] < (Q1 - 1.5 * IQR)) |(X_eda[col_name] > (Q3 + 1.5 * IQR)))\n",
    "        print(f'There are {no_of_out} outliers in the {col_name} column.')\n",
    "        print('\\n')\n",
    "\n",
    "        print('Skewness: ', X_eda[col_name].skew())\n",
    "        print('Kurtosis: ', X_eda[col_name].kurtosis())\n",
    "        print('\\n')\n",
    "\n",
    "        print('Test for Normality: ')\n",
    "        Ho = 'There is no significant departure from normal bell shaped curve (Data is normal)'\n",
    "        Ha = 'There is a significant departure from normal bell shaped curve (Data is not normal)'\n",
    "        print('Ho : ', Ho)\n",
    "        print('Ha : ', Ha)\n",
    "        print('\\n')\n",
    "        stat, p = shapiro(X_eda[col_name])\n",
    "        \n",
    "        print('Test Results')\n",
    "        print('test statistics: %.3f' %stat)\n",
    "        print('p value: %.6f' %p)\n",
    "        print('\\n')\n",
    "        alpha = 0.05\n",
    "        \n",
    "        if p>alpha:\n",
    "            print(f'{Ho} : fail to reject Ho')\n",
    "            if no_of_out>0:\n",
    "                action['robust_s'].add(col_name)\n",
    "            else:\n",
    "                action['standard_s'].add(col_name)\n",
    "        else:\n",
    "            print(f'{Ha} : reject Ho')\n",
    "            \n",
    "            if no_of_out>0:\n",
    "                action['quantile_t'].add(col_name)\n",
    "            else:\n",
    "                action['power_t'].add(col_name)\n",
    "                \n",
    "                \n",
    "    elif X_eda[col_name].dtypes == 'O':\n",
    "        \n",
    "        plt.figure(figsize=(9,7))\n",
    "        sns.countplot(X_eda[col_name])\n",
    "        plt.title(f'Countplot of {col_name}')\n",
    "        plt.savefig(f'plots/uni_var_plot_of_{col_name}.png')\n",
    "\n",
    "        print(f'Unique values in {col_name} are {X_eda[col_name].unique()}\\n')\n",
    "        \n",
    "        print(X_eda[col_name].value_counts())\n",
    "    "
   ]
  },
  {
   "cell_type": "code",
   "execution_count": 125,
   "metadata": {},
   "outputs": [],
   "source": [
    "def bi_var_analysis(x,data=X_eda, y='Property_Sale_Price', convert=False):\n",
    "    print(f'Relationship between {x} and {y}\\n')\n",
    "\n",
    "    print(df_desc.loc[x],'\\n')\n",
    "    print(df_desc.loc[y])\n",
    "    print('\\n')\n",
    "    \n",
    "#     if convert:\n",
    "#         if data[x].dtypes != 'O':\n",
    "#             data[x].astype()\n",
    "    \n",
    "    if y=='Property_Sale_Price' and x!='Property_Sale_Price':\n",
    "        if data[x].dtypes != 'O':\n",
    "            if x in action['quantile_t'] or x in action['power_t']:\n",
    "                print('Since the data is not normally distributed we are using Spearman correlation coeffiecient.')\n",
    "                corr, _ = spearmanr(data[x], data[y])\n",
    "                print('Spearmans correlation: %.3f' % corr)\n",
    "                    \n",
    "            else:\n",
    "                corr, _ = pearsonr(data[x], data[y])\n",
    "                print('Pearsons correlation: %.3f' % corr)\n",
    "                \n",
    "            corr = abs(corr)\n",
    "            if corr>=0.6:\n",
    "                correlation['high(6-10)'].add(x)\n",
    "            elif corr>=0.3 and corr<0.6:\n",
    "                correlation['medium(3-6)'].add(x)\n",
    "            elif corr>=0 and corr<0.3:\n",
    "                correlation['low(0-3)'].add(x)\n",
    "            \n",
    "            print('\\n')\n",
    "            print(f'Lets see the relation between {x} and {y} using Wald Test with t-distribution of the test statistic.')\n",
    "            print('\\n')\n",
    "            Ho = 'Slope is 0 (The regression model has no predictability of the dependent variable)'\n",
    "            Ha = 'Slope not equal to 0 (The regressioin model can predict the dependent variable)'\n",
    "            print('Ho: ',Ho)\n",
    "            print('Ha: ',Ha)\n",
    "            print('\\n')\n",
    "            \n",
    "            lin_scale_demo = RobustScaler()\n",
    "            demo_df = pd.DataFrame(lin_scale_demo.fit_transform(data[[x,y]]), columns=[x,y])\n",
    "            demo_lr = linregress(demo_df[x], demo_df[y])\n",
    "            \n",
    "            print('Test Results\\n')\n",
    "            print('Slope: ', demo_lr.slope)\n",
    "            print('Intercept: ', demo_lr.intercept)\n",
    "            print('R-value: ', demo_lr.rvalue)\n",
    "            print('p-value: ', demo_lr.pvalue)\n",
    "            print('Std error: ', demo_lr.stderr)\n",
    "            print('\\n')\n",
    "            \n",
    "            alpha = 0.05\n",
    "            if demo_lr.pvalue>alpha:\n",
    "                print('Fail to reject Null hypothesis, ', Ho)\n",
    "                action['drop'].add(x)\n",
    "            else:\n",
    "                print('Reject Null hypothesis, ', Ha)\n",
    "            \n",
    "            fig, axes = plt.subplots(1,2, figsize=(15,7))\n",
    "            sns.scatterplot(x=x, y=y, data=data, ax=axes[0])\n",
    "            sns.regplot(x=x,y=y,data=data,ax=axes[1])\n",
    "            plt.suptitle(f'Scatterplot and Regression plot of {x} vs {y}')\n",
    "            plt.savefig(f'plots/bi_var_plot_of_{x}_vs_{y}.png')\n",
    "\n",
    "            \n",
    "        elif data[x].dtypes == 'O':\n",
    "            \n",
    "            unique = data[x].unique()\n",
    "            print(f'Unique values in {x} are : {unique}')\n",
    "            print('\\n')\n",
    "            \n",
    "            Ho = f'All the levels in {x} have an equal mean {y}'\n",
    "            Ha = f'There is a significant difference between the levels of {x} with respect to {y} mean'\n",
    "            \n",
    "            alpha = 0.05\n",
    "            \n",
    "            print('Ho: ', Ho)\n",
    "            print('Ha: ', Ha)\n",
    "            print('\\n')\n",
    "            \n",
    "            if len(X_train[x].unique()) == 2:\n",
    "                                \n",
    "                ind_1 = data[data[x] == data[x].unique()[0]]\n",
    "                ind_2 = data[data[x] == data[x].unique()[1]]\n",
    "                \n",
    "                stat, p_value = stats.ttest_ind(ind_1[y], ind_2[y])\n",
    "                print('Test Results')\n",
    "                print('\\n')\n",
    "                print('Test statistics: ', stats)\n",
    "                print('p-value: ', p_value)\n",
    "                \n",
    "                \n",
    "            else:\n",
    "                \n",
    "                anova_model = ols(f'{y} ~ C({x})', data=data).fit()\n",
    "                aov_table = sm.stats.anova_lm(anova_model, typ=2)\n",
    "                print('Test Results \\n')\n",
    "                print(aov_table)\n",
    "                print('\\n')\n",
    "                p_value = aov_table['PR(>F)'].iloc[0]\n",
    "                \n",
    "            if p_value>alpha:\n",
    "                print('Fail to reject null hypothesis, ', Ho)\n",
    "                action['drop'].add(x)\n",
    "            else:\n",
    "                print('Reject null hypothesis, ', Ha)\n",
    "                action['one_hot'].add(x)\n",
    "                \n",
    "        \n",
    "            fig, axes = plt.subplots(2,1, figsize=(15,10))\n",
    "            \n",
    "            sns.countplot(x=x, data=data, ax=axes[0])\n",
    "            sns.boxplot(x=x, y=y, data=data, ax=axes[1])\n",
    "            plt.suptitle(f'Countplot and boxplot of {x} and {y}')\n",
    "            plt.savefig(f'plots/bi_var_plot_of_{x}_vs_{y}.png')\n",
    "\n",
    "                \n",
    "    elif y!='Property_Sale_Prediction' and x!='Property_Sale_Prediction':\n",
    "        print(f'Relationship between {x} and {y}')\n",
    "        \n",
    "    else:\n",
    "        print(f'Relationship between {x} and {y}')"
   ]
  },
  {
   "cell_type": "markdown",
   "metadata": {},
   "source": [
    "#### Id"
   ]
  },
  {
   "cell_type": "code",
   "execution_count": 123,
   "metadata": {},
   "outputs": [
    {
     "name": "stdout",
     "output_type": "stream",
     "text": [
      "Basic EDA of Id\n",
      "\n",
      "description    Identification number of the property\n",
      "Name: Id, dtype: object\n",
      "\n",
      "\n",
      "\n",
      "\n",
      "There are 0 outliers in the Id column.\n",
      "\n",
      "\n",
      "Skewness:  -0.04108120144720461\n",
      "Kurtosis:  -0.9402156212977304\n",
      "\n",
      "\n",
      "Test for Normality: \n",
      "Ho :  There is no significant departure from normal bell shaped curve (Data is normal)\n",
      "Ha :  There is a significant departure from normal bell shaped curve (Data is not normal)\n",
      "\n",
      "\n",
      "Test Results\n",
      "test statistics: 0.969\n",
      "p value: 0.000000\n",
      "\n",
      "\n",
      "There is a significant departure from normal bell shaped curve (Data is not normal) : reject Ho\n"
     ]
    },
    {
     "data": {
      "image/png": "[encoded data removed]",
      "text/plain": [
       "<Figure size 1224x504 with 2 Axes>"
      ]
     },
     "metadata": {},
     "output_type": "display_data"
    }
   ],
   "source": [
    "uni_var_analysis('Id')"
   ]
  },
  {
   "cell_type": "code",
   "execution_count": 126,
   "metadata": {},
   "outputs": [
    {
     "name": "stdout",
     "output_type": "stream",
     "text": [
      "Relationship between Id and Property_Sale_Price\n",
      "\n",
      "description    Identification number of the property\n",
      "Name: Id, dtype: object \n",
      "\n",
      "description    Price of the house\n",
      "Name: Property_Sale_Price, dtype: object\n",
      "\n",
      "\n",
      "Since the data is not normally distributed we are using Spearman correlation coeffiecient.\n",
      "Spearmans correlation: -0.004\n",
      "\n",
      "\n",
      "Lets see the relation between Id and Property_Sale_Price using Wald Test with t-distribution of the test statistic.\n",
      "\n",
      "\n",
      "Ho:  Slope is 0 (The regression model has no predictability of the dependent variable)\n",
      "Ha:  Slope not equal to 0 (The regressioin model can predict the dependent variable)\n",
      "\n",
      "\n",
      "Test Results\n",
      "\n",
      "Slope:  -0.013313745180993385\n",
      "Intercept:  0.22108172280652405\n",
      "R-value:  -0.009071501175692852\n",
      "p-value:  0.7121308113710663\n",
      "Std error:  0.03607482309021397\n",
      "\n",
      "\n",
      "Fail to reject Null hypothesis,  Slope is 0 (The regression model has no predictability of the dependent variable)\n"
     ]
    },
    {
     "data": {
      "image/png": "[encoded data removed]",
      "text/plain": [
       "<Figure size 1080x504 with 2 Axes>"
      ]
     },
     "metadata": {},
     "output_type": "display_data"
    }
   ],
   "source": [
    "bi_var_analysis('Id')"
   ]
  },
  {
   "cell_type": "markdown",
   "metadata": {},
   "source": [
    "#### Dwell_Type"
   ]
  },
  {
   "cell_type": "code",
   "execution_count": 127,
   "metadata": {},
   "outputs": [
    {
     "name": "stdout",
     "output_type": "stream",
     "text": [
      "Basic EDA of Dwell_Type\n",
      "\n",
      "description    Identifies the type of dwelling involved in the sale\n",
      "Name: Dwell_Type, dtype: object\n",
      "\n",
      "\n",
      "\n",
      "\n",
      "There are 123 outliers in the Dwell_Type column.\n",
      "\n",
      "\n",
      "Skewness:  37.308629074927524\n",
      "Kurtosis:  1474.0893622421545\n",
      "\n",
      "\n",
      "Test for Normality: \n",
      "Ho :  There is no significant departure from normal bell shaped curve (Data is normal)\n",
      "Ha :  There is a significant departure from normal bell shaped curve (Data is not normal)\n",
      "\n",
      "\n",
      "Test Results\n",
      "test statistics: 0.089\n",
      "p value: 0.000000\n",
      "\n",
      "\n",
      "There is a significant departure from normal bell shaped curve (Data is not normal) : reject Ho\n"
     ]
    },
    {
     "data": {
      "image/png": "[encoded data removed]",
      "text/plain": [
       "<Figure size 1224x504 with 2 Axes>"
      ]
     },
     "metadata": {},
     "output_type": "display_data"
    }
   ],
   "source": [
    "uni_var_analysis('Dwell_Type')"
   ]
  },
  {
   "cell_type": "code",
   "execution_count": 128,
   "metadata": {
    "scrolled": false
   },
   "outputs": [
    {
     "name": "stdout",
     "output_type": "stream",
     "text": [
      "Relationship between Dwell_Type and Property_Sale_Price\n",
      "\n",
      "description    Identifies the type of dwelling involved in the sale\n",
      "Name: Dwell_Type, dtype: object \n",
      "\n",
      "description    Price of the house\n",
      "Name: Property_Sale_Price, dtype: object\n",
      "\n",
      "\n",
      "Since the data is not normally distributed we are using Spearman correlation coeffiecient.\n",
      "Spearmans correlation: -0.003\n",
      "\n",
      "\n",
      "Lets see the relation between Dwell_Type and Property_Sale_Price using Wald Test with t-distribution of the test statistic.\n",
      "\n",
      "\n",
      "Ho:  Slope is 0 (The regression model has no predictability of the dependent variable)\n",
      "Ha:  Slope not equal to 0 (The regressioin model can predict the dependent variable)\n",
      "\n",
      "\n",
      "Test Results\n",
      "\n",
      "Slope:  -0.005293165637255953\n",
      "Intercept:  0.22259898159499067\n",
      "R-value:  -0.02009758013720477\n",
      "p-value:  0.4136069771496206\n",
      "Std error:  0.006472692719409336\n",
      "\n",
      "\n",
      "Fail to reject Null hypothesis,  Slope is 0 (The regression model has no predictability of the dependent variable)\n"
     ]
    },
    {
     "data": {
      "image/png": "[encoded data removed]",
      "text/plain": [
       "<Figure size 1080x504 with 2 Axes>"
      ]
     },
     "metadata": {},
     "output_type": "display_data"
    }
   ],
   "source": [
    "bi_var_analysis('Dwell_Type')"
   ]
  },
  {
   "cell_type": "code",
   "execution_count": 132,
   "metadata": {},
   "outputs": [
    {
     "name": "stdout",
     "output_type": "stream",
     "text": [
      "Relationship between Dwell_Type and Property_Sale_Price\n",
      "\n",
      "description    Identifies the type of dwelling involved in the sale\n",
      "Name: Dwell_Type, dtype: object \n",
      "\n",
      "description    Price of the house\n",
      "Name: Property_Sale_Price, dtype: object\n",
      "\n",
      "\n",
      "Since the data is not normally distributed we are using Spearman correlation coeffiecient.\n",
      "Spearmans correlation: -0.004\n",
      "\n",
      "\n",
      "Lets see the relation between Dwell_Type and Property_Sale_Price using Wald Test with t-distribution of the test statistic.\n",
      "\n",
      "\n",
      "Ho:  Slope is 0 (The regression model has no predictability of the dependent variable)\n",
      "Ha:  Slope not equal to 0 (The regressioin model can predict the dependent variable)\n",
      "\n",
      "\n",
      "Test Results\n",
      "\n",
      "Slope:  -0.1064406885667356\n",
      "Intercept:  0.23672349348274946\n",
      "R-value:  -0.09635297631167164\n",
      "p-value:  8.595284406160412e-05\n",
      "Std error:  0.027036433392974703\n",
      "\n",
      "\n",
      "Reject Null hypothesis,  Slope not equal to 0 (The regressioin model can predict the dependent variable)\n"
     ]
    },
    {
     "data": {
      "image/png": "[encoded data removed]",
      "text/plain": [
       "<Figure size 1080x504 with 2 Axes>"
      ]
     },
     "metadata": {},
     "output_type": "display_data"
    }
   ],
   "source": [
    "# Lets try to remove the outliers and do a bivariate analysis\n",
    "X_eda_dwell = X_eda[X_eda['Dwell_Type']<500]\n",
    "bi_var_analysis('Dwell_Type', X_eda_dwell)"
   ]
  },
  {
   "cell_type": "code",
   "execution_count": 140,
   "metadata": {},
   "outputs": [
    {
     "data": {
      "text/plain": [
       "<matplotlib.axes._subplots.AxesSubplot at 0x25b083067f0>"
      ]
     },
     "execution_count": 140,
     "metadata": {},
     "output_type": "execute_result"
    },
    {
     "data": {
      "image/png": "[encoded data removed]",
      "text/plain": [
       "<Figure size 432x288 with 1 Axes>"
      ]
     },
     "metadata": {},
     "output_type": "display_data"
    }
   ],
   "source": [
    "# It looks like there is no continuity in the data. So lets convert this variable to a categorical variable.\n",
    "\n",
    "sns.countplot(X_eda_dwell['Dwell_Type'])"
   ]
  },
  {
   "cell_type": "code",
   "execution_count": 137,
   "metadata": {},
   "outputs": [
    {
     "data": {
      "text/plain": [
       "Id                     int64  \n",
       "Dwell_Type             int64  \n",
       "Zone_Class             object \n",
       "LotFrontage            float64\n",
       "LotArea                int64  \n",
       "Road_Type              object \n",
       "Property_Shape         object \n",
       "LandContour            object \n",
       "Utilities              object \n",
       "LotConfig              object \n",
       "LandSlope              object \n",
       "Neighborhood           object \n",
       "Condition1             object \n",
       "Condition2             object \n",
       "Dwelling_Type          object \n",
       "HouseStyle             object \n",
       "OverallQual            int64  \n",
       "OverallCond            int64  \n",
       "YearBuilt              int64  \n",
       "YearRemodAdd           int64  \n",
       "RoofStyle              object \n",
       "RoofMatl               object \n",
       "Exterior1st            object \n",
       "Exterior2nd            object \n",
       "MasVnrType             object \n",
       "MasVnrArea             float64\n",
       "ExterQual              object \n",
       "ExterCond              object \n",
       "Foundation             object \n",
       "BsmtQual               object \n",
       "BsmtCond               object \n",
       "BsmtExposure           object \n",
       "BsmtFinType1           object \n",
       "BsmtFinSF1             int64  \n",
       "BsmtFinType2           object \n",
       "BsmtFinSF2             int64  \n",
       "BsmtUnfSF              int64  \n",
       "TotalBsmtSF            int64  \n",
       "Heating                object \n",
       "HeatingQC              object \n",
       "CentralAir             object \n",
       "Electrical             object \n",
       "1stFlrSF               int64  \n",
       "2ndFlrSF               int64  \n",
       "LowQualFinSF           int64  \n",
       "GrLivArea              int64  \n",
       "BsmtFullBath           int64  \n",
       "BsmtHalfBath           int64  \n",
       "FullBath               int64  \n",
       "HalfBath               int64  \n",
       "BedroomAbvGr           int64  \n",
       "KitchenAbvGr           int64  \n",
       "KitchenQual            object \n",
       "TotRmsAbvGrd           int64  \n",
       "Functional             object \n",
       "Fireplaces             int64  \n",
       "GarageType             object \n",
       "GarageYrBlt            float64\n",
       "GarageFinish           object \n",
       "GarageCars             int64  \n",
       "GarageArea             int64  \n",
       "GarageQual             object \n",
       "GarageCond             object \n",
       "PavedDrive             object \n",
       "WoodDeckSF             int64  \n",
       "OpenPorchSF            int64  \n",
       "EnclosedPorch          int64  \n",
       "3SsnPorch              int64  \n",
       "ScreenPorch            int64  \n",
       "PoolArea               int64  \n",
       "MiscVal                int64  \n",
       "MoSold                 int64  \n",
       "YrSold                 int64  \n",
       "SaleType               object \n",
       "SaleCondition          object \n",
       "Property_Sale_Price    int64  \n",
       "dtype: object"
      ]
     },
     "execution_count": 137,
     "metadata": {},
     "output_type": "execute_result"
    }
   ],
   "source": [
    "X_eda_dwell.dtypes"
   ]
  },
  {
   "cell_type": "code",
   "execution_count": 136,
   "metadata": {},
   "outputs": [
    {
     "name": "stdout",
     "output_type": "stream",
     "text": [
      "Relationship between Dwell_Type and Property_Sale_Price\n",
      "\n",
      "description    Identifies the type of dwelling involved in the sale\n",
      "Name: Dwell_Type, dtype: object \n",
      "\n",
      "description    Price of the house\n",
      "Name: Property_Sale_Price, dtype: object\n",
      "\n",
      "\n",
      "Since the data is not normally distributed we are using Spearman correlation coeffiecient.\n",
      "Spearmans correlation: -0.004\n",
      "\n",
      "\n",
      "Lets see the relation between Dwell_Type and Property_Sale_Price using Wald Test with t-distribution of the test statistic.\n",
      "\n",
      "\n",
      "Ho:  Slope is 0 (The regression model has no predictability of the dependent variable)\n",
      "Ha:  Slope not equal to 0 (The regressioin model can predict the dependent variable)\n",
      "\n",
      "\n",
      "Test Results\n",
      "\n",
      "Slope:  -0.1064406885667356\n",
      "Intercept:  0.23672349348274946\n",
      "R-value:  -0.09635297631167164\n",
      "p-value:  8.595284406160412e-05\n",
      "Std error:  0.027036433392974703\n",
      "\n",
      "\n",
      "Reject Null hypothesis,  Slope not equal to 0 (The regressioin model can predict the dependent variable)\n"
     ]
    },
    {
     "data": {
      "image/png": "[encoded data removed]",
      "text/plain": [
       "<Figure size 1080x504 with 2 Axes>"
      ]
     },
     "metadata": {},
     "output_type": "display_data"
    }
   ],
   "source": [
    "bi_var_analysis('Dwell_Type', X_eda_dwell)"
   ]
  },
  {
   "cell_type": "markdown",
   "metadata": {},
   "source": [
    "#### Zone_Class"
   ]
  },
  {
   "cell_type": "code",
   "execution_count": null,
   "metadata": {},
   "outputs": [],
   "source": [
    "uni_var_analysis('Zone_Class')"
   ]
  },
  {
   "cell_type": "code",
   "execution_count": null,
   "metadata": {},
   "outputs": [],
   "source": [
    "bi_var_analysis('Zone_Class')"
   ]
  },
  {
   "cell_type": "markdown",
   "metadata": {},
   "source": [
    "#### LotFrontage"
   ]
  },
  {
   "cell_type": "code",
   "execution_count": null,
   "metadata": {},
   "outputs": [],
   "source": [
    "uni_var_analysis('LotFrontage')"
   ]
  },
  {
   "cell_type": "code",
   "execution_count": null,
   "metadata": {},
   "outputs": [],
   "source": [
    "bi_var_analysis('LotFrontage')"
   ]
  },
  {
   "cell_type": "markdown",
   "metadata": {},
   "source": [
    "#### LotArea"
   ]
  },
  {
   "cell_type": "code",
   "execution_count": null,
   "metadata": {},
   "outputs": [],
   "source": [
    "uni_var_analysis('LotArea')"
   ]
  },
  {
   "cell_type": "code",
   "execution_count": null,
   "metadata": {},
   "outputs": [],
   "source": [
    "bi_var_analysis('LotArea')"
   ]
  },
  {
   "cell_type": "markdown",
   "metadata": {},
   "source": [
    "#### Road_Type"
   ]
  },
  {
   "cell_type": "code",
   "execution_count": null,
   "metadata": {},
   "outputs": [],
   "source": [
    "uni_var_analysis('Road_Type')"
   ]
  },
  {
   "cell_type": "code",
   "execution_count": null,
   "metadata": {},
   "outputs": [],
   "source": [
    "bi_var_analysis('Road_Type')"
   ]
  },
  {
   "cell_type": "markdown",
   "metadata": {},
   "source": [
    "#### Property_Shape"
   ]
  },
  {
   "cell_type": "code",
   "execution_count": null,
   "metadata": {},
   "outputs": [],
   "source": [
    "uni_var_analysis('Property_Shape')"
   ]
  },
  {
   "cell_type": "code",
   "execution_count": null,
   "metadata": {},
   "outputs": [],
   "source": [
    "bi_var_analysis('Property_Shape')"
   ]
  },
  {
   "cell_type": "markdown",
   "metadata": {},
   "source": [
    "#### LandContour"
   ]
  },
  {
   "cell_type": "code",
   "execution_count": null,
   "metadata": {},
   "outputs": [],
   "source": [
    "uni_var_analysis('LandContour')"
   ]
  },
  {
   "cell_type": "code",
   "execution_count": null,
   "metadata": {},
   "outputs": [],
   "source": [
    "bi_var_analysis('LandContour')"
   ]
  },
  {
   "cell_type": "markdown",
   "metadata": {},
   "source": [
    "#### Utilities"
   ]
  },
  {
   "cell_type": "code",
   "execution_count": null,
   "metadata": {},
   "outputs": [],
   "source": [
    "uni_var_analysis('Utilities')"
   ]
  },
  {
   "cell_type": "code",
   "execution_count": null,
   "metadata": {},
   "outputs": [],
   "source": [
    "bi_var_analysis('Utilities')"
   ]
  },
  {
   "cell_type": "markdown",
   "metadata": {},
   "source": [
    "#### LotConfig"
   ]
  },
  {
   "cell_type": "code",
   "execution_count": null,
   "metadata": {},
   "outputs": [],
   "source": [
    "uni_var_analysis('LotConfig')"
   ]
  },
  {
   "cell_type": "code",
   "execution_count": null,
   "metadata": {},
   "outputs": [],
   "source": [
    "bi_var_analysis('LotConfig')"
   ]
  },
  {
   "cell_type": "markdown",
   "metadata": {},
   "source": [
    "#### LandSlope"
   ]
  },
  {
   "cell_type": "code",
   "execution_count": null,
   "metadata": {},
   "outputs": [],
   "source": [
    "uni_var_analysis('LandSlope')"
   ]
  },
  {
   "cell_type": "code",
   "execution_count": null,
   "metadata": {},
   "outputs": [],
   "source": [
    "bi_var_analysis('LandSlope')"
   ]
  },
  {
   "cell_type": "markdown",
   "metadata": {},
   "source": [
    "#### Neighborhood"
   ]
  },
  {
   "cell_type": "code",
   "execution_count": null,
   "metadata": {},
   "outputs": [],
   "source": [
    "uni_var_analysis('Neighborhood')"
   ]
  },
  {
   "cell_type": "code",
   "execution_count": null,
   "metadata": {},
   "outputs": [],
   "source": [
    "bi_var_analysis('Neighborhood')"
   ]
  },
  {
   "cell_type": "markdown",
   "metadata": {},
   "source": [
    "#### Condition1"
   ]
  },
  {
   "cell_type": "code",
   "execution_count": null,
   "metadata": {},
   "outputs": [],
   "source": [
    "uni_var_analysis('Condition1')"
   ]
  },
  {
   "cell_type": "code",
   "execution_count": null,
   "metadata": {},
   "outputs": [],
   "source": [
    "bi_var_analysis('Condition1')"
   ]
  },
  {
   "cell_type": "markdown",
   "metadata": {},
   "source": [
    "#### Condition2"
   ]
  },
  {
   "cell_type": "code",
   "execution_count": null,
   "metadata": {},
   "outputs": [],
   "source": [
    "uni_var_analysis('Condition2')"
   ]
  },
  {
   "cell_type": "code",
   "execution_count": null,
   "metadata": {},
   "outputs": [],
   "source": [
    "bi_var_analysis('Condition2')"
   ]
  },
  {
   "cell_type": "markdown",
   "metadata": {},
   "source": [
    "#### Dwelling_Type"
   ]
  },
  {
   "cell_type": "code",
   "execution_count": null,
   "metadata": {},
   "outputs": [],
   "source": [
    "uni_var_analysis('Dwelling_Type')"
   ]
  },
  {
   "cell_type": "code",
   "execution_count": null,
   "metadata": {},
   "outputs": [],
   "source": [
    "bi_var_analysis('Dwelling_Type')"
   ]
  },
  {
   "cell_type": "markdown",
   "metadata": {},
   "source": [
    "#### HouseStyle"
   ]
  },
  {
   "cell_type": "code",
   "execution_count": null,
   "metadata": {},
   "outputs": [],
   "source": [
    "uni_var_analysis('HouseStyle')"
   ]
  },
  {
   "cell_type": "code",
   "execution_count": null,
   "metadata": {},
   "outputs": [],
   "source": [
    "bi_var_analysis('HouseStyle')"
   ]
  },
  {
   "cell_type": "markdown",
   "metadata": {},
   "source": [
    "#### OverallQual"
   ]
  },
  {
   "cell_type": "code",
   "execution_count": null,
   "metadata": {},
   "outputs": [],
   "source": [
    "uni_var_analysis('OverallQual')"
   ]
  },
  {
   "cell_type": "code",
   "execution_count": null,
   "metadata": {},
   "outputs": [],
   "source": [
    "bi_var_analysis('OverallQual')"
   ]
  },
  {
   "cell_type": "markdown",
   "metadata": {},
   "source": [
    "#### OverallCond"
   ]
  },
  {
   "cell_type": "code",
   "execution_count": null,
   "metadata": {},
   "outputs": [],
   "source": [
    "uni_var_analysis('OverallCond')"
   ]
  },
  {
   "cell_type": "code",
   "execution_count": null,
   "metadata": {},
   "outputs": [],
   "source": [
    "bi_var_analysis('OverallCond')"
   ]
  },
  {
   "cell_type": "markdown",
   "metadata": {},
   "source": [
    "#### YearBuilt"
   ]
  },
  {
   "cell_type": "code",
   "execution_count": null,
   "metadata": {},
   "outputs": [],
   "source": [
    "uni_var_analysis('YearBuilt')"
   ]
  },
  {
   "cell_type": "code",
   "execution_count": null,
   "metadata": {},
   "outputs": [],
   "source": [
    "bi_var_analysis('YearBuilt')"
   ]
  },
  {
   "cell_type": "markdown",
   "metadata": {},
   "source": [
    "#### YearRemodAdd"
   ]
  },
  {
   "cell_type": "code",
   "execution_count": null,
   "metadata": {},
   "outputs": [],
   "source": [
    "uni_var_analysis('YearRemodAdd')"
   ]
  },
  {
   "cell_type": "code",
   "execution_count": null,
   "metadata": {},
   "outputs": [],
   "source": [
    "bi_var_analysis('YearRemodAdd')"
   ]
  },
  {
   "cell_type": "markdown",
   "metadata": {},
   "source": [
    "#### RoofStyle"
   ]
  },
  {
   "cell_type": "code",
   "execution_count": null,
   "metadata": {},
   "outputs": [],
   "source": [
    "uni_var_analysis('RoofStyle')"
   ]
  },
  {
   "cell_type": "code",
   "execution_count": null,
   "metadata": {},
   "outputs": [],
   "source": [
    "bi_var_analysis('RoofStyle')"
   ]
  },
  {
   "cell_type": "markdown",
   "metadata": {},
   "source": [
    "#### RoofMatl"
   ]
  },
  {
   "cell_type": "code",
   "execution_count": null,
   "metadata": {},
   "outputs": [],
   "source": [
    "uni_var_analysis('RoofMatl')"
   ]
  },
  {
   "cell_type": "code",
   "execution_count": null,
   "metadata": {},
   "outputs": [],
   "source": [
    "bi_var_analysis('RoofMatl')"
   ]
  },
  {
   "cell_type": "markdown",
   "metadata": {},
   "source": [
    "#### Exterior1st"
   ]
  },
  {
   "cell_type": "code",
   "execution_count": null,
   "metadata": {},
   "outputs": [],
   "source": [
    "uni_var_analysis('Exterior1st')"
   ]
  },
  {
   "cell_type": "code",
   "execution_count": null,
   "metadata": {},
   "outputs": [],
   "source": [
    "bi_var_analysis('Exterior1st')"
   ]
  },
  {
   "cell_type": "markdown",
   "metadata": {},
   "source": [
    "#### Exterior2nd"
   ]
  },
  {
   "cell_type": "code",
   "execution_count": null,
   "metadata": {},
   "outputs": [],
   "source": [
    "uni_var_analysis('Exterior2nd')"
   ]
  },
  {
   "cell_type": "code",
   "execution_count": null,
   "metadata": {},
   "outputs": [],
   "source": [
    "bi_var_analysis('Exterior2nd')"
   ]
  },
  {
   "cell_type": "markdown",
   "metadata": {},
   "source": [
    "#### MasVnrType"
   ]
  },
  {
   "cell_type": "code",
   "execution_count": null,
   "metadata": {},
   "outputs": [],
   "source": [
    "uni_var_analysis('MasVnrType')"
   ]
  },
  {
   "cell_type": "code",
   "execution_count": null,
   "metadata": {},
   "outputs": [],
   "source": [
    "bi_var_analysis('MasVnrType')"
   ]
  },
  {
   "cell_type": "markdown",
   "metadata": {},
   "source": [
    "#### MasVnrArea"
   ]
  },
  {
   "cell_type": "code",
   "execution_count": null,
   "metadata": {},
   "outputs": [],
   "source": [
    "uni_var_analysis('MasVnrArea')"
   ]
  },
  {
   "cell_type": "code",
   "execution_count": null,
   "metadata": {},
   "outputs": [],
   "source": [
    "bi_var_analysis('MasVnrArea')"
   ]
  },
  {
   "cell_type": "markdown",
   "metadata": {},
   "source": [
    "#### ExterQual"
   ]
  },
  {
   "cell_type": "code",
   "execution_count": null,
   "metadata": {},
   "outputs": [],
   "source": [
    "uni_var_analysis('ExterQual')"
   ]
  },
  {
   "cell_type": "code",
   "execution_count": null,
   "metadata": {},
   "outputs": [],
   "source": [
    "bi_var_analysis('ExterQual')"
   ]
  },
  {
   "cell_type": "markdown",
   "metadata": {},
   "source": [
    "#### ExterCond"
   ]
  },
  {
   "cell_type": "code",
   "execution_count": null,
   "metadata": {},
   "outputs": [],
   "source": [
    "uni_var_analysis('ExterCond')"
   ]
  },
  {
   "cell_type": "code",
   "execution_count": null,
   "metadata": {},
   "outputs": [],
   "source": [
    "bi_var_analysis('ExterCond')"
   ]
  },
  {
   "cell_type": "markdown",
   "metadata": {},
   "source": [
    "#### Foundation"
   ]
  },
  {
   "cell_type": "code",
   "execution_count": null,
   "metadata": {},
   "outputs": [],
   "source": [
    "uni_var_analysis('Foundation')"
   ]
  },
  {
   "cell_type": "code",
   "execution_count": null,
   "metadata": {},
   "outputs": [],
   "source": [
    "bi_var_analysis('Foundation')"
   ]
  },
  {
   "cell_type": "markdown",
   "metadata": {},
   "source": [
    "#### BsmtQual"
   ]
  },
  {
   "cell_type": "code",
   "execution_count": null,
   "metadata": {},
   "outputs": [],
   "source": [
    "uni_var_analysis('BsmtQual')"
   ]
  },
  {
   "cell_type": "code",
   "execution_count": null,
   "metadata": {},
   "outputs": [],
   "source": [
    "bi_var_analysis('BsmtQual')"
   ]
  },
  {
   "cell_type": "markdown",
   "metadata": {},
   "source": [
    "#### BsmtCond"
   ]
  },
  {
   "cell_type": "code",
   "execution_count": null,
   "metadata": {},
   "outputs": [],
   "source": [
    "uni_var_analysis('BsmtCond')"
   ]
  },
  {
   "cell_type": "code",
   "execution_count": null,
   "metadata": {},
   "outputs": [],
   "source": [
    "bi_var_analysis('BsmtCond')"
   ]
  },
  {
   "cell_type": "markdown",
   "metadata": {},
   "source": [
    "#### BsmtExposure"
   ]
  },
  {
   "cell_type": "code",
   "execution_count": null,
   "metadata": {},
   "outputs": [],
   "source": [
    "uni_var_analysis('BsmtExposure')"
   ]
  },
  {
   "cell_type": "code",
   "execution_count": null,
   "metadata": {},
   "outputs": [],
   "source": [
    "bi_var_analysis('BsmtExposure')"
   ]
  },
  {
   "cell_type": "markdown",
   "metadata": {},
   "source": [
    "#### BsmtFinType1"
   ]
  },
  {
   "cell_type": "code",
   "execution_count": null,
   "metadata": {},
   "outputs": [],
   "source": [
    "uni_var_analysis('BsmtFinType1')"
   ]
  },
  {
   "cell_type": "code",
   "execution_count": null,
   "metadata": {},
   "outputs": [],
   "source": [
    "bi_var_analysis('BsmtFinType1')"
   ]
  },
  {
   "cell_type": "markdown",
   "metadata": {},
   "source": [
    "#### BsmtFinSF1"
   ]
  },
  {
   "cell_type": "code",
   "execution_count": null,
   "metadata": {},
   "outputs": [],
   "source": [
    "uni_var_analysis('BsmtFinSF1')"
   ]
  },
  {
   "cell_type": "code",
   "execution_count": null,
   "metadata": {},
   "outputs": [],
   "source": [
    "bi_var_analysis('BsmtFinSF1')"
   ]
  },
  {
   "cell_type": "markdown",
   "metadata": {},
   "source": [
    "#### BsmtFinType2"
   ]
  },
  {
   "cell_type": "code",
   "execution_count": null,
   "metadata": {},
   "outputs": [],
   "source": [
    "uni_var_analysis('BsmtFinType2')"
   ]
  },
  {
   "cell_type": "code",
   "execution_count": null,
   "metadata": {},
   "outputs": [],
   "source": [
    "bi_var_analysis('BsmtFinType2')"
   ]
  },
  {
   "cell_type": "markdown",
   "metadata": {},
   "source": [
    "#### BsmtFinSF2"
   ]
  },
  {
   "cell_type": "code",
   "execution_count": null,
   "metadata": {},
   "outputs": [],
   "source": [
    "uni_var_analysis('BsmtFinSF2')"
   ]
  },
  {
   "cell_type": "code",
   "execution_count": null,
   "metadata": {},
   "outputs": [],
   "source": [
    "bi_var_analysis('BsmtFinSF2')"
   ]
  },
  {
   "cell_type": "markdown",
   "metadata": {},
   "source": [
    "#### BsmtUnfSF"
   ]
  },
  {
   "cell_type": "code",
   "execution_count": null,
   "metadata": {},
   "outputs": [],
   "source": [
    "uni_var_analysis('BsmtUnfSF')"
   ]
  },
  {
   "cell_type": "code",
   "execution_count": null,
   "metadata": {},
   "outputs": [],
   "source": [
    "bi_var_analysis('BsmtUnfSF')"
   ]
  },
  {
   "cell_type": "markdown",
   "metadata": {},
   "source": [
    "#### TotalBsmtSF"
   ]
  },
  {
   "cell_type": "code",
   "execution_count": null,
   "metadata": {},
   "outputs": [],
   "source": [
    "uni_var_analysis('TotalBsmtSF')"
   ]
  },
  {
   "cell_type": "code",
   "execution_count": null,
   "metadata": {},
   "outputs": [],
   "source": [
    "bi_var_analysis('TotalBsmtSF')"
   ]
  },
  {
   "cell_type": "markdown",
   "metadata": {},
   "source": [
    "#### Heating"
   ]
  },
  {
   "cell_type": "code",
   "execution_count": null,
   "metadata": {},
   "outputs": [],
   "source": [
    "uni_var_analysis('Heating')"
   ]
  },
  {
   "cell_type": "code",
   "execution_count": null,
   "metadata": {},
   "outputs": [],
   "source": [
    "bi_var_analysis('Heating')"
   ]
  },
  {
   "cell_type": "markdown",
   "metadata": {},
   "source": [
    "#### HeatingQC"
   ]
  },
  {
   "cell_type": "code",
   "execution_count": null,
   "metadata": {},
   "outputs": [],
   "source": [
    "uni_var_analysis('HeatingQC')"
   ]
  },
  {
   "cell_type": "code",
   "execution_count": null,
   "metadata": {},
   "outputs": [],
   "source": [
    "bi_var_analysis('HeatingQC')"
   ]
  },
  {
   "cell_type": "markdown",
   "metadata": {},
   "source": [
    "#### CentralAir"
   ]
  },
  {
   "cell_type": "code",
   "execution_count": null,
   "metadata": {},
   "outputs": [],
   "source": [
    "uni_var_analysis('CentralAir')"
   ]
  },
  {
   "cell_type": "code",
   "execution_count": null,
   "metadata": {},
   "outputs": [],
   "source": [
    "bi_var_analysis('CentralAir')"
   ]
  },
  {
   "cell_type": "markdown",
   "metadata": {},
   "source": [
    "#### Electrical"
   ]
  },
  {
   "cell_type": "code",
   "execution_count": null,
   "metadata": {},
   "outputs": [],
   "source": [
    "uni_var_analysis('Electrical')"
   ]
  },
  {
   "cell_type": "code",
   "execution_count": null,
   "metadata": {},
   "outputs": [],
   "source": [
    "bi_var_analysis('Electrical')"
   ]
  },
  {
   "cell_type": "markdown",
   "metadata": {},
   "source": [
    "#### 1stFlrSF"
   ]
  },
  {
   "cell_type": "code",
   "execution_count": null,
   "metadata": {},
   "outputs": [],
   "source": [
    "uni_var_analysis('1stFlrSF')"
   ]
  },
  {
   "cell_type": "code",
   "execution_count": null,
   "metadata": {},
   "outputs": [],
   "source": [
    "bi_var_analysis('1stFlrSF')"
   ]
  },
  {
   "cell_type": "markdown",
   "metadata": {},
   "source": [
    "#### 2ndFlrSF"
   ]
  },
  {
   "cell_type": "code",
   "execution_count": null,
   "metadata": {},
   "outputs": [],
   "source": [
    "uni_var_analysis('2ndFlrSF')"
   ]
  },
  {
   "cell_type": "code",
   "execution_count": null,
   "metadata": {},
   "outputs": [],
   "source": [
    "bi_var_analysis('2ndFlrSF')"
   ]
  },
  {
   "cell_type": "markdown",
   "metadata": {},
   "source": [
    "#### LowQualFinSF"
   ]
  },
  {
   "cell_type": "code",
   "execution_count": null,
   "metadata": {},
   "outputs": [],
   "source": [
    "uni_var_analysis('LowQualFinSF')"
   ]
  },
  {
   "cell_type": "code",
   "execution_count": null,
   "metadata": {},
   "outputs": [],
   "source": [
    "bi_var_analysis('LowQualFinSF')"
   ]
  },
  {
   "cell_type": "markdown",
   "metadata": {},
   "source": [
    "#### GrLivArea"
   ]
  },
  {
   "cell_type": "code",
   "execution_count": null,
   "metadata": {},
   "outputs": [],
   "source": [
    "uni_var_analysis('GrLivArea')"
   ]
  },
  {
   "cell_type": "code",
   "execution_count": null,
   "metadata": {},
   "outputs": [],
   "source": [
    "bi_var_analysis('GrLivArea')"
   ]
  },
  {
   "cell_type": "markdown",
   "metadata": {},
   "source": [
    "#### BsmtFullBath"
   ]
  },
  {
   "cell_type": "code",
   "execution_count": null,
   "metadata": {
    "scrolled": false
   },
   "outputs": [],
   "source": [
    "uni_var_analysis('BsmtFullBath')"
   ]
  },
  {
   "cell_type": "code",
   "execution_count": null,
   "metadata": {},
   "outputs": [],
   "source": [
    "bi_var_analysis('BsmtFullBath')"
   ]
  },
  {
   "cell_type": "markdown",
   "metadata": {},
   "source": [
    "#### BsmtHalfBath"
   ]
  },
  {
   "cell_type": "code",
   "execution_count": null,
   "metadata": {},
   "outputs": [],
   "source": [
    "uni_var_analysis('BsmtHalfBath')"
   ]
  },
  {
   "cell_type": "code",
   "execution_count": null,
   "metadata": {},
   "outputs": [],
   "source": [
    "bi_var_analysis('BsmtHalfBath')"
   ]
  },
  {
   "cell_type": "markdown",
   "metadata": {},
   "source": [
    "#### FullBath"
   ]
  },
  {
   "cell_type": "code",
   "execution_count": null,
   "metadata": {},
   "outputs": [],
   "source": [
    "uni_var_analysis('FullBath')"
   ]
  },
  {
   "cell_type": "code",
   "execution_count": null,
   "metadata": {},
   "outputs": [],
   "source": [
    "bi_var_analysis('FullBath')"
   ]
  },
  {
   "cell_type": "markdown",
   "metadata": {},
   "source": [
    "#### HalfBath"
   ]
  },
  {
   "cell_type": "code",
   "execution_count": null,
   "metadata": {},
   "outputs": [],
   "source": [
    "uni_var_analysis('HalfBath')"
   ]
  },
  {
   "cell_type": "code",
   "execution_count": null,
   "metadata": {},
   "outputs": [],
   "source": [
    "bi_var_analysis('HalfBath')"
   ]
  },
  {
   "cell_type": "markdown",
   "metadata": {},
   "source": [
    "#### BedroomAbvGr"
   ]
  },
  {
   "cell_type": "code",
   "execution_count": null,
   "metadata": {
    "scrolled": false
   },
   "outputs": [],
   "source": [
    "df_desc.loc['BedroomAbvGr']"
   ]
  },
  {
   "cell_type": "code",
   "execution_count": null,
   "metadata": {},
   "outputs": [],
   "source": [
    "uni_var_analysis('BedroomAbvGr')"
   ]
  },
  {
   "cell_type": "code",
   "execution_count": null,
   "metadata": {},
   "outputs": [],
   "source": [
    "bi_var_analysis('BedroomAbvGr')"
   ]
  },
  {
   "cell_type": "markdown",
   "metadata": {},
   "source": [
    "#### KitchenAbvGr"
   ]
  },
  {
   "cell_type": "code",
   "execution_count": null,
   "metadata": {},
   "outputs": [],
   "source": [
    "uni_var_analysis('KitchenAbvGr')"
   ]
  },
  {
   "cell_type": "code",
   "execution_count": null,
   "metadata": {},
   "outputs": [],
   "source": [
    "bi_var_analysis('KitchenAbvGr')"
   ]
  },
  {
   "cell_type": "markdown",
   "metadata": {},
   "source": [
    "#### KitchenQual"
   ]
  },
  {
   "cell_type": "code",
   "execution_count": null,
   "metadata": {},
   "outputs": [],
   "source": [
    "uni_var_analysis('KitchenQual')"
   ]
  },
  {
   "cell_type": "code",
   "execution_count": null,
   "metadata": {},
   "outputs": [],
   "source": [
    "bi_var_analysis('KitchenQual')"
   ]
  },
  {
   "cell_type": "markdown",
   "metadata": {},
   "source": [
    "#### TotRmsAbvGrd"
   ]
  },
  {
   "cell_type": "code",
   "execution_count": null,
   "metadata": {},
   "outputs": [],
   "source": [
    "uni_var_analysis('TotRmsAbvGrd')"
   ]
  },
  {
   "cell_type": "code",
   "execution_count": null,
   "metadata": {},
   "outputs": [],
   "source": [
    "bi_var_analysis('TotRmsAbvGrd')"
   ]
  },
  {
   "cell_type": "markdown",
   "metadata": {},
   "source": [
    "#### Functional"
   ]
  },
  {
   "cell_type": "code",
   "execution_count": null,
   "metadata": {},
   "outputs": [],
   "source": [
    "uni_var_analysis('Functional')"
   ]
  },
  {
   "cell_type": "code",
   "execution_count": null,
   "metadata": {},
   "outputs": [],
   "source": [
    "bi_var_analysis('Functional')"
   ]
  },
  {
   "cell_type": "markdown",
   "metadata": {},
   "source": [
    "#### Fireplaces"
   ]
  },
  {
   "cell_type": "code",
   "execution_count": null,
   "metadata": {},
   "outputs": [],
   "source": [
    "uni_var_analysis('Fireplaces')"
   ]
  },
  {
   "cell_type": "code",
   "execution_count": null,
   "metadata": {},
   "outputs": [],
   "source": [
    "bi_var_analysis('Fireplaces')"
   ]
  },
  {
   "cell_type": "markdown",
   "metadata": {},
   "source": [
    "#### GarageType"
   ]
  },
  {
   "cell_type": "code",
   "execution_count": null,
   "metadata": {},
   "outputs": [],
   "source": [
    "uni_var_analysis('GarageType')"
   ]
  },
  {
   "cell_type": "code",
   "execution_count": null,
   "metadata": {},
   "outputs": [],
   "source": [
    "bi_var_analysis('GarageType')"
   ]
  },
  {
   "cell_type": "markdown",
   "metadata": {},
   "source": [
    "#### GarageYrBlt"
   ]
  },
  {
   "cell_type": "code",
   "execution_count": null,
   "metadata": {},
   "outputs": [],
   "source": [
    "uni_var_analysis('GarageYrBlt')"
   ]
  },
  {
   "cell_type": "code",
   "execution_count": null,
   "metadata": {},
   "outputs": [],
   "source": [
    "bi_var_analysis('GarageYrBlt')"
   ]
  },
  {
   "cell_type": "markdown",
   "metadata": {},
   "source": [
    "#### GarageFinish"
   ]
  },
  {
   "cell_type": "code",
   "execution_count": null,
   "metadata": {},
   "outputs": [],
   "source": [
    "uni_var_analysis('GarageFinish')"
   ]
  },
  {
   "cell_type": "code",
   "execution_count": null,
   "metadata": {},
   "outputs": [],
   "source": [
    "bi_var_analysis('GarageFinish')"
   ]
  },
  {
   "cell_type": "markdown",
   "metadata": {},
   "source": [
    "#### GarageCars"
   ]
  },
  {
   "cell_type": "code",
   "execution_count": null,
   "metadata": {},
   "outputs": [],
   "source": [
    "uni_var_analysis('GarageCars')"
   ]
  },
  {
   "cell_type": "code",
   "execution_count": null,
   "metadata": {},
   "outputs": [],
   "source": [
    "bi_var_analysis('GarageCars')"
   ]
  },
  {
   "cell_type": "markdown",
   "metadata": {},
   "source": [
    "#### GarageArea"
   ]
  },
  {
   "cell_type": "code",
   "execution_count": null,
   "metadata": {},
   "outputs": [],
   "source": [
    "uni_var_analysis('GarageArea')"
   ]
  },
  {
   "cell_type": "code",
   "execution_count": null,
   "metadata": {},
   "outputs": [],
   "source": [
    "bi_var_analysis('GarageArea')"
   ]
  },
  {
   "cell_type": "markdown",
   "metadata": {},
   "source": [
    "#### GarageQual"
   ]
  },
  {
   "cell_type": "code",
   "execution_count": null,
   "metadata": {},
   "outputs": [],
   "source": [
    "uni_var_analysis('GarageQual')"
   ]
  },
  {
   "cell_type": "code",
   "execution_count": null,
   "metadata": {},
   "outputs": [],
   "source": [
    "bi_var_analysis('GarageQual')"
   ]
  },
  {
   "cell_type": "markdown",
   "metadata": {},
   "source": [
    "#### GarageCond"
   ]
  },
  {
   "cell_type": "code",
   "execution_count": null,
   "metadata": {},
   "outputs": [],
   "source": [
    "uni_var_analysis('GarageCond')"
   ]
  },
  {
   "cell_type": "code",
   "execution_count": null,
   "metadata": {},
   "outputs": [],
   "source": [
    "bi_var_analysis('GarageCond')"
   ]
  },
  {
   "cell_type": "markdown",
   "metadata": {},
   "source": [
    "#### PavedDrive"
   ]
  },
  {
   "cell_type": "code",
   "execution_count": null,
   "metadata": {},
   "outputs": [],
   "source": [
    "uni_var_analysis('PavedDrive')"
   ]
  },
  {
   "cell_type": "code",
   "execution_count": null,
   "metadata": {},
   "outputs": [],
   "source": [
    "bi_var_analysis('PavedDrive')"
   ]
  },
  {
   "cell_type": "markdown",
   "metadata": {},
   "source": [
    "#### WoodDeckSF"
   ]
  },
  {
   "cell_type": "code",
   "execution_count": null,
   "metadata": {},
   "outputs": [],
   "source": [
    "uni_var_analysis('WoodDeckSF')"
   ]
  },
  {
   "cell_type": "code",
   "execution_count": null,
   "metadata": {},
   "outputs": [],
   "source": [
    "bi_var_analysis('WoodDeckSF')"
   ]
  },
  {
   "cell_type": "markdown",
   "metadata": {},
   "source": [
    "#### OpenPorchSF"
   ]
  },
  {
   "cell_type": "code",
   "execution_count": null,
   "metadata": {},
   "outputs": [],
   "source": [
    "uni_var_analysis('OpenPorchSF')"
   ]
  },
  {
   "cell_type": "code",
   "execution_count": null,
   "metadata": {},
   "outputs": [],
   "source": [
    "bi_var_analysis('OpenPorchSF')"
   ]
  },
  {
   "cell_type": "markdown",
   "metadata": {},
   "source": [
    "#### EnclosedPorch"
   ]
  },
  {
   "cell_type": "code",
   "execution_count": null,
   "metadata": {},
   "outputs": [],
   "source": [
    "uni_var_analysis('EnclosedPorch')"
   ]
  },
  {
   "cell_type": "code",
   "execution_count": null,
   "metadata": {},
   "outputs": [],
   "source": [
    "bi_var_analysis('EnclosedPorch')"
   ]
  },
  {
   "cell_type": "markdown",
   "metadata": {},
   "source": [
    "#### 3SsnPorch"
   ]
  },
  {
   "cell_type": "code",
   "execution_count": null,
   "metadata": {},
   "outputs": [],
   "source": [
    "uni_var_analysis('3SsnPorch')"
   ]
  },
  {
   "cell_type": "code",
   "execution_count": null,
   "metadata": {},
   "outputs": [],
   "source": [
    "bi_var_analysis('3SsnPorch')"
   ]
  },
  {
   "cell_type": "markdown",
   "metadata": {},
   "source": [
    "#### ScreenPorch"
   ]
  },
  {
   "cell_type": "code",
   "execution_count": null,
   "metadata": {},
   "outputs": [],
   "source": [
    "uni_var_analysis('ScreenPorch')"
   ]
  },
  {
   "cell_type": "code",
   "execution_count": null,
   "metadata": {},
   "outputs": [],
   "source": [
    "bi_var_analysis('ScreenPorch')"
   ]
  },
  {
   "cell_type": "markdown",
   "metadata": {},
   "source": [
    "#### PoolArea"
   ]
  },
  {
   "cell_type": "code",
   "execution_count": null,
   "metadata": {},
   "outputs": [],
   "source": [
    "uni_var_analysis('PoolArea')"
   ]
  },
  {
   "cell_type": "code",
   "execution_count": null,
   "metadata": {},
   "outputs": [],
   "source": [
    "bi_var_analysis('PoolArea')"
   ]
  },
  {
   "cell_type": "markdown",
   "metadata": {},
   "source": [
    "#### MiscVal"
   ]
  },
  {
   "cell_type": "code",
   "execution_count": null,
   "metadata": {},
   "outputs": [],
   "source": [
    "uni_var_analysis('MiscVal')"
   ]
  },
  {
   "cell_type": "code",
   "execution_count": null,
   "metadata": {},
   "outputs": [],
   "source": [
    "bi_var_analysis('MiscVal')"
   ]
  },
  {
   "cell_type": "markdown",
   "metadata": {},
   "source": [
    "#### MoSold"
   ]
  },
  {
   "cell_type": "code",
   "execution_count": null,
   "metadata": {},
   "outputs": [],
   "source": [
    "uni_var_analysis('MoSold')"
   ]
  },
  {
   "cell_type": "code",
   "execution_count": null,
   "metadata": {},
   "outputs": [],
   "source": [
    "bi_var_analysis('MoSold')"
   ]
  },
  {
   "cell_type": "markdown",
   "metadata": {},
   "source": [
    "#### YrSold"
   ]
  },
  {
   "cell_type": "code",
   "execution_count": null,
   "metadata": {},
   "outputs": [],
   "source": [
    "uni_var_analysis('YrSold')"
   ]
  },
  {
   "cell_type": "code",
   "execution_count": null,
   "metadata": {},
   "outputs": [],
   "source": [
    "bi_var_analysis('YrSold')"
   ]
  },
  {
   "cell_type": "markdown",
   "metadata": {},
   "source": [
    "#### SaleType"
   ]
  },
  {
   "cell_type": "code",
   "execution_count": null,
   "metadata": {},
   "outputs": [],
   "source": [
    "uni_var_analysis('SaleType')"
   ]
  },
  {
   "cell_type": "code",
   "execution_count": null,
   "metadata": {},
   "outputs": [],
   "source": [
    "bi_var_analysis('SaleType')"
   ]
  },
  {
   "cell_type": "markdown",
   "metadata": {},
   "source": [
    "#### SaleCondition"
   ]
  },
  {
   "cell_type": "code",
   "execution_count": null,
   "metadata": {},
   "outputs": [],
   "source": [
    "uni_var_analysis('SaleCondition')"
   ]
  },
  {
   "cell_type": "code",
   "execution_count": null,
   "metadata": {},
   "outputs": [],
   "source": [
    "bi_var_analysis('SaleCondition')"
   ]
  },
  {
   "cell_type": "markdown",
   "metadata": {},
   "source": [
    "#### Property_Sale_Price"
   ]
  },
  {
   "cell_type": "code",
   "execution_count": null,
   "metadata": {},
   "outputs": [],
   "source": [
    "uni_var_analysis('Property_Sale_Price')"
   ]
  },
  {
   "cell_type": "code",
   "execution_count": null,
   "metadata": {},
   "outputs": [],
   "source": [
    "bi_var_analysis('Property_Sale_Price')"
   ]
  },
  {
   "cell_type": "code",
   "execution_count": null,
   "metadata": {},
   "outputs": [],
   "source": [
    "plt.figure(figsize=(12,8))\n",
    "sns.heatmap(X_eda.corr(), vmin=-1)\n",
    "plt.savefig('plots/heatmap_of_all_numeric_features.png')"
   ]
  },
  {
   "cell_type": "code",
   "execution_count": null,
   "metadata": {},
   "outputs": [],
   "source": [
    "X_eda.corr().loc['Property_Sale_Price'].sort_values()"
   ]
  },
  {
   "cell_type": "code",
   "execution_count": null,
   "metadata": {},
   "outputs": [],
   "source": [
    "plt.figure(figsize=(10,10))\n",
    "sns.barplot(x=X_eda.corr().loc['Property_Sale_Price'].sort_values().values,\n",
    "            y=X_eda.corr().loc['Property_Sale_Price'].sort_values().index.values)\n",
    "plt.title('Correlation with dependent variable')\n",
    "plt.xlabel('Correlation')\n",
    "plt.savefig('plots/correlation_with_dependent_variable.png')"
   ]
  },
  {
   "cell_type": "code",
   "execution_count": null,
   "metadata": {},
   "outputs": [],
   "source": [
    "correlation"
   ]
  },
  {
   "cell_type": "code",
   "execution_count": null,
   "metadata": {},
   "outputs": [],
   "source": [
    "action"
   ]
  },
  {
   "cell_type": "markdown",
   "metadata": {},
   "source": [
    "### Model 1"
   ]
  },
  {
   "cell_type": "code",
   "execution_count": null,
   "metadata": {},
   "outputs": [],
   "source": [
    "num_cols = [col for col in X_train.columns if X_train[col].dtypes != 'O']\n",
    "num_cols"
   ]
  },
  {
   "cell_type": "code",
   "execution_count": null,
   "metadata": {},
   "outputs": [],
   "source": [
    "cat_cols = [col for col in X_train.columns if X_train[col].dtypes == 'O']\n",
    "cat_cols"
   ]
  },
  {
   "cell_type": "code",
   "execution_count": null,
   "metadata": {},
   "outputs": [],
   "source": []
  },
  {
   "cell_type": "code",
   "execution_count": null,
   "metadata": {},
   "outputs": [],
   "source": [
    "ct = ColumnTransformer([\n",
    "    ('num_scaling', RobustScaler(), num_cols),\n",
    "    ('cat_encoding', OneHotEncoder(sparse=False, handle_unknown='ignore'), cat_cols)\n",
    "])"
   ]
  },
  {
   "cell_type": "code",
   "execution_count": null,
   "metadata": {},
   "outputs": [],
   "source": [
    "x_train = ct.fit_transform(X_train)"
   ]
  },
  {
   "cell_type": "code",
   "execution_count": null,
   "metadata": {
    "scrolled": false
   },
   "outputs": [],
   "source": [
    "x_test = ct.transform(X_test)"
   ]
  },
  {
   "cell_type": "code",
   "execution_count": null,
   "metadata": {
    "scrolled": false
   },
   "outputs": [],
   "source": [
    "x_sm = x_train\n",
    "x_sm = sm.add_constant(x_sm)\n",
    "mlm = sm.OLS(y_train, x_sm).fit()\n",
    "print(mlm.summary())"
   ]
  },
  {
   "cell_type": "code",
   "execution_count": null,
   "metadata": {},
   "outputs": [],
   "source": [
    "models = {\n",
    "    'model no' : [],\n",
    "    'no of independent features' : [],\n",
    "    'r^2 value' : []\n",
    "}"
   ]
  },
  {
   "cell_type": "code",
   "execution_count": null,
   "metadata": {},
   "outputs": [],
   "source": [
    "from sklearn.linear_model import LinearRegression"
   ]
  },
  {
   "cell_type": "code",
   "execution_count": null,
   "metadata": {},
   "outputs": [],
   "source": [
    "lm = LinearRegression()\n",
    "lm.fit(x_train, y_train)"
   ]
  },
  {
   "cell_type": "code",
   "execution_count": null,
   "metadata": {},
   "outputs": [],
   "source": [
    "y_pred = lm.predict(x_test)"
   ]
  },
  {
   "cell_type": "code",
   "execution_count": null,
   "metadata": {},
   "outputs": [],
   "source": [
    "sns.distplot(y_test - y_pred)"
   ]
  },
  {
   "cell_type": "code",
   "execution_count": null,
   "metadata": {},
   "outputs": [],
   "source": [
    "lm.score(x_train,y_train)"
   ]
  },
  {
   "cell_type": "code",
   "execution_count": null,
   "metadata": {},
   "outputs": [],
   "source": [
    "# lm.score(x_test, y_test)"
   ]
  },
  {
   "cell_type": "code",
   "execution_count": null,
   "metadata": {},
   "outputs": [],
   "source": [
    "models['model no'].append(1)\n",
    "models['no of independent features'].append(x_train.shape[1])\n",
    "models['r^2 value'].append(lm.score(x_train,y_train))"
   ]
  },
  {
   "cell_type": "markdown",
   "metadata": {},
   "source": [
    "### Model 2"
   ]
  },
  {
   "cell_type": "code",
   "execution_count": null,
   "metadata": {},
   "outputs": [],
   "source": [
    "X_train.head()"
   ]
  },
  {
   "cell_type": "code",
   "execution_count": null,
   "metadata": {},
   "outputs": [],
   "source": [
    "X_test.head()"
   ]
  },
  {
   "cell_type": "code",
   "execution_count": null,
   "metadata": {},
   "outputs": [],
   "source": [
    "y_train.head()"
   ]
  },
  {
   "cell_type": "code",
   "execution_count": null,
   "metadata": {},
   "outputs": [],
   "source": [
    "y_test.head()"
   ]
  },
  {
   "cell_type": "code",
   "execution_count": null,
   "metadata": {},
   "outputs": [],
   "source": []
  },
  {
   "cell_type": "code",
   "execution_count": null,
   "metadata": {},
   "outputs": [],
   "source": [
    "\n",
    "col_to_drop = correlation['low(0-3)'].union(action['drop'])\n",
    "X_train_new = X_train.drop(col_to_drop, axis=1)\n",
    "X_test_new = X_test.drop(col_to_drop, axis=1)\n",
    "    \n",
    "col_to_power = []\n",
    "for col in action['power_t']:\n",
    "    if col not in col_to_drop:\n",
    "        col_to_power.append(col)\n",
    "            \n",
    "col_to_quantile = []\n",
    "for col in action['quantile_t']:\n",
    "    if col == 'Property_Sale_Price':\n",
    "        continue\n",
    "    elif col not in col_to_drop:\n",
    "        col_to_quantile.append(col)\n",
    "            \n",
    "col_to_ohe = []\n",
    "for col in action['one_hot']:\n",
    "    if col not in col_to_drop:\n",
    "        col_to_ohe.append(col)\n",
    "            \n",
    "col_tran = ColumnTransformer([\n",
    "    ('power_tran', PowerTransformer(), col_to_power),\n",
    "    ('quan_tran', QuantileTransformer(), col_to_quantile),\n",
    "    ('ohe', OneHotEncoder(sparse=False, handle_unknown='ignore'), col_to_ohe)\n",
    "])\n",
    "    \n",
    "X_train_trans = col_tran.fit_transform(X_train_new)\n",
    "X_test_trans = col_tran.transform(X_test_new)"
   ]
  },
  {
   "cell_type": "code",
   "execution_count": null,
   "metadata": {},
   "outputs": [],
   "source": [
    "lm2 = LinearRegression()\n",
    "lm2.fit(X_train_trans, y_train)"
   ]
  },
  {
   "cell_type": "code",
   "execution_count": null,
   "metadata": {},
   "outputs": [],
   "source": [
    "y_pred = lm2.predict(X_test_trans)"
   ]
  },
  {
   "cell_type": "code",
   "execution_count": null,
   "metadata": {},
   "outputs": [],
   "source": [
    "lm2.score(X_train_trans, y_train)"
   ]
  },
  {
   "cell_type": "code",
   "execution_count": null,
   "metadata": {},
   "outputs": [],
   "source": [
    "# lm2.score(X_test_trans, y_test)"
   ]
  },
  {
   "cell_type": "code",
   "execution_count": null,
   "metadata": {},
   "outputs": [],
   "source": [
    "models['model no'].append(2)\n",
    "models['no of independent features'].append(X_train_trans.shape[1])\n",
    "models['r^2 value'].append(lm2.score(X_train_trans, y_train))"
   ]
  },
  {
   "cell_type": "code",
   "execution_count": null,
   "metadata": {},
   "outputs": [],
   "source": [
    "model_comparison = pd.DataFrame(models)"
   ]
  },
  {
   "cell_type": "code",
   "execution_count": null,
   "metadata": {},
   "outputs": [],
   "source": [
    "model_comparison"
   ]
  },
  {
   "cell_type": "code",
   "execution_count": null,
   "metadata": {},
   "outputs": [],
   "source": []
  }
 ],
 "metadata": {
  "kernelspec": {
   "display_name": "Python 3",
   "language": "python",
   "name": "python3"
  },
  "language_info": {
   "codemirror_mode": {
    "name": "ipython",
    "version": 3
   },
   "file_extension": ".py",
   "mimetype": "text/x-python",
   "name": "python",
   "nbconvert_exporter": "python",
   "pygments_lexer": "ipython3",
   "version": "3.8.3"
  }
 },
 "nbformat": 4,
 "nbformat_minor": 4
}
